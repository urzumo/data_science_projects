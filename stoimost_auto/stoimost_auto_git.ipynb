{
 "cells": [
  {
   "cell_type": "markdown",
   "id": "64a1a42b",
   "metadata": {
    "toc": true
   },
   "source": [
    "<h1>Table of Contents<span class=\"tocSkip\"></span></h1>\n",
    "<div class=\"toc\"><ul class=\"toc-item\"><li><span><a href=\"#Описание-задачи\" data-toc-modified-id=\"Описание-задачи-1\"><span class=\"toc-item-num\">1&nbsp;&nbsp;</span>Описание задачи</a></span><ul class=\"toc-item\"><li><span><a href=\"#Постановка-задачи\" data-toc-modified-id=\"Постановка-задачи-1.1\"><span class=\"toc-item-num\">1.1&nbsp;&nbsp;</span>Постановка задачи</a></span></li><li><span><a href=\"#Ход-исполнения-задачи\" data-toc-modified-id=\"Ход-исполнения-задачи-1.2\"><span class=\"toc-item-num\">1.2&nbsp;&nbsp;</span>Ход исполнения задачи</a></span></li></ul></li><li><span><a href=\"#Обзор-данных\" data-toc-modified-id=\"Обзор-данных-2\"><span class=\"toc-item-num\">2&nbsp;&nbsp;</span>Обзор данных</a></span><ul class=\"toc-item\"><li><span><a href=\"#Загрузка-инструментов\" data-toc-modified-id=\"Загрузка-инструментов-2.1\"><span class=\"toc-item-num\">2.1&nbsp;&nbsp;</span>Загрузка инструментов</a></span></li><li><span><a href=\"#Описание-данных\" data-toc-modified-id=\"Описание-данных-2.2\"><span class=\"toc-item-num\">2.2&nbsp;&nbsp;</span>Описание данных</a></span></li><li><span><a href=\"#Загрузка-данных\" data-toc-modified-id=\"Загрузка-данных-2.3\"><span class=\"toc-item-num\">2.3&nbsp;&nbsp;</span>Загрузка данных</a></span></li></ul></li><li><span><a href=\"#Анализ-признаков\" data-toc-modified-id=\"Анализ-признаков-3\"><span class=\"toc-item-num\">3&nbsp;&nbsp;</span>Анализ признаков</a></span><ul class=\"toc-item\"><li><span><a href=\"#Явные-дубликаты\" data-toc-modified-id=\"Явные-дубликаты-3.1\"><span class=\"toc-item-num\">3.1&nbsp;&nbsp;</span>Явные дубликаты</a></span></li><li><span><a href=\"#Выделение-признаков\" data-toc-modified-id=\"Выделение-признаков-3.2\"><span class=\"toc-item-num\">3.2&nbsp;&nbsp;</span>Выделение признаков</a></span></li><li><span><a href=\"#Описание-признаков\" data-toc-modified-id=\"Описание-признаков-3.3\"><span class=\"toc-item-num\">3.3&nbsp;&nbsp;</span>Описание признаков</a></span><ul class=\"toc-item\"><li><span><a href=\"#Числовые-признаки\" data-toc-modified-id=\"Числовые-признаки-3.3.1\"><span class=\"toc-item-num\">3.3.1&nbsp;&nbsp;</span>Числовые признаки</a></span></li><li><span><a href=\"#Категорийные-признаки\" data-toc-modified-id=\"Категорийные-признаки-3.3.2\"><span class=\"toc-item-num\">3.3.2&nbsp;&nbsp;</span>Категорийные признаки</a></span></li><li><span><a href=\"#Выводы\" data-toc-modified-id=\"Выводы-3.3.3\"><span class=\"toc-item-num\">3.3.3&nbsp;&nbsp;</span>Выводы</a></span></li></ul></li><li><span><a href=\"#Очистка-набора-данных\" data-toc-modified-id=\"Очистка-набора-данных-3.4\"><span class=\"toc-item-num\">3.4&nbsp;&nbsp;</span>Очистка набора данных</a></span></li></ul></li><li><span><a href=\"#Модели\" data-toc-modified-id=\"Модели-4\"><span class=\"toc-item-num\">4&nbsp;&nbsp;</span>Модели</a></span><ul class=\"toc-item\"><li><span><a href=\"#Технический-раздел\" data-toc-modified-id=\"Технический-раздел-4.1\"><span class=\"toc-item-num\">4.1&nbsp;&nbsp;</span>Технический раздел</a></span></li><li><span><a href=\"#Модели\" data-toc-modified-id=\"Модели-4.2\"><span class=\"toc-item-num\">4.2&nbsp;&nbsp;</span>Модели</a></span><ul class=\"toc-item\"><li><span><a href=\"#Линейная-регрессия\" data-toc-modified-id=\"Линейная-регрессия-4.2.1\"><span class=\"toc-item-num\">4.2.1&nbsp;&nbsp;</span>Линейная регрессия</a></span></li><li><span><a href=\"#Lightgbm\" data-toc-modified-id=\"Lightgbm-4.2.2\"><span class=\"toc-item-num\">4.2.2&nbsp;&nbsp;</span>Lightgbm</a></span></li><li><span><a href=\"#Catboost\" data-toc-modified-id=\"Catboost-4.2.3\"><span class=\"toc-item-num\">4.2.3&nbsp;&nbsp;</span>Catboost</a></span></li></ul></li></ul></li><li><span><a href=\"#Анализ-моделей\" data-toc-modified-id=\"Анализ-моделей-5\"><span class=\"toc-item-num\">5&nbsp;&nbsp;</span>Анализ моделей</a></span></li><li><span><a href=\"#Выводы\" data-toc-modified-id=\"Выводы-6\"><span class=\"toc-item-num\">6&nbsp;&nbsp;</span>Выводы</a></span></li></ul></div>"
   ]
  },
  {
   "cell_type": "markdown",
   "id": "3818edb0",
   "metadata": {},
   "source": [
    "# ОПРЕДЕЛЕНИЕ СТОИМОСТИ АВТОМОБИЛЕЙ"
   ]
  },
  {
   "cell_type": "markdown",
   "id": "58393235",
   "metadata": {},
   "source": [
    "## Описание задачи"
   ]
  },
  {
   "cell_type": "markdown",
   "id": "0f6ef3f6",
   "metadata": {},
   "source": [
    "### Постановка задачи"
   ]
  },
  {
   "cell_type": "markdown",
   "id": "4d8b7459",
   "metadata": {},
   "source": [
    "Сервис по продаже автомобилей с пробегом «Не бит, не крашен» разрабатывает приложение для привлечения новых клиентов. В нём можно быстро узнать рыночную стоимость своего автомобиля. В вашем распоряжении исторические данные: технические характеристики, комплектации и цены автомобилей. Вам нужно построить модель для определения стоимости.\n",
    "\n",
    "Заказчику важны:\n",
    "- качество предсказания;\n",
    "- скорость предсказания;\n",
    "- время обучения."
   ]
  },
  {
   "cell_type": "markdown",
   "id": "4c8f8c8f",
   "metadata": {},
   "source": [
    "### Ход исполнения задачи"
   ]
  },
  {
   "cell_type": "markdown",
   "id": "a8edaafb",
   "metadata": {},
   "source": [
    "Для всестороннего исследования, используем ряд простых моделей. Иногда они работают лучше. Это редкие случаи, которые легко пропустить, если всегда применять только бустинг. Поэкспериментируем и сравним характеристики моделей: скорость работы, точность результата.\n",
    "\n",
    "**Для выполнения проекта необходимо:**\n",
    "1. Загрузить и подготовить данные.\n",
    "2. Обучить разные модели. Для каждой попробовать различные гиперпараметры.\n",
    "3. Проанализировать скорость работы и качество моделей.\n",
    "\n",
    "**Примечания:**\n",
    "1. Для оценки качества моделей использовать метрику RMSE."
   ]
  },
  {
   "cell_type": "markdown",
   "id": "2fe58082",
   "metadata": {},
   "source": [
    "## Обзор данных"
   ]
  },
  {
   "cell_type": "markdown",
   "id": "5ba78781",
   "metadata": {},
   "source": [
    "### Загрузка инструментов"
   ]
  },
  {
   "cell_type": "code",
   "execution_count": 1,
   "id": "ec15e3c6",
   "metadata": {
    "scrolled": true
   },
   "outputs": [
    {
     "name": "stdout",
     "output_type": "stream",
     "text": [
      "Requirement already satisfied: lightgbm in c:\\users\\1\\anaconda3\\envs\\praktikum\\lib\\site-packages (3.3.2)\n",
      "Requirement already satisfied: scipy in c:\\users\\1\\anaconda3\\envs\\praktikum\\lib\\site-packages (from lightgbm) (1.7.1)\n",
      "Requirement already satisfied: numpy in c:\\users\\1\\anaconda3\\envs\\praktikum\\lib\\site-packages (from lightgbm) (1.21.2)\n",
      "Requirement already satisfied: wheel in c:\\users\\1\\anaconda3\\envs\\praktikum\\lib\\site-packages (from lightgbm) (0.37.0)\n",
      "Requirement already satisfied: scikit-learn!=0.22.0 in c:\\users\\1\\anaconda3\\envs\\praktikum\\lib\\site-packages (from lightgbm) (1.0.1)\n",
      "Requirement already satisfied: joblib>=0.11 in c:\\users\\1\\anaconda3\\envs\\praktikum\\lib\\site-packages (from scikit-learn!=0.22.0->lightgbm) (1.0.1)\n",
      "Requirement already satisfied: threadpoolctl>=2.0.0 in c:\\users\\1\\anaconda3\\envs\\praktikum\\lib\\site-packages (from scikit-learn!=0.22.0->lightgbm) (2.2.0)\n",
      "Requirement already satisfied: catboost in c:\\users\\1\\anaconda3\\envs\\praktikum\\lib\\site-packages (1.0.4)\n",
      "Requirement already satisfied: graphviz in c:\\users\\1\\anaconda3\\envs\\praktikum\\lib\\site-packages (from catboost) (0.19.1)\n",
      "Requirement already satisfied: numpy>=1.16.0 in c:\\users\\1\\anaconda3\\envs\\praktikum\\lib\\site-packages (from catboost) (1.21.2)\n",
      "Requirement already satisfied: plotly in c:\\users\\1\\anaconda3\\envs\\praktikum\\lib\\site-packages (from catboost) (4.1.0)\n",
      "Requirement already satisfied: six in c:\\users\\1\\anaconda3\\envs\\praktikum\\lib\\site-packages (from catboost) (1.16.0)\n",
      "Requirement already satisfied: scipy in c:\\users\\1\\anaconda3\\envs\\praktikum\\lib\\site-packages (from catboost) (1.7.1)\n",
      "Requirement already satisfied: pandas>=0.24.0 in c:\\users\\1\\anaconda3\\envs\\praktikum\\lib\\site-packages (from catboost) (1.3.3)\n",
      "Requirement already satisfied: matplotlib in c:\\users\\1\\anaconda3\\envs\\praktikum\\lib\\site-packages (from catboost) (3.4.3)\n",
      "Requirement already satisfied: python-dateutil>=2.7.3 in c:\\users\\1\\anaconda3\\envs\\praktikum\\lib\\site-packages (from pandas>=0.24.0->catboost) (2.8.2)\n",
      "Requirement already satisfied: pytz>=2017.3 in c:\\users\\1\\anaconda3\\envs\\praktikum\\lib\\site-packages (from pandas>=0.24.0->catboost) (2021.3)\n",
      "Requirement already satisfied: pillow>=6.2.0 in c:\\users\\1\\anaconda3\\envs\\praktikum\\lib\\site-packages (from matplotlib->catboost) (8.4.0)\n",
      "Requirement already satisfied: kiwisolver>=1.0.1 in c:\\users\\1\\anaconda3\\envs\\praktikum\\lib\\site-packages (from matplotlib->catboost) (1.3.1)\n",
      "Requirement already satisfied: cycler>=0.10 in c:\\users\\1\\anaconda3\\envs\\praktikum\\lib\\site-packages (from matplotlib->catboost) (0.10.0)\n",
      "Requirement already satisfied: pyparsing>=2.2.1 in c:\\users\\1\\anaconda3\\envs\\praktikum\\lib\\site-packages (from matplotlib->catboost) (2.4.7)\n",
      "Requirement already satisfied: retrying>=1.3.3 in c:\\users\\1\\anaconda3\\envs\\praktikum\\lib\\site-packages (from plotly->catboost) (1.3.3)\n"
     ]
    }
   ],
   "source": [
    "# установим необходимые библиотеки\n",
    "!pip install lightgbm\n",
    "!pip install catboost"
   ]
  },
  {
   "cell_type": "code",
   "execution_count": 2,
   "id": "adb91770",
   "metadata": {},
   "outputs": [
    {
     "name": "stderr",
     "output_type": "stream",
     "text": [
      "In C:\\Users\\1\\anaconda3\\envs\\praktikum\\lib\\site-packages\\matplotlib\\mpl-data\\stylelib\\_classic_test.mplstyle: \n",
      "The text.latex.preview rcparam was deprecated in Matplotlib 3.3 and will be removed two minor releases later.\n",
      "In C:\\Users\\1\\anaconda3\\envs\\praktikum\\lib\\site-packages\\matplotlib\\mpl-data\\stylelib\\_classic_test.mplstyle: \n",
      "The mathtext.fallback_to_cm rcparam was deprecated in Matplotlib 3.3 and will be removed two minor releases later.\n",
      "In C:\\Users\\1\\anaconda3\\envs\\praktikum\\lib\\site-packages\\matplotlib\\mpl-data\\stylelib\\_classic_test.mplstyle: Support for setting the 'mathtext.fallback_to_cm' rcParam is deprecated since 3.3 and will be removed two minor releases later; use 'mathtext.fallback : 'cm' instead.\n",
      "In C:\\Users\\1\\anaconda3\\envs\\praktikum\\lib\\site-packages\\matplotlib\\mpl-data\\stylelib\\_classic_test.mplstyle: \n",
      "The validate_bool_maybe_none function was deprecated in Matplotlib 3.3 and will be removed two minor releases later.\n",
      "In C:\\Users\\1\\anaconda3\\envs\\praktikum\\lib\\site-packages\\matplotlib\\mpl-data\\stylelib\\_classic_test.mplstyle: \n",
      "The savefig.jpeg_quality rcparam was deprecated in Matplotlib 3.3 and will be removed two minor releases later.\n",
      "In C:\\Users\\1\\anaconda3\\envs\\praktikum\\lib\\site-packages\\matplotlib\\mpl-data\\stylelib\\_classic_test.mplstyle: \n",
      "The keymap.all_axes rcparam was deprecated in Matplotlib 3.3 and will be removed two minor releases later.\n",
      "In C:\\Users\\1\\anaconda3\\envs\\praktikum\\lib\\site-packages\\matplotlib\\mpl-data\\stylelib\\_classic_test.mplstyle: \n",
      "The animation.avconv_path rcparam was deprecated in Matplotlib 3.3 and will be removed two minor releases later.\n",
      "In C:\\Users\\1\\anaconda3\\envs\\praktikum\\lib\\site-packages\\matplotlib\\mpl-data\\stylelib\\_classic_test.mplstyle: \n",
      "The animation.avconv_args rcparam was deprecated in Matplotlib 3.3 and will be removed two minor releases later.\n"
     ]
    }
   ],
   "source": [
    "# загрузим необходимые библиотеки\n",
    "import pandas as pd\n",
    "import numpy as np\n",
    "import matplotlib.pyplot as plt\n",
    "import seaborn as sns\n",
    "from scipy import stats as st\n",
    "\n",
    "# загрузим модели\n",
    "from sklearn.linear_model import LinearRegression\n",
    "from sklearn.ensemble import RandomForestRegressor\n",
    "import lightgbm as lgb\n",
    "from catboost import Pool, CatBoostRegressor\n",
    "\n",
    "# импорт метрик\n",
    "from sklearn.metrics import mean_squared_error, make_scorer\n",
    "\n",
    "# импорт утилит\n",
    "from sklearn.model_selection import train_test_split\n",
    "from sklearn.model_selection import GridSearchCV\n",
    "from sklearn.model_selection import cross_validate\n",
    "import time\n",
    "\n",
    "# импорт классов и пайплайнов\n",
    "from sklearn.pipeline import Pipeline\n",
    "from sklearn import set_config\n",
    "from sklearn.preprocessing import OneHotEncoder\n",
    "from sklearn.preprocessing import StandardScaler\n",
    "from sklearn.impute import SimpleImputer\n",
    "from sklearn.compose import ColumnTransformer"
   ]
  },
  {
   "cell_type": "code",
   "execution_count": 3,
   "id": "3edbb69f",
   "metadata": {},
   "outputs": [],
   "source": [
    "# установим общие параметры для тетради\n",
    "# оформление графиков\n",
    "sns.set()\n",
    "\n",
    "# вывод pipeline\n",
    "set_config(display='diagram')\n",
    "\n",
    "# отключаем предупреждения\n",
    "import warnings\n",
    "warnings.filterwarnings('ignore')"
   ]
  },
  {
   "cell_type": "markdown",
   "id": "8a80dfbc",
   "metadata": {},
   "source": [
    "### Описание данных"
   ]
  },
  {
   "cell_type": "markdown",
   "id": "8fc87545",
   "metadata": {},
   "source": [
    "Описание данных предоставлено заказчиком.\n",
    "\n",
    "**Признаки:**\n",
    "- DateCrawled — дата скачивания анкеты из базы\n",
    "- VehicleType — тип автомобильного кузова\n",
    "- RegistrationYear — год регистрации автомобиля\n",
    "- Gearbox — тип коробки передач\n",
    "- Power — мощность (л. с.)\n",
    "- Model — модель автомобиля\n",
    "- Kilometer — пробег (км)\n",
    "- RegistrationMonth — месяц регистрации автомобиля\n",
    "- FuelType — тип топлива\n",
    "- Brand — марка автомобиля\n",
    "- NotRepaired — была машина в ремонте или нет\n",
    "- DateCreated — дата создания анкеты\n",
    "- NumberOfPictures — количество фотографий автомобиля\n",
    "- PostalCode — почтовый индекс владельца анкеты (пользователя)\n",
    "- LastSeen — дата последней активности пользователя\n",
    "\n",
    "**Целевой признак:**\n",
    "- Price — цена (евро)"
   ]
  },
  {
   "cell_type": "markdown",
   "id": "644b7dbd",
   "metadata": {},
   "source": [
    "**Итоги:**\n",
    "\n",
    "Следующие колонки содержат даты совершения действий: `DateCrawled`, `RegistrationYear`, `DateCreated`, `LastSeen`."
   ]
  },
  {
   "cell_type": "markdown",
   "id": "4f7de237",
   "metadata": {},
   "source": [
    "### Загрузка данных"
   ]
  },
  {
   "cell_type": "code",
   "execution_count": 4,
   "id": "7caf88b0",
   "metadata": {},
   "outputs": [],
   "source": [
    "# читаем файл и сохраняем в переменные дальнейшей работы, в том числе изменений\n",
    "# используем оператор обработки исключений, чтобы избежать ошибки, при открытии данных,\n",
    "# расположенных по другому адресу \n",
    "try: \n",
    "    df = pd.read_csv('/datasets/autos.csv', \n",
    "                     parse_dates=['DateCrawled', 'DateCreated', 'LastSeen'])\n",
    "except:\n",
    "    df = pd.read_csv('datasets/autos.csv', \n",
    "                     parse_dates=['DateCrawled', 'DateCreated', 'LastSeen'])\n",
    "    \n",
    "# создадим дополнительные переменные, для контроля изменений    \n",
    "try: \n",
    "    df_ctrl = pd.read_csv('/datasets/autos.csv', \n",
    "                          parse_dates=['DateCrawled', 'DateCreated', 'LastSeen'])\n",
    "except:\n",
    "    df_ctrl = pd.read_csv('datasets/autos.csv', \n",
    "                          parse_dates=['DateCrawled', 'DateCreated', 'LastSeen'])"
   ]
  },
  {
   "cell_type": "code",
   "execution_count": 5,
   "id": "cd9004de",
   "metadata": {},
   "outputs": [
    {
     "data": {
      "text/html": [
       "<div>\n",
       "<style scoped>\n",
       "    .dataframe tbody tr th:only-of-type {\n",
       "        vertical-align: middle;\n",
       "    }\n",
       "\n",
       "    .dataframe tbody tr th {\n",
       "        vertical-align: top;\n",
       "    }\n",
       "\n",
       "    .dataframe thead th {\n",
       "        text-align: right;\n",
       "    }\n",
       "</style>\n",
       "<table border=\"1\" class=\"dataframe\">\n",
       "  <thead>\n",
       "    <tr style=\"text-align: right;\">\n",
       "      <th></th>\n",
       "      <th>DateCrawled</th>\n",
       "      <th>Price</th>\n",
       "      <th>VehicleType</th>\n",
       "      <th>RegistrationYear</th>\n",
       "      <th>Gearbox</th>\n",
       "      <th>Power</th>\n",
       "      <th>Model</th>\n",
       "      <th>Kilometer</th>\n",
       "      <th>RegistrationMonth</th>\n",
       "      <th>FuelType</th>\n",
       "      <th>Brand</th>\n",
       "      <th>NotRepaired</th>\n",
       "      <th>DateCreated</th>\n",
       "      <th>NumberOfPictures</th>\n",
       "      <th>PostalCode</th>\n",
       "      <th>LastSeen</th>\n",
       "    </tr>\n",
       "  </thead>\n",
       "  <tbody>\n",
       "    <tr>\n",
       "      <th>294049</th>\n",
       "      <td>2016-03-20 20:54:33</td>\n",
       "      <td>19999</td>\n",
       "      <td>wagon</td>\n",
       "      <td>2014</td>\n",
       "      <td>manual</td>\n",
       "      <td>122</td>\n",
       "      <td>leon</td>\n",
       "      <td>30000</td>\n",
       "      <td>3</td>\n",
       "      <td>petrol</td>\n",
       "      <td>seat</td>\n",
       "      <td>no</td>\n",
       "      <td>2016-03-20</td>\n",
       "      <td>0</td>\n",
       "      <td>22089</td>\n",
       "      <td>2016-03-27 10:47:13</td>\n",
       "    </tr>\n",
       "    <tr>\n",
       "      <th>76415</th>\n",
       "      <td>2016-03-25 12:56:02</td>\n",
       "      <td>14250</td>\n",
       "      <td>wagon</td>\n",
       "      <td>2011</td>\n",
       "      <td>manual</td>\n",
       "      <td>140</td>\n",
       "      <td>a3</td>\n",
       "      <td>70000</td>\n",
       "      <td>6</td>\n",
       "      <td>gasoline</td>\n",
       "      <td>audi</td>\n",
       "      <td>NaN</td>\n",
       "      <td>2016-03-25</td>\n",
       "      <td>0</td>\n",
       "      <td>45770</td>\n",
       "      <td>2016-03-29 11:48:26</td>\n",
       "    </tr>\n",
       "    <tr>\n",
       "      <th>212563</th>\n",
       "      <td>2016-03-09 13:46:02</td>\n",
       "      <td>2850</td>\n",
       "      <td>wagon</td>\n",
       "      <td>2001</td>\n",
       "      <td>manual</td>\n",
       "      <td>131</td>\n",
       "      <td>passat</td>\n",
       "      <td>150000</td>\n",
       "      <td>9</td>\n",
       "      <td>gasoline</td>\n",
       "      <td>volkswagen</td>\n",
       "      <td>no</td>\n",
       "      <td>2016-03-09</td>\n",
       "      <td>0</td>\n",
       "      <td>38259</td>\n",
       "      <td>2016-03-12 11:16:57</td>\n",
       "    </tr>\n",
       "    <tr>\n",
       "      <th>109307</th>\n",
       "      <td>2016-03-30 11:39:47</td>\n",
       "      <td>50</td>\n",
       "      <td>small</td>\n",
       "      <td>1996</td>\n",
       "      <td>manual</td>\n",
       "      <td>60</td>\n",
       "      <td>corsa</td>\n",
       "      <td>150000</td>\n",
       "      <td>8</td>\n",
       "      <td>petrol</td>\n",
       "      <td>opel</td>\n",
       "      <td>yes</td>\n",
       "      <td>2016-03-30</td>\n",
       "      <td>0</td>\n",
       "      <td>7957</td>\n",
       "      <td>2016-04-03 00:46:29</td>\n",
       "    </tr>\n",
       "    <tr>\n",
       "      <th>248545</th>\n",
       "      <td>2016-03-28 23:37:54</td>\n",
       "      <td>500</td>\n",
       "      <td>NaN</td>\n",
       "      <td>2016</td>\n",
       "      <td>manual</td>\n",
       "      <td>82</td>\n",
       "      <td>a_klasse</td>\n",
       "      <td>150000</td>\n",
       "      <td>2</td>\n",
       "      <td>petrol</td>\n",
       "      <td>mercedes_benz</td>\n",
       "      <td>NaN</td>\n",
       "      <td>2016-03-28</td>\n",
       "      <td>0</td>\n",
       "      <td>49356</td>\n",
       "      <td>2016-03-30 23:17:28</td>\n",
       "    </tr>\n",
       "  </tbody>\n",
       "</table>\n",
       "</div>"
      ],
      "text/plain": [
       "               DateCrawled  Price VehicleType  RegistrationYear Gearbox  \\\n",
       "294049 2016-03-20 20:54:33  19999       wagon              2014  manual   \n",
       "76415  2016-03-25 12:56:02  14250       wagon              2011  manual   \n",
       "212563 2016-03-09 13:46:02   2850       wagon              2001  manual   \n",
       "109307 2016-03-30 11:39:47     50       small              1996  manual   \n",
       "248545 2016-03-28 23:37:54    500         NaN              2016  manual   \n",
       "\n",
       "        Power     Model  Kilometer  RegistrationMonth  FuelType  \\\n",
       "294049    122      leon      30000                  3    petrol   \n",
       "76415     140        a3      70000                  6  gasoline   \n",
       "212563    131    passat     150000                  9  gasoline   \n",
       "109307     60     corsa     150000                  8    petrol   \n",
       "248545     82  a_klasse     150000                  2    petrol   \n",
       "\n",
       "                Brand NotRepaired DateCreated  NumberOfPictures  PostalCode  \\\n",
       "294049           seat          no  2016-03-20                 0       22089   \n",
       "76415            audi         NaN  2016-03-25                 0       45770   \n",
       "212563     volkswagen          no  2016-03-09                 0       38259   \n",
       "109307           opel         yes  2016-03-30                 0        7957   \n",
       "248545  mercedes_benz         NaN  2016-03-28                 0       49356   \n",
       "\n",
       "                  LastSeen  \n",
       "294049 2016-03-27 10:47:13  \n",
       "76415  2016-03-29 11:48:26  \n",
       "212563 2016-03-12 11:16:57  \n",
       "109307 2016-04-03 00:46:29  \n",
       "248545 2016-03-30 23:17:28  "
      ]
     },
     "execution_count": 5,
     "metadata": {},
     "output_type": "execute_result"
    }
   ],
   "source": [
    "# проверим работу данных\n",
    "df.sample(5, random_state=42)"
   ]
  },
  {
   "cell_type": "markdown",
   "id": "fc2870e0",
   "metadata": {},
   "source": [
    "Изучим данные более внимательно."
   ]
  },
  {
   "cell_type": "code",
   "execution_count": 6,
   "id": "d2031345",
   "metadata": {},
   "outputs": [],
   "source": [
    "def informator(df, name=False):\n",
    "    if name:\n",
    "        print('\\033[1m' + f'Исследуем датасет {name}' + '\\033[0m')\n",
    "    df.info()\n",
    "    print('='*45)\n",
    "    print('\\033[1m' + 'Количество явных дубликатов: ' + '\\033[0m', df.duplicated().sum())\n",
    "    print('='*45)\n",
    "    print()\n",
    "    \n",
    "    null_list = []\n",
    "    for inx, column in enumerate(df):\n",
    "        null_count = df[df.columns[inx]].isna().sum()\n",
    "        print('\\033[1m' + f'Исследуем колонку {df.columns[inx]}' + '\\033[0m')\n",
    "        print('\\033[1m' + 'Количество пропусков: ' + '\\033[0m', null_count)\n",
    "        if null_count > 0:\n",
    "            null_list.append(df.columns[inx])\n",
    "        print('=' * 45)\n",
    "        print()\n",
    "    print('\\033[1m' + 'Колонки с пропусками:' + '\\033[0m', null_list)\n",
    "    return null_list"
   ]
  },
  {
   "cell_type": "code",
   "execution_count": 7,
   "id": "a0af3800",
   "metadata": {
    "scrolled": true
   },
   "outputs": [
    {
     "name": "stdout",
     "output_type": "stream",
     "text": [
      "\u001b[1mИсследуем датасет df\u001b[0m\n",
      "<class 'pandas.core.frame.DataFrame'>\n",
      "RangeIndex: 354369 entries, 0 to 354368\n",
      "Data columns (total 16 columns):\n",
      " #   Column             Non-Null Count   Dtype         \n",
      "---  ------             --------------   -----         \n",
      " 0   DateCrawled        354369 non-null  datetime64[ns]\n",
      " 1   Price              354369 non-null  int64         \n",
      " 2   VehicleType        316879 non-null  object        \n",
      " 3   RegistrationYear   354369 non-null  int64         \n",
      " 4   Gearbox            334536 non-null  object        \n",
      " 5   Power              354369 non-null  int64         \n",
      " 6   Model              334664 non-null  object        \n",
      " 7   Kilometer          354369 non-null  int64         \n",
      " 8   RegistrationMonth  354369 non-null  int64         \n",
      " 9   FuelType           321474 non-null  object        \n",
      " 10  Brand              354369 non-null  object        \n",
      " 11  NotRepaired        283215 non-null  object        \n",
      " 12  DateCreated        354369 non-null  datetime64[ns]\n",
      " 13  NumberOfPictures   354369 non-null  int64         \n",
      " 14  PostalCode         354369 non-null  int64         \n",
      " 15  LastSeen           354369 non-null  datetime64[ns]\n",
      "dtypes: datetime64[ns](3), int64(7), object(6)\n",
      "memory usage: 43.3+ MB\n",
      "=============================================\n",
      "\u001b[1mКоличество явных дубликатов: \u001b[0m 4\n",
      "=============================================\n",
      "\n",
      "\u001b[1mИсследуем колонку DateCrawled\u001b[0m\n",
      "\u001b[1mКоличество пропусков: \u001b[0m 0\n",
      "=============================================\n",
      "\n",
      "\u001b[1mИсследуем колонку Price\u001b[0m\n",
      "\u001b[1mКоличество пропусков: \u001b[0m 0\n",
      "=============================================\n",
      "\n",
      "\u001b[1mИсследуем колонку VehicleType\u001b[0m\n",
      "\u001b[1mКоличество пропусков: \u001b[0m 37490\n",
      "=============================================\n",
      "\n",
      "\u001b[1mИсследуем колонку RegistrationYear\u001b[0m\n",
      "\u001b[1mКоличество пропусков: \u001b[0m 0\n",
      "=============================================\n",
      "\n",
      "\u001b[1mИсследуем колонку Gearbox\u001b[0m\n",
      "\u001b[1mКоличество пропусков: \u001b[0m 19833\n",
      "=============================================\n",
      "\n",
      "\u001b[1mИсследуем колонку Power\u001b[0m\n",
      "\u001b[1mКоличество пропусков: \u001b[0m 0\n",
      "=============================================\n",
      "\n",
      "\u001b[1mИсследуем колонку Model\u001b[0m\n",
      "\u001b[1mКоличество пропусков: \u001b[0m 19705\n",
      "=============================================\n",
      "\n",
      "\u001b[1mИсследуем колонку Kilometer\u001b[0m\n",
      "\u001b[1mКоличество пропусков: \u001b[0m 0\n",
      "=============================================\n",
      "\n",
      "\u001b[1mИсследуем колонку RegistrationMonth\u001b[0m\n",
      "\u001b[1mКоличество пропусков: \u001b[0m 0\n",
      "=============================================\n",
      "\n",
      "\u001b[1mИсследуем колонку FuelType\u001b[0m\n",
      "\u001b[1mКоличество пропусков: \u001b[0m 32895\n",
      "=============================================\n",
      "\n",
      "\u001b[1mИсследуем колонку Brand\u001b[0m\n",
      "\u001b[1mКоличество пропусков: \u001b[0m 0\n",
      "=============================================\n",
      "\n",
      "\u001b[1mИсследуем колонку NotRepaired\u001b[0m\n",
      "\u001b[1mКоличество пропусков: \u001b[0m 71154\n",
      "=============================================\n",
      "\n",
      "\u001b[1mИсследуем колонку DateCreated\u001b[0m\n",
      "\u001b[1mКоличество пропусков: \u001b[0m 0\n",
      "=============================================\n",
      "\n",
      "\u001b[1mИсследуем колонку NumberOfPictures\u001b[0m\n",
      "\u001b[1mКоличество пропусков: \u001b[0m 0\n",
      "=============================================\n",
      "\n",
      "\u001b[1mИсследуем колонку PostalCode\u001b[0m\n",
      "\u001b[1mКоличество пропусков: \u001b[0m 0\n",
      "=============================================\n",
      "\n",
      "\u001b[1mИсследуем колонку LastSeen\u001b[0m\n",
      "\u001b[1mКоличество пропусков: \u001b[0m 0\n",
      "=============================================\n",
      "\n",
      "\u001b[1mКолонки с пропусками:\u001b[0m ['VehicleType', 'Gearbox', 'Model', 'FuelType', 'NotRepaired']\n"
     ]
    },
    {
     "data": {
      "text/plain": [
       "['VehicleType', 'Gearbox', 'Model', 'FuelType', 'NotRepaired']"
      ]
     },
     "execution_count": 7,
     "metadata": {},
     "output_type": "execute_result"
    }
   ],
   "source": [
    "informator(df, 'df')"
   ]
  },
  {
   "cell_type": "markdown",
   "id": "9629bd1c",
   "metadata": {},
   "source": [
    "**Итоги:**\n",
    "1. Имеются пропуски в колонках `VehicleType`, `Gearbox`, `Model`, `FuelType`, `NotRepaired`. Тип данных для всех этих колонок object. Поэтому стоит заменить пропуски на `unknown`, это не помешает работе моделей.\n",
    "2. Тип данных (int64) не соответствует содержанию (date) колонки: `RegistrationYear`, что намеренно оставленно в таком формате, для целей МО."
   ]
  },
  {
   "cell_type": "code",
   "execution_count": 8,
   "id": "5de580c1",
   "metadata": {},
   "outputs": [],
   "source": [
    "filter = ['VehicleType', 'Gearbox', 'Model', 'FuelType', 'NotRepaired']\n",
    "df[filter] = df[filter].fillna('unknown')"
   ]
  },
  {
   "cell_type": "code",
   "execution_count": 9,
   "id": "663996eb",
   "metadata": {},
   "outputs": [
    {
     "data": {
      "text/plain": [
       "DateCrawled          0\n",
       "Price                0\n",
       "VehicleType          0\n",
       "RegistrationYear     0\n",
       "Gearbox              0\n",
       "Power                0\n",
       "Model                0\n",
       "Kilometer            0\n",
       "RegistrationMonth    0\n",
       "FuelType             0\n",
       "Brand                0\n",
       "NotRepaired          0\n",
       "DateCreated          0\n",
       "NumberOfPictures     0\n",
       "PostalCode           0\n",
       "LastSeen             0\n",
       "dtype: int64"
      ]
     },
     "execution_count": 9,
     "metadata": {},
     "output_type": "execute_result"
    }
   ],
   "source": [
    "# проверим результаты\n",
    "df.isna().sum()"
   ]
  },
  {
   "cell_type": "markdown",
   "id": "4de1f8bf",
   "metadata": {},
   "source": [
    "## Анализ признаков"
   ]
  },
  {
   "cell_type": "markdown",
   "id": "0282d731",
   "metadata": {},
   "source": [
    "### Явные дубликаты"
   ]
  },
  {
   "cell_type": "code",
   "execution_count": 10,
   "id": "c924365c",
   "metadata": {},
   "outputs": [
    {
     "data": {
      "text/plain": [
       "45040"
      ]
     },
     "execution_count": 10,
     "metadata": {},
     "output_type": "execute_result"
    }
   ],
   "source": [
    "# исключим колонки, которые не повлияют на обучение модели\n",
    "filter = ['DateCrawled', 'RegistrationMonth', 'DateCreated', \n",
    "        'NumberOfPictures', 'PostalCode', 'LastSeen']\n",
    "df.drop(filter, axis=1).duplicated().sum()"
   ]
  },
  {
   "cell_type": "markdown",
   "id": "e6243e78",
   "metadata": {},
   "source": [
    "У нас большое количество дубликатов. Очистим от них датасет."
   ]
  },
  {
   "cell_type": "code",
   "execution_count": 11,
   "id": "f71ba8a8",
   "metadata": {},
   "outputs": [],
   "source": [
    "df = df[~df.drop(filter, axis=1).duplicated()]"
   ]
  },
  {
   "cell_type": "code",
   "execution_count": 12,
   "id": "894c0b94",
   "metadata": {},
   "outputs": [
    {
     "name": "stdout",
     "output_type": "stream",
     "text": [
      "Количество дубликатов после удаления: 0\n"
     ]
    }
   ],
   "source": [
    "# проверим результат\n",
    "print('Количество дубликатов после удаления:', df.duplicated().sum())"
   ]
  },
  {
   "cell_type": "markdown",
   "id": "a24a49a4",
   "metadata": {},
   "source": [
    "### Выделение признаков"
   ]
  },
  {
   "cell_type": "markdown",
   "id": "ea209eed",
   "metadata": {},
   "source": [
    "Избавимся от признаков, не влияющих на ценообразование: `DateCrawled`, `DateCreated`, `PostalCode`, `LastSeen`. Первые четыре - являются признаками пользователя, что нас не интересует.  \n",
    "\n",
    "При этом `RegistrationMonth` может показаться не нужным, но фактически, он отмечает возраст авто - ведь авто, поставленные на учет в конце года имеют меньший срок эксплуатации, чем авто, поставленные на учет в начале года."
   ]
  },
  {
   "cell_type": "code",
   "execution_count": 13,
   "id": "3c65e96b",
   "metadata": {},
   "outputs": [],
   "source": [
    "df = df.drop(columns=['DateCrawled', 'DateCreated', 'PostalCode', 'LastSeen'])"
   ]
  },
  {
   "cell_type": "markdown",
   "id": "21603ed5",
   "metadata": {},
   "source": [
    "Подготовим признаки и целевой признак."
   ]
  },
  {
   "cell_type": "code",
   "execution_count": 14,
   "id": "5c1e2dfd",
   "metadata": {},
   "outputs": [],
   "source": [
    "features = df.columns.drop('Price')\n",
    "target = ['Price']"
   ]
  },
  {
   "cell_type": "markdown",
   "id": "fa068cb0",
   "metadata": {},
   "source": [
    "Выделим цифровые и категорийные признаки для целей их исследования."
   ]
  },
  {
   "cell_type": "code",
   "execution_count": 15,
   "id": "3a49dc82",
   "metadata": {},
   "outputs": [],
   "source": [
    "num_features = ['RegistrationYear', 'Power', 'Kilometer', 'NumberOfPictures', 'RegistrationMonth']\n",
    "cat_features = features.drop(num_features)"
   ]
  },
  {
   "cell_type": "markdown",
   "id": "94bce756",
   "metadata": {},
   "source": [
    "**Итоги:**\n",
    "\n",
    "Подготовили категории признаков для МО."
   ]
  },
  {
   "cell_type": "markdown",
   "id": "6fa2481d",
   "metadata": {},
   "source": [
    "### Описание признаков"
   ]
  },
  {
   "cell_type": "markdown",
   "id": "e2016261",
   "metadata": {},
   "source": [
    "#### Числовые признаки"
   ]
  },
  {
   "cell_type": "markdown",
   "id": "721ad644",
   "metadata": {},
   "source": [
    "Изучим описание и распределение всех признаков."
   ]
  },
  {
   "cell_type": "code",
   "execution_count": 16,
   "id": "b8dc0984",
   "metadata": {},
   "outputs": [],
   "source": [
    "def visualisator(data, target=False, spearman=False):\n",
    "    # выведем описание\n",
    "    print('\\033[1m' + 'ОПИСАНИЕ ПРИЗНАКОВ' + '\\033[0m')\n",
    "    display(data.describe())\n",
    "    print()\n",
    "    \n",
    "    # визуализируем распределение\n",
    "    print('\\033[1m' + 'РАСПРЕДЕЛЕНИЕ ПРИЗНАКОВ' + '\\033[0m')\n",
    "    data.hist(\n",
    "        bins=50, figsize=(20,15), \n",
    "        color='r', edgecolor='black', \n",
    "        linewidth=1\n",
    "    )\n",
    "    plt.show()\n",
    "    print()\n",
    "    \n",
    "    # нарисуем heatmap корреляции по коэффициенту Пирсона\n",
    "    plt.figure(figsize = (15,15))\n",
    "    plt.title(f'Корреляция признаков', fontsize=18)\n",
    "    sns.heatmap(\n",
    "        data.corr(), square=True, \n",
    "        annot=True, linewidths=1, \n",
    "        fmt='.3f', linecolor='gray',\n",
    "        vmin=-1, vmax=1,\n",
    "        cmap='seismic'\n",
    "    )\n",
    "    plt.show()    \n",
    "    \n",
    "    # посчитаем корреляцию Спирмена\n",
    "    if spearman:\n",
    "        num_data = data[spearman]\n",
    "        for inx, column in enumerate(num_data):\n",
    "            print(f'Корреляция Спирмена для столбца {num_data.columns[inx]} и целевого признака {target}')\n",
    "            print(st.spearmanr(np.array(num_data[column]), np.array(data[target]), nan_policy='omit'))\n",
    "            print('='*45)\n",
    "            print()    "
   ]
  },
  {
   "cell_type": "code",
   "execution_count": 17,
   "id": "a4751d27",
   "metadata": {
    "scrolled": false
   },
   "outputs": [
    {
     "name": "stdout",
     "output_type": "stream",
     "text": [
      "\u001b[1mОПИСАНИЕ ПРИЗНАКОВ\u001b[0m\n"
     ]
    },
    {
     "data": {
      "text/html": [
       "<div>\n",
       "<style scoped>\n",
       "    .dataframe tbody tr th:only-of-type {\n",
       "        vertical-align: middle;\n",
       "    }\n",
       "\n",
       "    .dataframe tbody tr th {\n",
       "        vertical-align: top;\n",
       "    }\n",
       "\n",
       "    .dataframe thead th {\n",
       "        text-align: right;\n",
       "    }\n",
       "</style>\n",
       "<table border=\"1\" class=\"dataframe\">\n",
       "  <thead>\n",
       "    <tr style=\"text-align: right;\">\n",
       "      <th></th>\n",
       "      <th>Price</th>\n",
       "      <th>RegistrationYear</th>\n",
       "      <th>Power</th>\n",
       "      <th>Kilometer</th>\n",
       "      <th>RegistrationMonth</th>\n",
       "      <th>NumberOfPictures</th>\n",
       "    </tr>\n",
       "  </thead>\n",
       "  <tbody>\n",
       "    <tr>\n",
       "      <th>count</th>\n",
       "      <td>309329.000000</td>\n",
       "      <td>309329.000000</td>\n",
       "      <td>309329.000000</td>\n",
       "      <td>309329.000000</td>\n",
       "      <td>309329.000000</td>\n",
       "      <td>309329.0</td>\n",
       "    </tr>\n",
       "    <tr>\n",
       "      <th>mean</th>\n",
       "      <td>4486.937196</td>\n",
       "      <td>2004.360105</td>\n",
       "      <td>110.976908</td>\n",
       "      <td>127217.735809</td>\n",
       "      <td>5.677457</td>\n",
       "      <td>0.0</td>\n",
       "    </tr>\n",
       "    <tr>\n",
       "      <th>std</th>\n",
       "      <td>4564.852796</td>\n",
       "      <td>92.541399</td>\n",
       "      <td>200.969473</td>\n",
       "      <td>38532.941010</td>\n",
       "      <td>3.732881</td>\n",
       "      <td>0.0</td>\n",
       "    </tr>\n",
       "    <tr>\n",
       "      <th>min</th>\n",
       "      <td>0.000000</td>\n",
       "      <td>1000.000000</td>\n",
       "      <td>0.000000</td>\n",
       "      <td>5000.000000</td>\n",
       "      <td>0.000000</td>\n",
       "      <td>0.0</td>\n",
       "    </tr>\n",
       "    <tr>\n",
       "      <th>25%</th>\n",
       "      <td>1100.000000</td>\n",
       "      <td>1999.000000</td>\n",
       "      <td>69.000000</td>\n",
       "      <td>125000.000000</td>\n",
       "      <td>3.000000</td>\n",
       "      <td>0.0</td>\n",
       "    </tr>\n",
       "    <tr>\n",
       "      <th>50%</th>\n",
       "      <td>2800.000000</td>\n",
       "      <td>2003.000000</td>\n",
       "      <td>105.000000</td>\n",
       "      <td>150000.000000</td>\n",
       "      <td>6.000000</td>\n",
       "      <td>0.0</td>\n",
       "    </tr>\n",
       "    <tr>\n",
       "      <th>75%</th>\n",
       "      <td>6500.000000</td>\n",
       "      <td>2008.000000</td>\n",
       "      <td>143.000000</td>\n",
       "      <td>150000.000000</td>\n",
       "      <td>9.000000</td>\n",
       "      <td>0.0</td>\n",
       "    </tr>\n",
       "    <tr>\n",
       "      <th>max</th>\n",
       "      <td>20000.000000</td>\n",
       "      <td>9999.000000</td>\n",
       "      <td>20000.000000</td>\n",
       "      <td>150000.000000</td>\n",
       "      <td>12.000000</td>\n",
       "      <td>0.0</td>\n",
       "    </tr>\n",
       "  </tbody>\n",
       "</table>\n",
       "</div>"
      ],
      "text/plain": [
       "               Price  RegistrationYear          Power      Kilometer  \\\n",
       "count  309329.000000     309329.000000  309329.000000  309329.000000   \n",
       "mean     4486.937196       2004.360105     110.976908  127217.735809   \n",
       "std      4564.852796         92.541399     200.969473   38532.941010   \n",
       "min         0.000000       1000.000000       0.000000    5000.000000   \n",
       "25%      1100.000000       1999.000000      69.000000  125000.000000   \n",
       "50%      2800.000000       2003.000000     105.000000  150000.000000   \n",
       "75%      6500.000000       2008.000000     143.000000  150000.000000   \n",
       "max     20000.000000       9999.000000   20000.000000  150000.000000   \n",
       "\n",
       "       RegistrationMonth  NumberOfPictures  \n",
       "count      309329.000000          309329.0  \n",
       "mean            5.677457               0.0  \n",
       "std             3.732881               0.0  \n",
       "min             0.000000               0.0  \n",
       "25%             3.000000               0.0  \n",
       "50%             6.000000               0.0  \n",
       "75%             9.000000               0.0  \n",
       "max            12.000000               0.0  "
      ]
     },
     "metadata": {},
     "output_type": "display_data"
    },
    {
     "name": "stdout",
     "output_type": "stream",
     "text": [
      "\n",
      "\u001b[1mРАСПРЕДЕЛЕНИЕ ПРИЗНАКОВ\u001b[0m\n"
     ]
    },
    {
     "data": {
      "image/png": "[encoded data removed]",
      "text/plain": [
       "<Figure size 1440x1080 with 6 Axes>"
      ]
     },
     "metadata": {},
     "output_type": "display_data"
    },
    {
     "name": "stdout",
     "output_type": "stream",
     "text": [
      "\n"
     ]
    },
    {
     "data": {
      "image/png": "[encoded data removed]",
      "text/plain": [
       "<Figure size 1080x1080 with 2 Axes>"
      ]
     },
     "metadata": {},
     "output_type": "display_data"
    },
    {
     "name": "stdout",
     "output_type": "stream",
     "text": [
      "Корреляция Спирмена для столбца RegistrationYear и целевого признака Price\n",
      "SpearmanrResult(correlation=0.5345483351827897, pvalue=0.0)\n",
      "=============================================\n",
      "\n",
      "Корреляция Спирмена для столбца Power и целевого признака Price\n",
      "SpearmanrResult(correlation=0.5008573940193927, pvalue=0.0)\n",
      "=============================================\n",
      "\n",
      "Корреляция Спирмена для столбца Kilometer и целевого признака Price\n",
      "SpearmanrResult(correlation=-0.30975533807474115, pvalue=0.0)\n",
      "=============================================\n",
      "\n",
      "Корреляция Спирмена для столбца NumberOfPictures и целевого признака Price\n",
      "SpearmanrResult(correlation=nan, pvalue=nan)\n",
      "=============================================\n",
      "\n",
      "Корреляция Спирмена для столбца RegistrationMonth и целевого признака Price\n",
      "SpearmanrResult(correlation=0.15705445559522996, pvalue=0.0)\n",
      "=============================================\n",
      "\n"
     ]
    }
   ],
   "source": [
    "visualisator(df, 'Price', num_features)"
   ]
  },
  {
   "cell_type": "markdown",
   "id": "4682007e",
   "metadata": {},
   "source": [
    "**Итоги:**\n",
    "\n",
    "1. В датасете содержится большое количество аномальных выбросов, искажающих практически все цифровые признаки.\n",
    "2. Признак `NumberOfPictures` содержит только нулевые значения и может быть удален.\n",
    "3. Как мы видим, оставить признак `RegistrationMonth` было хорошим решением - он имеет корреляцию с целевым признаком (меньшую, чем год, что очевидно).\n",
    "4. По распределению признака `Kilometer` можно сделать очевидный вывод - что на сайте продаются подержанные автомобили. \n",
    "5. Распределение признака `Price` вызывает вопросы - точнее его левый экстремум. Цена в 0 евро является очевидной ошибкой и может повлиять на оценку работы модели. "
   ]
  },
  {
   "cell_type": "markdown",
   "id": "74079347",
   "metadata": {},
   "source": [
    "#### Категорийные признаки"
   ]
  },
  {
   "cell_type": "code",
   "execution_count": 18,
   "id": "9655cdcd",
   "metadata": {
    "scrolled": true
   },
   "outputs": [
    {
     "name": "stdout",
     "output_type": "stream",
     "text": [
      "\u001b[1mИсследуем колонку VehicleType\u001b[0m\n",
      "sedan          78206\n",
      "small          67548\n",
      "wagon          56367\n",
      "unknown        34559\n",
      "bus            25830\n",
      "convertible    18195\n",
      "coupe          14690\n",
      "suv            10776\n",
      "other           3158\n",
      "Name: VehicleType, dtype: int64\n",
      "=============================================\n",
      "\n",
      "\u001b[1mИсследуем колонку Gearbox\u001b[0m\n",
      "manual     232774\n",
      "auto        59348\n",
      "unknown     17207\n",
      "Name: Gearbox, dtype: int64\n",
      "=============================================\n",
      "\n",
      "\u001b[1mИсследуем колонку Model\u001b[0m\n",
      "golf                  23639\n",
      "other                 22934\n",
      "unknown               18361\n",
      "3er                   16700\n",
      "polo                  10494\n",
      "                      ...  \n",
      "kalina                    7\n",
      "rangerover                4\n",
      "serie_3                   4\n",
      "serie_1                   2\n",
      "range_rover_evoque        1\n",
      "Name: Model, Length: 251, dtype: int64\n",
      "=============================================\n",
      "\n",
      "\u001b[1mИсследуем колонку FuelType\u001b[0m\n",
      "petrol      187848\n",
      "gasoline     84794\n",
      "unknown      30764\n",
      "lpg           4888\n",
      "cng            524\n",
      "hybrid         222\n",
      "other          200\n",
      "electric        89\n",
      "Name: FuelType, dtype: int64\n",
      "=============================================\n",
      "\n",
      "\u001b[1mИсследуем колонку Brand\u001b[0m\n",
      "volkswagen        63907\n",
      "opel              33957\n",
      "bmw               31716\n",
      "mercedes_benz     28696\n",
      "audi              25470\n",
      "ford              22400\n",
      "renault           15798\n",
      "peugeot            9808\n",
      "fiat               8675\n",
      "seat               6188\n",
      "mazda              5113\n",
      "skoda              4967\n",
      "smart              4823\n",
      "citroen            4798\n",
      "nissan             4489\n",
      "toyota             4248\n",
      "hyundai            3295\n",
      "sonstige_autos     2931\n",
      "volvo              2907\n",
      "mini               2866\n",
      "mitsubishi         2812\n",
      "honda              2637\n",
      "kia                2247\n",
      "suzuki             2158\n",
      "alfa_romeo         2142\n",
      "chevrolet          1648\n",
      "chrysler           1352\n",
      "dacia               830\n",
      "daihatsu            752\n",
      "subaru              726\n",
      "porsche             699\n",
      "jeep                639\n",
      "trabant             555\n",
      "daewoo              508\n",
      "land_rover          507\n",
      "saab                484\n",
      "jaguar              479\n",
      "rover               449\n",
      "lancia              443\n",
      "lada                210\n",
      "Name: Brand, dtype: int64\n",
      "=============================================\n",
      "\n",
      "\u001b[1mИсследуем колонку NotRepaired\u001b[0m\n",
      "no         211328\n",
      "unknown     64558\n",
      "yes         33443\n",
      "Name: NotRepaired, dtype: int64\n",
      "=============================================\n",
      "\n"
     ]
    }
   ],
   "source": [
    "for inx, column in enumerate(df[cat_features]):\n",
    "    print('\\033[1m' + f'Исследуем колонку {df[cat_features].columns[inx]}' + '\\033[0m')\n",
    "    print(df[column].value_counts())\n",
    "    print('='*45)\n",
    "    print()"
   ]
  },
  {
   "cell_type": "markdown",
   "id": "53af8b69",
   "metadata": {},
   "source": [
    "**Итоги:**\n",
    "\n",
    "Из представленного анализа видно, какие заполняются вручную пользователями (`Model`), а какие колонки заполняются на сайте путем выпадающего списка (все остальные). Столбец `Model` стоит удалить для простых моделей."
   ]
  },
  {
   "cell_type": "markdown",
   "id": "daf30b2d",
   "metadata": {},
   "source": [
    "#### Выводы"
   ]
  },
  {
   "cell_type": "markdown",
   "id": "3b81908d",
   "metadata": {},
   "source": [
    "По результатам предварительного исследования признаков, можно сделть вывод о большой зашумленности даты. Что свидетельствует о прямой выгрузке из базы данных сайта. Естественно, это повлияет на результаты оценки работы моделей. В связи с чем, можно предпринять следующие шаги:\n",
    "\n",
    "1. Подготовим два дата-сета: очищенный (теоретически - наиболее приближенный к достоверной цене) и полный (теоретически - наиболее приближенный к практической ценности для бизнеса, учитывающий реальные данные) и посмотрим как модели поведут себя на них.\n",
    "2. Уведомим заказчика о сложившейся проблеме при формировании данных. Для более точных прогнозов необходимо пересмотреть систему формирования на сайте."
   ]
  },
  {
   "cell_type": "markdown",
   "id": "d8b14a8f",
   "metadata": {},
   "source": [
    "### Очистка набора данных"
   ]
  },
  {
   "cell_type": "markdown",
   "id": "f39ba43d",
   "metadata": {},
   "source": [
    "<a id='s1'></a>\n",
    "**Логика очистки**\n",
    "\n",
    "Необходимо отметить, что из-за отсутсвия возможности уточнить у заказчика необходимые требования к датасету, было принято решение создать два: очищенный и полный. При этом, даже очищенный будет подвергаться легкой обработке - на экстремумы/1% выбросы. В связи с тем, что необходимо прогнозировать работу модели в реальных условиях, а не идеальных. А судя по представленным заказчиком данным, их зашумление вряд ли уменьшится."
   ]
  },
  {
   "cell_type": "markdown",
   "id": "580b6c5e",
   "metadata": {},
   "source": [
    "Сперва удалим столбец `NumberOfPictures` (напомним, он содержит только 0 значения).\n",
    "Также удалим все наблюдения, содержащие нулевую цену."
   ]
  },
  {
   "cell_type": "code",
   "execution_count": 19,
   "id": "e8cd74a1",
   "metadata": {},
   "outputs": [],
   "source": [
    "df = df.drop(columns='NumberOfPictures')"
   ]
  },
  {
   "cell_type": "code",
   "execution_count": 20,
   "id": "d3465034",
   "metadata": {},
   "outputs": [
    {
     "name": "stdout",
     "output_type": "stream",
     "text": [
      "Количество наблюдений с нулевой ценой: 8904\n"
     ]
    }
   ],
   "source": [
    "print('Количество наблюдений с нулевой ценой:', len(df.query('Price==0')))\n",
    "df = df.query('Price > 0')"
   ]
  },
  {
   "cell_type": "code",
   "execution_count": 21,
   "id": "45b143fc",
   "metadata": {
    "scrolled": true
   },
   "outputs": [
    {
     "name": "stdout",
     "output_type": "stream",
     "text": [
      "Количество наблюдений с ценой в 100.0: 3316\n"
     ]
    }
   ],
   "source": [
    "filter = df['Price'].quantile(0.01)\n",
    "print(f'Количество наблюдений с ценой в {filter}:', len(df.query('Price <=100')))\n",
    "df = df.query('Price >= 100')"
   ]
  },
  {
   "cell_type": "code",
   "execution_count": 22,
   "id": "4c75dff7",
   "metadata": {},
   "outputs": [],
   "source": [
    "# обновим числовую категорию признаков\n",
    "num_features = ['RegistrationYear', 'Power', 'Kilometer', 'RegistrationMonth']"
   ]
  },
  {
   "cell_type": "markdown",
   "id": "a74c24cb",
   "metadata": {},
   "source": [
    "Создадим очищенный датасет, чтобы использовать его в дальнейшем."
   ]
  },
  {
   "cell_type": "code",
   "execution_count": 23,
   "id": "7e410039",
   "metadata": {},
   "outputs": [],
   "source": [
    "df_clnd = df.copy()"
   ]
  },
  {
   "cell_type": "markdown",
   "id": "347a747e",
   "metadata": {},
   "source": [
    "Напишем класс для поиска и обработки выбросов."
   ]
  },
  {
   "cell_type": "code",
   "execution_count": 24,
   "id": "04f15e5f",
   "metadata": {},
   "outputs": [],
   "source": [
    "class SpikeEstimator():\n",
    "    def __init__(self):\n",
    "        pass\n",
    "    \n",
    "    def boxplot_slave(self, data, name, xlim = None, ylim = None):\n",
    "        '''\n",
    "        boxplot_slave принимает данные в параметр data и возвращает боксплот;\n",
    "        name используется для разметки и принимает название исследуемого признака.\n",
    "        xlim и ylim используются для масштабирования графика, ограничивая его оси\n",
    "        и принимают кортеж (tuple) из двух цифр (начало и конец ограничения)\n",
    "        '''\n",
    "        # выведем описание данных\n",
    "        print('\\033[1m' + f'Описание признака {name}:' + '\\033[0m')\n",
    "        print(data.describe())\n",
    "        print('=' * 45)\n",
    "        \n",
    "        # построим боксплот\n",
    "        box = plt.boxplot(\n",
    "            x=data, vert=False, \n",
    "            patch_artist=True, notch=True\n",
    "        )\n",
    "        fig = plt.gcf()\n",
    "        fig.set_size_inches(15, 8)\n",
    "        if xlim is not None:\n",
    "            plt.xlim(xlim)\n",
    "        if ylim is not None:\n",
    "            plt.ylim(ylim)\n",
    "        plt.title(\n",
    "            f'Боксплот признака {name}', \n",
    "            fontsize=14\n",
    "        )\n",
    "        plt.show()\n",
    "        \n",
    "        # выведем его минимальные и максимальные значения\n",
    "        Q1 = data.quantile(0.25)\n",
    "        Q3 = data.quantile(0.75)\n",
    "        IQR = Q3 - Q1\n",
    "        self.lower_fence = Q1 - (1.5 * IQR)\n",
    "        self.upper_fence = Q3 + (1.5 * IQR)\n",
    "        print('\\033[1m' + f'Пороговые значения боксплота {name}:' + '\\033[0m')\n",
    "        print('Нижняя граница значений:', self.lower_fence)\n",
    "        print('Верхняя граница значений:', self.upper_fence)\n",
    "        print()\n",
    "        print()\n",
    "        \n",
    "    def loss_estimator(self, data, feature_name, lower_fence_clean = False, upper_fence_clean = False):\n",
    "        '''\n",
    "        loss_estimator принимает в параметры:\n",
    "        feature_name - наименование признака;\n",
    "        data - наименование датасета, в котором производится обработка (df_clnd по умолчанию);\n",
    "        lower_fence - нижний порог значения признака, \n",
    "        после которого все значения отбрасываются (False по умолчанию);\n",
    "        upper_fence - верхний порог значения признака,\n",
    "        после которого все значения отбрасываются (False по умолчанию),\n",
    "        после чего отфильтровывает переданный датасет (data), по указанным значениям,\n",
    "        возвращает его и статистику изменения значений.\n",
    "        '''\n",
    "        print('\\033[1m' + f'Очищаем признак {feature_name}:' + '\\033[0m')\n",
    "        before = len(data[feature_name])\n",
    "        Q1 = data[feature_name].quantile(0.25)\n",
    "        Q3 = data[feature_name].quantile(0.75)\n",
    "        IQR = Q3 - Q1\n",
    "        self.lower_fence_filter = Q1 - (1.5 * IQR)\n",
    "        self.upper_fence_filter = Q3 + (1.5 * IQR)\n",
    "        \n",
    "        # блок очистки по выбросам\n",
    "        if lower_fence_clean:\n",
    "            data = data[data[feature_name] >= self.lower_fence_filter]\n",
    "        else:\n",
    "            print('Выбросы по нижнему порогу не очищались')\n",
    "        if upper_fence_clean:\n",
    "            data = data[data[feature_name] <= self.upper_fence_filter]\n",
    "        else:\n",
    "            print('Выбросы по верхнему порогу не очищались')\n",
    "            \n",
    "        after = len(data)\n",
    "        print(f'Исходное количество наблюдений {before}')\n",
    "        print(f'Количество наблюдений уменьшилось на {1-after/before:.2%} по сравнению с предыдущей версией датасета.')\n",
    "        print(f'Количество наблюдений уменьшилось на {1-after/len(df):.2%} по сравнению с оригинальным датасетом.')\n",
    "        print(f'Итоговое количество наблюдений {after}')\n",
    "        return data"
   ]
  },
  {
   "cell_type": "markdown",
   "id": "1449b4c7",
   "metadata": {},
   "source": [
    "<div class=\"alert alert-block alert-success\">\n",
    "<b>Успех:</b> Хорошие помощники, приятно видеть, что ты не забываешь о докумментации\n",
    "</div>"
   ]
  },
  {
   "cell_type": "code",
   "execution_count": 25,
   "id": "281eca48",
   "metadata": {},
   "outputs": [],
   "source": [
    "spike_master = SpikeEstimator()"
   ]
  },
  {
   "cell_type": "code",
   "execution_count": 26,
   "id": "9d5213d0",
   "metadata": {},
   "outputs": [
    {
     "name": "stdout",
     "output_type": "stream",
     "text": [
      "\u001b[1mОписание признака RegistrationYear:\u001b[0m\n",
      "count    298048.000000\n",
      "mean       2004.089710\n",
      "std          73.711931\n",
      "min        1000.000000\n",
      "25%        1999.000000\n",
      "50%        2003.000000\n",
      "75%        2008.000000\n",
      "max        9999.000000\n",
      "Name: RegistrationYear, dtype: float64\n",
      "=============================================\n"
     ]
    },
    {
     "data": {
      "image/png": "[encoded data removed]",
      "text/plain": [
       "<Figure size 1080x576 with 1 Axes>"
      ]
     },
     "metadata": {},
     "output_type": "display_data"
    },
    {
     "name": "stdout",
     "output_type": "stream",
     "text": [
      "\u001b[1mПороговые значения боксплота RegistrationYear:\u001b[0m\n",
      "Нижняя граница значений: 1985.5\n",
      "Верхняя граница значений: 2021.5\n",
      "\n",
      "\n",
      "=============================================\n",
      "\n",
      "\u001b[1mОписание признака Power:\u001b[0m\n",
      "count    298048.000000\n",
      "mean        112.146648\n",
      "std         199.304518\n",
      "min           0.000000\n",
      "25%          70.000000\n",
      "50%         105.000000\n",
      "75%         143.000000\n",
      "max       20000.000000\n",
      "Name: Power, dtype: float64\n",
      "=============================================\n"
     ]
    },
    {
     "data": {
      "image/png": "[encoded data removed]",
      "text/plain": [
       "<Figure size 1080x576 with 1 Axes>"
      ]
     },
     "metadata": {},
     "output_type": "display_data"
    },
    {
     "name": "stdout",
     "output_type": "stream",
     "text": [
      "\u001b[1mПороговые значения боксплота Power:\u001b[0m\n",
      "Нижняя граница значений: -39.5\n",
      "Верхняя граница значений: 252.5\n",
      "\n",
      "\n",
      "=============================================\n",
      "\n",
      "\u001b[1mОписание признака Kilometer:\u001b[0m\n",
      "count    298048.00000\n",
      "mean     127466.80065\n",
      "std       37945.68475\n",
      "min        5000.00000\n",
      "25%      125000.00000\n",
      "50%      150000.00000\n",
      "75%      150000.00000\n",
      "max      150000.00000\n",
      "Name: Kilometer, dtype: float64\n",
      "=============================================\n"
     ]
    },
    {
     "data": {
      "image/png": "[encoded data removed]",
      "text/plain": [
       "<Figure size 1080x576 with 1 Axes>"
      ]
     },
     "metadata": {},
     "output_type": "display_data"
    },
    {
     "name": "stdout",
     "output_type": "stream",
     "text": [
      "\u001b[1mПороговые значения боксплота Kilometer:\u001b[0m\n",
      "Нижняя граница значений: 87500.0\n",
      "Верхняя граница значений: 187500.0\n",
      "\n",
      "\n",
      "=============================================\n",
      "\n",
      "\u001b[1mОписание признака RegistrationMonth:\u001b[0m\n",
      "count    298048.000000\n",
      "mean          5.755046\n",
      "std           3.699681\n",
      "min           0.000000\n",
      "25%           3.000000\n",
      "50%           6.000000\n",
      "75%           9.000000\n",
      "max          12.000000\n",
      "Name: RegistrationMonth, dtype: float64\n",
      "=============================================\n"
     ]
    },
    {
     "data": {
      "image/png": "[encoded data removed]",
      "text/plain": [
       "<Figure size 1080x576 with 1 Axes>"
      ]
     },
     "metadata": {},
     "output_type": "display_data"
    },
    {
     "name": "stdout",
     "output_type": "stream",
     "text": [
      "\u001b[1mПороговые значения боксплота RegistrationMonth:\u001b[0m\n",
      "Нижняя граница значений: -6.0\n",
      "Верхняя граница значений: 18.0\n",
      "\n",
      "\n",
      "=============================================\n",
      "\n"
     ]
    }
   ],
   "source": [
    "for inx, column in enumerate(df[num_features]):\n",
    "    spike_master.boxplot_slave(df[column], df[num_features].columns[inx])\n",
    "    print('='*45)\n",
    "    print()"
   ]
  },
  {
   "cell_type": "code",
   "execution_count": 27,
   "id": "f8a0b328",
   "metadata": {},
   "outputs": [
    {
     "name": "stdout",
     "output_type": "stream",
     "text": [
      "\u001b[1mОчищаем признак RegistrationYear:\u001b[0m\n",
      "Исходное количество наблюдений 298048\n",
      "Количество наблюдений уменьшилось на 1.79% по сравнению с предыдущей версией датасета.\n",
      "Количество наблюдений уменьшилось на 1.79% по сравнению с оригинальным датасетом.\n",
      "Итоговое количество наблюдений 292704\n",
      "=============================================\n",
      "\n",
      "\u001b[1mОчищаем признак Power:\u001b[0m\n",
      "Исходное количество наблюдений 292704\n",
      "Количество наблюдений уменьшилось на 2.43% по сравнению с предыдущей версией датасета.\n",
      "Количество наблюдений уменьшилось на 4.18% по сравнению с оригинальным датасетом.\n",
      "Итоговое количество наблюдений 285585\n",
      "=============================================\n",
      "\n",
      "\u001b[1mОчищаем признак Kilometer:\u001b[0m\n",
      "Исходное количество наблюдений 285585\n",
      "Количество наблюдений уменьшилось на 15.30% по сравнению с предыдущей версией датасета.\n",
      "Количество наблюдений уменьшилось на 18.84% по сравнению с оригинальным датасетом.\n",
      "Итоговое количество наблюдений 241899\n",
      "=============================================\n",
      "\n",
      "\u001b[1mОчищаем признак RegistrationMonth:\u001b[0m\n",
      "Исходное количество наблюдений 241899\n",
      "Количество наблюдений уменьшилось на 0.00% по сравнению с предыдущей версией датасета.\n",
      "Количество наблюдений уменьшилось на 18.84% по сравнению с оригинальным датасетом.\n",
      "Итоговое количество наблюдений 241899\n",
      "=============================================\n",
      "\n"
     ]
    }
   ],
   "source": [
    "for inx, column in enumerate(df_clnd[num_features]):\n",
    "    df_clnd=spike_master.loss_estimator(df_clnd, df_clnd[num_features].columns[inx], lower_fence_clean = True, upper_fence_clean = True)\n",
    "    print('='*45)\n",
    "    print()"
   ]
  },
  {
   "cell_type": "code",
   "execution_count": 28,
   "id": "c1f908f6",
   "metadata": {},
   "outputs": [
    {
     "data": {
      "text/html": [
       "<div>\n",
       "<style scoped>\n",
       "    .dataframe tbody tr th:only-of-type {\n",
       "        vertical-align: middle;\n",
       "    }\n",
       "\n",
       "    .dataframe tbody tr th {\n",
       "        vertical-align: top;\n",
       "    }\n",
       "\n",
       "    .dataframe thead th {\n",
       "        text-align: right;\n",
       "    }\n",
       "</style>\n",
       "<table border=\"1\" class=\"dataframe\">\n",
       "  <thead>\n",
       "    <tr style=\"text-align: right;\">\n",
       "      <th></th>\n",
       "      <th>Price</th>\n",
       "      <th>RegistrationYear</th>\n",
       "      <th>Power</th>\n",
       "      <th>Kilometer</th>\n",
       "      <th>RegistrationMonth</th>\n",
       "    </tr>\n",
       "  </thead>\n",
       "  <tbody>\n",
       "    <tr>\n",
       "      <th>count</th>\n",
       "      <td>241899.000000</td>\n",
       "      <td>241899.000000</td>\n",
       "      <td>241899.000000</td>\n",
       "      <td>241899.000000</td>\n",
       "      <td>241899.000000</td>\n",
       "    </tr>\n",
       "    <tr>\n",
       "      <th>mean</th>\n",
       "      <td>3828.169844</td>\n",
       "      <td>2003.035089</td>\n",
       "      <td>105.509833</td>\n",
       "      <td>141835.394111</td>\n",
       "      <td>5.745204</td>\n",
       "    </tr>\n",
       "    <tr>\n",
       "      <th>std</th>\n",
       "      <td>3856.903633</td>\n",
       "      <td>6.218324</td>\n",
       "      <td>56.613320</td>\n",
       "      <td>16914.692941</td>\n",
       "      <td>3.720069</td>\n",
       "    </tr>\n",
       "    <tr>\n",
       "      <th>min</th>\n",
       "      <td>100.000000</td>\n",
       "      <td>1986.000000</td>\n",
       "      <td>0.000000</td>\n",
       "      <td>90000.000000</td>\n",
       "      <td>0.000000</td>\n",
       "    </tr>\n",
       "    <tr>\n",
       "      <th>25%</th>\n",
       "      <td>1090.000000</td>\n",
       "      <td>1999.000000</td>\n",
       "      <td>73.000000</td>\n",
       "      <td>150000.000000</td>\n",
       "      <td>3.000000</td>\n",
       "    </tr>\n",
       "    <tr>\n",
       "      <th>50%</th>\n",
       "      <td>2450.000000</td>\n",
       "      <td>2003.000000</td>\n",
       "      <td>105.000000</td>\n",
       "      <td>150000.000000</td>\n",
       "      <td>6.000000</td>\n",
       "    </tr>\n",
       "    <tr>\n",
       "      <th>75%</th>\n",
       "      <td>5200.000000</td>\n",
       "      <td>2007.000000</td>\n",
       "      <td>143.000000</td>\n",
       "      <td>150000.000000</td>\n",
       "      <td>9.000000</td>\n",
       "    </tr>\n",
       "    <tr>\n",
       "      <th>max</th>\n",
       "      <td>20000.000000</td>\n",
       "      <td>2019.000000</td>\n",
       "      <td>249.000000</td>\n",
       "      <td>150000.000000</td>\n",
       "      <td>12.000000</td>\n",
       "    </tr>\n",
       "  </tbody>\n",
       "</table>\n",
       "</div>"
      ],
      "text/plain": [
       "               Price  RegistrationYear          Power      Kilometer  \\\n",
       "count  241899.000000     241899.000000  241899.000000  241899.000000   \n",
       "mean     3828.169844       2003.035089     105.509833  141835.394111   \n",
       "std      3856.903633          6.218324      56.613320   16914.692941   \n",
       "min       100.000000       1986.000000       0.000000   90000.000000   \n",
       "25%      1090.000000       1999.000000      73.000000  150000.000000   \n",
       "50%      2450.000000       2003.000000     105.000000  150000.000000   \n",
       "75%      5200.000000       2007.000000     143.000000  150000.000000   \n",
       "max     20000.000000       2019.000000     249.000000  150000.000000   \n",
       "\n",
       "       RegistrationMonth  \n",
       "count      241899.000000  \n",
       "mean            5.745204  \n",
       "std             3.720069  \n",
       "min             0.000000  \n",
       "25%             3.000000  \n",
       "50%             6.000000  \n",
       "75%             9.000000  \n",
       "max            12.000000  "
      ]
     },
     "execution_count": 28,
     "metadata": {},
     "output_type": "execute_result"
    }
   ],
   "source": [
    "# проверим результат\n",
    "df_clnd.describe()"
   ]
  },
  {
   "cell_type": "code",
   "execution_count": 29,
   "id": "a53e6a99",
   "metadata": {
    "scrolled": true
   },
   "outputs": [
    {
     "data": {
      "text/plain": [
       "31771"
      ]
     },
     "execution_count": 29,
     "metadata": {},
     "output_type": "execute_result"
    }
   ],
   "source": [
    "len(df.query('Power < 1'))"
   ]
  },
  {
   "cell_type": "markdown",
   "id": "d0f50c8a",
   "metadata": {},
   "source": [
    "**Итоги:**\n",
    "\n",
    "Нами было подготовлено два набора данных, с которыми мы будем работать дальше:\n",
    "- Очищенный от выбросов и аномалий, который, гипотетически, должен дать наилучший результат, но будет слабо приближен к реалиям бизнеса;\n",
    "- Оригинальный, содержащий выбросы, что, гипотетически, сделает оценку модели хуже, но приблизит ее функционирование к реальным условиям.\n",
    "\n",
    "При этом в наборе содержится большое количество явно ошибочных данных (машины с мощностью меньше 1)."
   ]
  },
  {
   "cell_type": "markdown",
   "id": "c90ae16a",
   "metadata": {},
   "source": [
    "## Модели"
   ]
  },
  {
   "cell_type": "markdown",
   "id": "d1e2b22d",
   "metadata": {},
   "source": [
    "### Технический раздел"
   ]
  },
  {
   "cell_type": "markdown",
   "id": "821281ad",
   "metadata": {},
   "source": [
    "Подготовим наборы."
   ]
  },
  {
   "cell_type": "code",
   "execution_count": 30,
   "id": "b2bb8ef6",
   "metadata": {},
   "outputs": [],
   "source": [
    "target = ['Price']\n",
    "features = df.columns.drop('Price')\n",
    "cat_features = features.drop(num_features)"
   ]
  },
  {
   "cell_type": "code",
   "execution_count": 31,
   "id": "ef526023",
   "metadata": {},
   "outputs": [
    {
     "data": {
      "text/plain": [
       "(['RegistrationYear', 'Power', 'Kilometer', 'RegistrationMonth'],\n",
       " Index(['VehicleType', 'Gearbox', 'Model', 'FuelType', 'Brand', 'NotRepaired'], dtype='object'))"
      ]
     },
     "execution_count": 31,
     "metadata": {},
     "output_type": "execute_result"
    }
   ],
   "source": [
    "num_features, cat_features"
   ]
  },
  {
   "cell_type": "code",
   "execution_count": 32,
   "id": "11d60468",
   "metadata": {},
   "outputs": [],
   "source": [
    "X = df[features]\n",
    "y = df[target]\n",
    "X_clnd = df_clnd[features]\n",
    "y_clnd = df_clnd[target]"
   ]
  },
  {
   "cell_type": "code",
   "execution_count": 33,
   "id": "80f6bc04",
   "metadata": {},
   "outputs": [],
   "source": [
    "X_train, X_val, y_train, y_val = train_test_split(\n",
    "    X, y, test_size=0.25, \n",
    "    random_state=42)"
   ]
  },
  {
   "cell_type": "code",
   "execution_count": 34,
   "id": "caf5382a",
   "metadata": {},
   "outputs": [],
   "source": [
    "X_train_clnd, X_val_clnd, y_train_clnd, y_val_clnd = train_test_split(\n",
    "    X_clnd, y_clnd, test_size=0.25, \n",
    "    random_state=42)"
   ]
  },
  {
   "cell_type": "markdown",
   "id": "c18410d3",
   "metadata": {},
   "source": [
    "Подготовим списки данных."
   ]
  },
  {
   "cell_type": "code",
   "execution_count": 35,
   "id": "ebf8be46",
   "metadata": {},
   "outputs": [],
   "source": [
    "data_list = [X_train, X_val, y_train, y_val]\n",
    "data_clnd_list = [X_train_clnd, X_val_clnd, y_train_clnd, y_val_clnd]"
   ]
  },
  {
   "cell_type": "markdown",
   "id": "b36ce5de",
   "metadata": {},
   "source": [
    "Определим функцию оценки."
   ]
  },
  {
   "cell_type": "code",
   "execution_count": 36,
   "id": "b43a8936",
   "metadata": {},
   "outputs": [],
   "source": [
    "# определим функцию оценки\n",
    "def ml_slave(mod, data_list, score_list, best_params=False):\n",
    "    '''\n",
    "    Функция принимает разные модели в параметры, чтобы вывести их accuracy и сравнить с целевым.\n",
    "    mod - вид модели;\n",
    "    data_list - список, содержащий датасеты для обучения модели [X, y, test];\n",
    "    score_list - список, собирающий оценки модели;\n",
    "    best_params - список, куда сохраняются лучшие настройки гиперпараметров модели,\n",
    "    значение по умолчанию None.\n",
    "       \n",
    "    '''\n",
    "    # обучим модель\n",
    "    model = mod.fit(data_list[0], data_list[2]) \n",
    "    predictions = model.predict(data_list[1])\n",
    "    rmse = round(mean_squared_error(data_list[3], predictions, squared=False), 2)\n",
    "       \n",
    "    # сохраним оценки для анализа\n",
    "    score_list.append(rmse)\n",
    "    \n",
    "    # выведем метрики\n",
    "    print(f'RMSE модели: {rmse}')\n",
    "    print('-' * 45)\n",
    "    \n",
    "    # проверка на адкеватность\n",
    "    # используем константное значение - медиану\n",
    "    pred_const = pd.Series(data_list[3].median()[0], index=data_list[3].index)\n",
    "    rmse_median = round(mean_squared_error(data_list[3], pred_const, squared=False), 2)\n",
    "    rmse_delta = rmse - rmse_median\n",
    "    \n",
    "    print('Проверка на адекватность по медиане:')\n",
    "    print(f'RMSE по медиане: {rmse_median}')\n",
    "    print(f'Разница RMSE обученной модели и медианной: {rmse_delta}')\n",
    "    if rmse < rmse_median:\n",
    "        print('Вывод: обученная модель лучше')\n",
    "    else:\n",
    "        print('Вывод: обученная модель хуже')\n",
    "        \n",
    "    # техническая разметка\n",
    "    print('=' * 45)\n",
    "    print()  \n",
    "    \n",
    "    if best_params:# is not None:\n",
    "        best_params.append(model.best_params_)\n",
    "        print(f'Оценка достигнута при параметрах: {best_params[0]}')"
   ]
  },
  {
   "cell_type": "code",
   "execution_count": 37,
   "id": "3167184c",
   "metadata": {},
   "outputs": [],
   "source": [
    "# сформируем списки оценок\n",
    "lr_score = ['LinearRegression']\n",
    "lr_clnd_score = ['Cleaned_LinrearRegression']\n",
    "lgb_score = ['Lightgbm']\n",
    "cb_score = ['Catboost']\n",
    "score_list = [lr_score, lr_clnd_score, lgb_score, cb_score]"
   ]
  },
  {
   "cell_type": "markdown",
   "id": "e65d7518",
   "metadata": {},
   "source": [
    "### Модели"
   ]
  },
  {
   "cell_type": "markdown",
   "id": "b13c6671",
   "metadata": {},
   "source": [
    "#### Линейная регрессия"
   ]
  },
  {
   "cell_type": "code",
   "execution_count": 38,
   "id": "ea0bbb85",
   "metadata": {},
   "outputs": [],
   "source": [
    "# избавимся от колонки`Model`, как и планировали\n",
    "cat_features_lr = cat_features.drop('Model')"
   ]
  },
  {
   "cell_type": "code",
   "execution_count": 39,
   "id": "e888eedd",
   "metadata": {},
   "outputs": [
    {
     "data": {
      "text/html": [
       "<style>#sk-d1cc496c-3583-41f4-b634-2a7e307b7b36 {color: black;background-color: white;}#sk-d1cc496c-3583-41f4-b634-2a7e307b7b36 pre{padding: 0;}#sk-d1cc496c-3583-41f4-b634-2a7e307b7b36 div.sk-toggleable {background-color: white;}#sk-d1cc496c-3583-41f4-b634-2a7e307b7b36 label.sk-toggleable__label {cursor: pointer;display: block;width: 100%;margin-bottom: 0;padding: 0.3em;box-sizing: border-box;text-align: center;}#sk-d1cc496c-3583-41f4-b634-2a7e307b7b36 div.sk-toggleable__content {max-height: 0;max-width: 0;overflow: hidden;text-align: left;background-color: #f0f8ff;}#sk-d1cc496c-3583-41f4-b634-2a7e307b7b36 div.sk-toggleable__content pre {margin: 0.2em;color: black;border-radius: 0.25em;background-color: #f0f8ff;}#sk-d1cc496c-3583-41f4-b634-2a7e307b7b36 input.sk-toggleable__control:checked~div.sk-toggleable__content {max-height: 200px;max-width: 100%;overflow: auto;}#sk-d1cc496c-3583-41f4-b634-2a7e307b7b36 div.sk-estimator input.sk-toggleable__control:checked~label.sk-toggleable__label {background-color: #d4ebff;}#sk-d1cc496c-3583-41f4-b634-2a7e307b7b36 div.sk-label input.sk-toggleable__control:checked~label.sk-toggleable__label {background-color: #d4ebff;}#sk-d1cc496c-3583-41f4-b634-2a7e307b7b36 input.sk-hidden--visually {border: 0;clip: rect(1px 1px 1px 1px);clip: rect(1px, 1px, 1px, 1px);height: 1px;margin: -1px;overflow: hidden;padding: 0;position: absolute;width: 1px;}#sk-d1cc496c-3583-41f4-b634-2a7e307b7b36 div.sk-estimator {font-family: monospace;background-color: #f0f8ff;border: 1px dotted black;border-radius: 0.25em;box-sizing: border-box;margin-bottom: 0.5em;}#sk-d1cc496c-3583-41f4-b634-2a7e307b7b36 div.sk-estimator:hover {background-color: #d4ebff;}#sk-d1cc496c-3583-41f4-b634-2a7e307b7b36 div.sk-parallel-item::after {content: \"\";width: 100%;border-bottom: 1px solid gray;flex-grow: 1;}#sk-d1cc496c-3583-41f4-b634-2a7e307b7b36 div.sk-label:hover label.sk-toggleable__label {background-color: #d4ebff;}#sk-d1cc496c-3583-41f4-b634-2a7e307b7b36 div.sk-serial::before {content: \"\";position: absolute;border-left: 1px solid gray;box-sizing: border-box;top: 2em;bottom: 0;left: 50%;}#sk-d1cc496c-3583-41f4-b634-2a7e307b7b36 div.sk-serial {display: flex;flex-direction: column;align-items: center;background-color: white;padding-right: 0.2em;padding-left: 0.2em;}#sk-d1cc496c-3583-41f4-b634-2a7e307b7b36 div.sk-item {z-index: 1;}#sk-d1cc496c-3583-41f4-b634-2a7e307b7b36 div.sk-parallel {display: flex;align-items: stretch;justify-content: center;background-color: white;}#sk-d1cc496c-3583-41f4-b634-2a7e307b7b36 div.sk-parallel::before {content: \"\";position: absolute;border-left: 1px solid gray;box-sizing: border-box;top: 2em;bottom: 0;left: 50%;}#sk-d1cc496c-3583-41f4-b634-2a7e307b7b36 div.sk-parallel-item {display: flex;flex-direction: column;position: relative;background-color: white;}#sk-d1cc496c-3583-41f4-b634-2a7e307b7b36 div.sk-parallel-item:first-child::after {align-self: flex-end;width: 50%;}#sk-d1cc496c-3583-41f4-b634-2a7e307b7b36 div.sk-parallel-item:last-child::after {align-self: flex-start;width: 50%;}#sk-d1cc496c-3583-41f4-b634-2a7e307b7b36 div.sk-parallel-item:only-child::after {width: 0;}#sk-d1cc496c-3583-41f4-b634-2a7e307b7b36 div.sk-dashed-wrapped {border: 1px dashed gray;margin: 0 0.4em 0.5em 0.4em;box-sizing: border-box;padding-bottom: 0.4em;background-color: white;position: relative;}#sk-d1cc496c-3583-41f4-b634-2a7e307b7b36 div.sk-label label {font-family: monospace;font-weight: bold;background-color: white;display: inline-block;line-height: 1.2em;}#sk-d1cc496c-3583-41f4-b634-2a7e307b7b36 div.sk-label-container {position: relative;z-index: 2;text-align: center;}#sk-d1cc496c-3583-41f4-b634-2a7e307b7b36 div.sk-container {display: inline-block;position: relative;}</style><div id=\"sk-d1cc496c-3583-41f4-b634-2a7e307b7b36\" class\"sk-top-container\"><div class=\"sk-container\"><div class=\"sk-item sk-dashed-wrapped\"><div class=\"sk-label-container\"><div class=\"sk-label sk-toggleable\"><input class=\"sk-toggleable__control sk-hidden--visually\" id=\"f9356a94-dfa7-4443-9cb1-2ca743c8e7af\" type=\"checkbox\" ><label class=\"sk-toggleable__label\" for=\"f9356a94-dfa7-4443-9cb1-2ca743c8e7af\">Pipeline</label><div class=\"sk-toggleable__content\"><pre>Pipeline(steps=[('std_caler', StandardScaler())])</pre></div></div></div><div class=\"sk-serial\"><div class=\"sk-item\"><div class=\"sk-estimator sk-toggleable\"><input class=\"sk-toggleable__control sk-hidden--visually\" id=\"81131e60-d97a-41ba-99fc-7ec938d41b9b\" type=\"checkbox\" ><label class=\"sk-toggleable__label\" for=\"81131e60-d97a-41ba-99fc-7ec938d41b9b\">StandardScaler</label><div class=\"sk-toggleable__content\"><pre>StandardScaler()</pre></div></div></div></div></div></div></div>"
      ],
      "text/plain": [
       "Pipeline(steps=[('std_caler', StandardScaler())])"
      ]
     },
     "execution_count": 39,
     "metadata": {},
     "output_type": "execute_result"
    }
   ],
   "source": [
    "num_pipeline = Pipeline([\n",
    "    # для стандартизации\n",
    "    ('std_caler', StandardScaler())\n",
    "])\n",
    "num_pipeline"
   ]
  },
  {
   "cell_type": "code",
   "execution_count": 40,
   "id": "40a67252",
   "metadata": {},
   "outputs": [
    {
     "data": {
      "text/html": [
       "<style>#sk-4caabaf4-4082-434d-ac3a-581255a7534b {color: black;background-color: white;}#sk-4caabaf4-4082-434d-ac3a-581255a7534b pre{padding: 0;}#sk-4caabaf4-4082-434d-ac3a-581255a7534b div.sk-toggleable {background-color: white;}#sk-4caabaf4-4082-434d-ac3a-581255a7534b label.sk-toggleable__label {cursor: pointer;display: block;width: 100%;margin-bottom: 0;padding: 0.3em;box-sizing: border-box;text-align: center;}#sk-4caabaf4-4082-434d-ac3a-581255a7534b div.sk-toggleable__content {max-height: 0;max-width: 0;overflow: hidden;text-align: left;background-color: #f0f8ff;}#sk-4caabaf4-4082-434d-ac3a-581255a7534b div.sk-toggleable__content pre {margin: 0.2em;color: black;border-radius: 0.25em;background-color: #f0f8ff;}#sk-4caabaf4-4082-434d-ac3a-581255a7534b input.sk-toggleable__control:checked~div.sk-toggleable__content {max-height: 200px;max-width: 100%;overflow: auto;}#sk-4caabaf4-4082-434d-ac3a-581255a7534b div.sk-estimator input.sk-toggleable__control:checked~label.sk-toggleable__label {background-color: #d4ebff;}#sk-4caabaf4-4082-434d-ac3a-581255a7534b div.sk-label input.sk-toggleable__control:checked~label.sk-toggleable__label {background-color: #d4ebff;}#sk-4caabaf4-4082-434d-ac3a-581255a7534b input.sk-hidden--visually {border: 0;clip: rect(1px 1px 1px 1px);clip: rect(1px, 1px, 1px, 1px);height: 1px;margin: -1px;overflow: hidden;padding: 0;position: absolute;width: 1px;}#sk-4caabaf4-4082-434d-ac3a-581255a7534b div.sk-estimator {font-family: monospace;background-color: #f0f8ff;border: 1px dotted black;border-radius: 0.25em;box-sizing: border-box;margin-bottom: 0.5em;}#sk-4caabaf4-4082-434d-ac3a-581255a7534b div.sk-estimator:hover {background-color: #d4ebff;}#sk-4caabaf4-4082-434d-ac3a-581255a7534b div.sk-parallel-item::after {content: \"\";width: 100%;border-bottom: 1px solid gray;flex-grow: 1;}#sk-4caabaf4-4082-434d-ac3a-581255a7534b div.sk-label:hover label.sk-toggleable__label {background-color: #d4ebff;}#sk-4caabaf4-4082-434d-ac3a-581255a7534b div.sk-serial::before {content: \"\";position: absolute;border-left: 1px solid gray;box-sizing: border-box;top: 2em;bottom: 0;left: 50%;}#sk-4caabaf4-4082-434d-ac3a-581255a7534b div.sk-serial {display: flex;flex-direction: column;align-items: center;background-color: white;padding-right: 0.2em;padding-left: 0.2em;}#sk-4caabaf4-4082-434d-ac3a-581255a7534b div.sk-item {z-index: 1;}#sk-4caabaf4-4082-434d-ac3a-581255a7534b div.sk-parallel {display: flex;align-items: stretch;justify-content: center;background-color: white;}#sk-4caabaf4-4082-434d-ac3a-581255a7534b div.sk-parallel::before {content: \"\";position: absolute;border-left: 1px solid gray;box-sizing: border-box;top: 2em;bottom: 0;left: 50%;}#sk-4caabaf4-4082-434d-ac3a-581255a7534b div.sk-parallel-item {display: flex;flex-direction: column;position: relative;background-color: white;}#sk-4caabaf4-4082-434d-ac3a-581255a7534b div.sk-parallel-item:first-child::after {align-self: flex-end;width: 50%;}#sk-4caabaf4-4082-434d-ac3a-581255a7534b div.sk-parallel-item:last-child::after {align-self: flex-start;width: 50%;}#sk-4caabaf4-4082-434d-ac3a-581255a7534b div.sk-parallel-item:only-child::after {width: 0;}#sk-4caabaf4-4082-434d-ac3a-581255a7534b div.sk-dashed-wrapped {border: 1px dashed gray;margin: 0 0.4em 0.5em 0.4em;box-sizing: border-box;padding-bottom: 0.4em;background-color: white;position: relative;}#sk-4caabaf4-4082-434d-ac3a-581255a7534b div.sk-label label {font-family: monospace;font-weight: bold;background-color: white;display: inline-block;line-height: 1.2em;}#sk-4caabaf4-4082-434d-ac3a-581255a7534b div.sk-label-container {position: relative;z-index: 2;text-align: center;}#sk-4caabaf4-4082-434d-ac3a-581255a7534b div.sk-container {display: inline-block;position: relative;}</style><div id=\"sk-4caabaf4-4082-434d-ac3a-581255a7534b\" class\"sk-top-container\"><div class=\"sk-container\"><div class=\"sk-item sk-dashed-wrapped\"><div class=\"sk-label-container\"><div class=\"sk-label sk-toggleable\"><input class=\"sk-toggleable__control sk-hidden--visually\" id=\"54263635-f485-4e12-b6e0-ffc0ff61f19e\" type=\"checkbox\" ><label class=\"sk-toggleable__label\" for=\"54263635-f485-4e12-b6e0-ffc0ff61f19e\">ColumnTransformer</label><div class=\"sk-toggleable__content\"><pre>ColumnTransformer(transformers=[('num',\n",
       "                                 Pipeline(steps=[('std_caler',\n",
       "                                                  StandardScaler())]),\n",
       "                                 ['RegistrationYear', 'Power', 'Kilometer',\n",
       "                                  'RegistrationMonth']),\n",
       "                                ('cat', OneHotEncoder(),\n",
       "                                 Index(['VehicleType', 'Gearbox', 'FuelType', 'Brand', 'NotRepaired'], dtype='object'))])</pre></div></div></div><div class=\"sk-parallel\"><div class=\"sk-parallel-item\"><div class=\"sk-item\"><div class=\"sk-label-container\"><div class=\"sk-label sk-toggleable\"><input class=\"sk-toggleable__control sk-hidden--visually\" id=\"ee106505-bc62-466e-bcfd-bf16c69e98ab\" type=\"checkbox\" ><label class=\"sk-toggleable__label\" for=\"ee106505-bc62-466e-bcfd-bf16c69e98ab\">num</label><div class=\"sk-toggleable__content\"><pre>['RegistrationYear', 'Power', 'Kilometer', 'RegistrationMonth']</pre></div></div></div><div class=\"sk-serial\"><div class=\"sk-item\"><div class=\"sk-serial\"><div class=\"sk-item\"><div class=\"sk-estimator sk-toggleable\"><input class=\"sk-toggleable__control sk-hidden--visually\" id=\"53ca04f1-748f-49df-be0e-d50d95c107ec\" type=\"checkbox\" ><label class=\"sk-toggleable__label\" for=\"53ca04f1-748f-49df-be0e-d50d95c107ec\">StandardScaler</label><div class=\"sk-toggleable__content\"><pre>StandardScaler()</pre></div></div></div></div></div></div></div></div><div class=\"sk-parallel-item\"><div class=\"sk-item\"><div class=\"sk-label-container\"><div class=\"sk-label sk-toggleable\"><input class=\"sk-toggleable__control sk-hidden--visually\" id=\"f27e079f-38bd-4979-8220-7701bbb03bc9\" type=\"checkbox\" ><label class=\"sk-toggleable__label\" for=\"f27e079f-38bd-4979-8220-7701bbb03bc9\">cat</label><div class=\"sk-toggleable__content\"><pre>Index(['VehicleType', 'Gearbox', 'FuelType', 'Brand', 'NotRepaired'], dtype='object')</pre></div></div></div><div class=\"sk-serial\"><div class=\"sk-item\"><div class=\"sk-estimator sk-toggleable\"><input class=\"sk-toggleable__control sk-hidden--visually\" id=\"fe2251ca-dd4b-4a2b-b966-5029b88663d1\" type=\"checkbox\" ><label class=\"sk-toggleable__label\" for=\"fe2251ca-dd4b-4a2b-b966-5029b88663d1\">OneHotEncoder</label><div class=\"sk-toggleable__content\"><pre>OneHotEncoder()</pre></div></div></div></div></div></div></div></div></div></div>"
      ],
      "text/plain": [
       "ColumnTransformer(transformers=[('num',\n",
       "                                 Pipeline(steps=[('std_caler',\n",
       "                                                  StandardScaler())]),\n",
       "                                 ['RegistrationYear', 'Power', 'Kilometer',\n",
       "                                  'RegistrationMonth']),\n",
       "                                ('cat', OneHotEncoder(),\n",
       "                                 Index(['VehicleType', 'Gearbox', 'FuelType', 'Brand', 'NotRepaired'], dtype='object'))])"
      ]
     },
     "execution_count": 40,
     "metadata": {},
     "output_type": "execute_result"
    }
   ],
   "source": [
    "full_pipeline = ColumnTransformer([\n",
    "    # встроим числовой пайплайн\n",
    "    ('num', num_pipeline, num_features),\n",
    "    \n",
    "    # для обработки категорий     \n",
    "    ('cat', OneHotEncoder(), cat_features_lr)\n",
    "])\n",
    "full_pipeline"
   ]
  },
  {
   "cell_type": "code",
   "execution_count": 41,
   "id": "35923df4",
   "metadata": {},
   "outputs": [
    {
     "data": {
      "text/html": [
       "<style>#sk-8faa3fa3-a349-4c02-9733-a0ceb9800c6b {color: black;background-color: white;}#sk-8faa3fa3-a349-4c02-9733-a0ceb9800c6b pre{padding: 0;}#sk-8faa3fa3-a349-4c02-9733-a0ceb9800c6b div.sk-toggleable {background-color: white;}#sk-8faa3fa3-a349-4c02-9733-a0ceb9800c6b label.sk-toggleable__label {cursor: pointer;display: block;width: 100%;margin-bottom: 0;padding: 0.3em;box-sizing: border-box;text-align: center;}#sk-8faa3fa3-a349-4c02-9733-a0ceb9800c6b div.sk-toggleable__content {max-height: 0;max-width: 0;overflow: hidden;text-align: left;background-color: #f0f8ff;}#sk-8faa3fa3-a349-4c02-9733-a0ceb9800c6b div.sk-toggleable__content pre {margin: 0.2em;color: black;border-radius: 0.25em;background-color: #f0f8ff;}#sk-8faa3fa3-a349-4c02-9733-a0ceb9800c6b input.sk-toggleable__control:checked~div.sk-toggleable__content {max-height: 200px;max-width: 100%;overflow: auto;}#sk-8faa3fa3-a349-4c02-9733-a0ceb9800c6b div.sk-estimator input.sk-toggleable__control:checked~label.sk-toggleable__label {background-color: #d4ebff;}#sk-8faa3fa3-a349-4c02-9733-a0ceb9800c6b div.sk-label input.sk-toggleable__control:checked~label.sk-toggleable__label {background-color: #d4ebff;}#sk-8faa3fa3-a349-4c02-9733-a0ceb9800c6b input.sk-hidden--visually {border: 0;clip: rect(1px 1px 1px 1px);clip: rect(1px, 1px, 1px, 1px);height: 1px;margin: -1px;overflow: hidden;padding: 0;position: absolute;width: 1px;}#sk-8faa3fa3-a349-4c02-9733-a0ceb9800c6b div.sk-estimator {font-family: monospace;background-color: #f0f8ff;border: 1px dotted black;border-radius: 0.25em;box-sizing: border-box;margin-bottom: 0.5em;}#sk-8faa3fa3-a349-4c02-9733-a0ceb9800c6b div.sk-estimator:hover {background-color: #d4ebff;}#sk-8faa3fa3-a349-4c02-9733-a0ceb9800c6b div.sk-parallel-item::after {content: \"\";width: 100%;border-bottom: 1px solid gray;flex-grow: 1;}#sk-8faa3fa3-a349-4c02-9733-a0ceb9800c6b div.sk-label:hover label.sk-toggleable__label {background-color: #d4ebff;}#sk-8faa3fa3-a349-4c02-9733-a0ceb9800c6b div.sk-serial::before {content: \"\";position: absolute;border-left: 1px solid gray;box-sizing: border-box;top: 2em;bottom: 0;left: 50%;}#sk-8faa3fa3-a349-4c02-9733-a0ceb9800c6b div.sk-serial {display: flex;flex-direction: column;align-items: center;background-color: white;padding-right: 0.2em;padding-left: 0.2em;}#sk-8faa3fa3-a349-4c02-9733-a0ceb9800c6b div.sk-item {z-index: 1;}#sk-8faa3fa3-a349-4c02-9733-a0ceb9800c6b div.sk-parallel {display: flex;align-items: stretch;justify-content: center;background-color: white;}#sk-8faa3fa3-a349-4c02-9733-a0ceb9800c6b div.sk-parallel::before {content: \"\";position: absolute;border-left: 1px solid gray;box-sizing: border-box;top: 2em;bottom: 0;left: 50%;}#sk-8faa3fa3-a349-4c02-9733-a0ceb9800c6b div.sk-parallel-item {display: flex;flex-direction: column;position: relative;background-color: white;}#sk-8faa3fa3-a349-4c02-9733-a0ceb9800c6b div.sk-parallel-item:first-child::after {align-self: flex-end;width: 50%;}#sk-8faa3fa3-a349-4c02-9733-a0ceb9800c6b div.sk-parallel-item:last-child::after {align-self: flex-start;width: 50%;}#sk-8faa3fa3-a349-4c02-9733-a0ceb9800c6b div.sk-parallel-item:only-child::after {width: 0;}#sk-8faa3fa3-a349-4c02-9733-a0ceb9800c6b div.sk-dashed-wrapped {border: 1px dashed gray;margin: 0 0.4em 0.5em 0.4em;box-sizing: border-box;padding-bottom: 0.4em;background-color: white;position: relative;}#sk-8faa3fa3-a349-4c02-9733-a0ceb9800c6b div.sk-label label {font-family: monospace;font-weight: bold;background-color: white;display: inline-block;line-height: 1.2em;}#sk-8faa3fa3-a349-4c02-9733-a0ceb9800c6b div.sk-label-container {position: relative;z-index: 2;text-align: center;}#sk-8faa3fa3-a349-4c02-9733-a0ceb9800c6b div.sk-container {display: inline-block;position: relative;}</style><div id=\"sk-8faa3fa3-a349-4c02-9733-a0ceb9800c6b\" class\"sk-top-container\"><div class=\"sk-container\"><div class=\"sk-item sk-dashed-wrapped\"><div class=\"sk-label-container\"><div class=\"sk-label sk-toggleable\"><input class=\"sk-toggleable__control sk-hidden--visually\" id=\"629b6dfd-d317-4c64-973b-c998e602b3d7\" type=\"checkbox\" ><label class=\"sk-toggleable__label\" for=\"629b6dfd-d317-4c64-973b-c998e602b3d7\">Pipeline</label><div class=\"sk-toggleable__content\"><pre>Pipeline(steps=[('full',\n",
       "                 ColumnTransformer(transformers=[('num',\n",
       "                                                  Pipeline(steps=[('std_caler',\n",
       "                                                                   StandardScaler())]),\n",
       "                                                  ['RegistrationYear', 'Power',\n",
       "                                                   'Kilometer',\n",
       "                                                   'RegistrationMonth']),\n",
       "                                                 ('cat', OneHotEncoder(),\n",
       "                                                  Index(['VehicleType', 'Gearbox', 'FuelType', 'Brand', 'NotRepaired'], dtype='object'))])),\n",
       "                ('lr', LinearRegression())])</pre></div></div></div><div class=\"sk-serial\"><div class=\"sk-item sk-dashed-wrapped\"><div class=\"sk-label-container\"><div class=\"sk-label sk-toggleable\"><input class=\"sk-toggleable__control sk-hidden--visually\" id=\"1947175e-fde6-4434-b5cc-5ab5cb1fc690\" type=\"checkbox\" ><label class=\"sk-toggleable__label\" for=\"1947175e-fde6-4434-b5cc-5ab5cb1fc690\">full: ColumnTransformer</label><div class=\"sk-toggleable__content\"><pre>ColumnTransformer(transformers=[('num',\n",
       "                                 Pipeline(steps=[('std_caler',\n",
       "                                                  StandardScaler())]),\n",
       "                                 ['RegistrationYear', 'Power', 'Kilometer',\n",
       "                                  'RegistrationMonth']),\n",
       "                                ('cat', OneHotEncoder(),\n",
       "                                 Index(['VehicleType', 'Gearbox', 'FuelType', 'Brand', 'NotRepaired'], dtype='object'))])</pre></div></div></div><div class=\"sk-parallel\"><div class=\"sk-parallel-item\"><div class=\"sk-item\"><div class=\"sk-label-container\"><div class=\"sk-label sk-toggleable\"><input class=\"sk-toggleable__control sk-hidden--visually\" id=\"334ab475-da76-4022-92fb-383578e8d557\" type=\"checkbox\" ><label class=\"sk-toggleable__label\" for=\"334ab475-da76-4022-92fb-383578e8d557\">num</label><div class=\"sk-toggleable__content\"><pre>['RegistrationYear', 'Power', 'Kilometer', 'RegistrationMonth']</pre></div></div></div><div class=\"sk-serial\"><div class=\"sk-item\"><div class=\"sk-serial\"><div class=\"sk-item\"><div class=\"sk-estimator sk-toggleable\"><input class=\"sk-toggleable__control sk-hidden--visually\" id=\"827092f2-8bb8-4317-bc62-54ed1cd6fe88\" type=\"checkbox\" ><label class=\"sk-toggleable__label\" for=\"827092f2-8bb8-4317-bc62-54ed1cd6fe88\">StandardScaler</label><div class=\"sk-toggleable__content\"><pre>StandardScaler()</pre></div></div></div></div></div></div></div></div><div class=\"sk-parallel-item\"><div class=\"sk-item\"><div class=\"sk-label-container\"><div class=\"sk-label sk-toggleable\"><input class=\"sk-toggleable__control sk-hidden--visually\" id=\"ac7a1885-6d0f-419c-9105-81ec038de7ab\" type=\"checkbox\" ><label class=\"sk-toggleable__label\" for=\"ac7a1885-6d0f-419c-9105-81ec038de7ab\">cat</label><div class=\"sk-toggleable__content\"><pre>Index(['VehicleType', 'Gearbox', 'FuelType', 'Brand', 'NotRepaired'], dtype='object')</pre></div></div></div><div class=\"sk-serial\"><div class=\"sk-item\"><div class=\"sk-estimator sk-toggleable\"><input class=\"sk-toggleable__control sk-hidden--visually\" id=\"2e762944-b166-4c8b-8b10-cab3edc61933\" type=\"checkbox\" ><label class=\"sk-toggleable__label\" for=\"2e762944-b166-4c8b-8b10-cab3edc61933\">OneHotEncoder</label><div class=\"sk-toggleable__content\"><pre>OneHotEncoder()</pre></div></div></div></div></div></div></div></div><div class=\"sk-item\"><div class=\"sk-estimator sk-toggleable\"><input class=\"sk-toggleable__control sk-hidden--visually\" id=\"92235850-8b4c-4ec6-8f04-e5601f9a6853\" type=\"checkbox\" ><label class=\"sk-toggleable__label\" for=\"92235850-8b4c-4ec6-8f04-e5601f9a6853\">LinearRegression</label><div class=\"sk-toggleable__content\"><pre>LinearRegression()</pre></div></div></div></div></div></div></div>"
      ],
      "text/plain": [
       "Pipeline(steps=[('full',\n",
       "                 ColumnTransformer(transformers=[('num',\n",
       "                                                  Pipeline(steps=[('std_caler',\n",
       "                                                                   StandardScaler())]),\n",
       "                                                  ['RegistrationYear', 'Power',\n",
       "                                                   'Kilometer',\n",
       "                                                   'RegistrationMonth']),\n",
       "                                                 ('cat', OneHotEncoder(),\n",
       "                                                  Index(['VehicleType', 'Gearbox', 'FuelType', 'Brand', 'NotRepaired'], dtype='object'))])),\n",
       "                ('lr', LinearRegression())])"
      ]
     },
     "execution_count": 41,
     "metadata": {},
     "output_type": "execute_result"
    }
   ],
   "source": [
    "# lr_pipe\n",
    "lr_pipeline = Pipeline([\n",
    "    ('full', full_pipeline),\n",
    "    ('lr', LinearRegression())\n",
    "])\n",
    "lr_pipeline"
   ]
  },
  {
   "cell_type": "markdown",
   "id": "1969a53d",
   "metadata": {},
   "source": [
    "Результаты для полного датасета."
   ]
  },
  {
   "cell_type": "code",
   "execution_count": 42,
   "id": "9a14ba9a",
   "metadata": {},
   "outputs": [],
   "source": [
    "# избавимся от колонки `Model`, как и планировали\n",
    "X_train_lr = X_train.drop(columns='Model')\n",
    "X_val_lr = X_val.drop(columns='Model')"
   ]
  },
  {
   "cell_type": "code",
   "execution_count": 43,
   "id": "0df2623d",
   "metadata": {},
   "outputs": [
    {
     "name": "stdout",
     "output_type": "stream",
     "text": [
      "Wall time: 2.26 s\n"
     ]
    }
   ],
   "source": [
    "%%time\n",
    "# старт таймера\n",
    "start = time.time()\n",
    "\n",
    "# подготовка данных\n",
    "X_train_lr_tr = full_pipeline.fit_transform(X_train_lr)\n",
    "X_val_lr_tr = full_pipeline.transform(X_val_lr)\n",
    "\n",
    "# обучение модели\n",
    "model = LinearRegression()\n",
    "model.fit(X_train_lr_tr, y_train)\n",
    "\n",
    "# остановка таймера\n",
    "end = time.time()\n",
    "timer = end - start\n",
    "        \n",
    "# добавим метрики\n",
    "score_list[0].append(round(timer, 2))"
   ]
  },
  {
   "cell_type": "code",
   "execution_count": 44,
   "id": "0a33fa13",
   "metadata": {},
   "outputs": [
    {
     "name": "stdout",
     "output_type": "stream",
     "text": [
      "\n",
      "=============================================\n",
      "Время предсказания модели: 0.0\n",
      "RMSE модели: 3367.33\n",
      "Wall time: 7.02 ms\n"
     ]
    }
   ],
   "source": [
    "%%time\n",
    "# старт таймера\n",
    "start = time.time()\n",
    "\n",
    "# предсказание модели\n",
    "pred = model.predict(X_val_lr_tr)\n",
    "\n",
    "# остановка таймера\n",
    "end = time.time()\n",
    "timer = end - start\n",
    "        \n",
    "# добавим метрики\n",
    "rmse = mean_squared_error(y_val, pred, squared=False)\n",
    "score_list[0].append(round(timer, 2))\n",
    "score_list[0].append(round(rmse, 4))\n",
    "        \n",
    "# результаты модели\n",
    "print()\n",
    "print('=' * 45)\n",
    "print(f'Время предсказания модели: {round(timer, 2)}')\n",
    "print(f'RMSE модели: {round(rmse, 2)}')"
   ]
  },
  {
   "cell_type": "markdown",
   "id": "39367dcd",
   "metadata": {},
   "source": [
    "Результаты для очищенного датасета."
   ]
  },
  {
   "cell_type": "code",
   "execution_count": 45,
   "id": "c8e5f98f",
   "metadata": {},
   "outputs": [],
   "source": [
    "# избавимся от колонны `Model`, как и планировали\n",
    "X_train_clnd_lr = X_train_clnd.drop(columns='Model')\n",
    "X_val_clnd_lr = X_val_clnd.drop(columns='Model')"
   ]
  },
  {
   "cell_type": "code",
   "execution_count": 46,
   "id": "3acb49c9",
   "metadata": {},
   "outputs": [
    {
     "name": "stdout",
     "output_type": "stream",
     "text": [
      "Wall time: 1.9 s\n"
     ]
    }
   ],
   "source": [
    "%%time\n",
    "# старт таймера\n",
    "start = time.time()\n",
    "\n",
    "# подготовка данных\n",
    "X_train_clnd_lr_tr = full_pipeline.fit_transform(X_train_clnd_lr)\n",
    "X_val_clnd_lr_tr = full_pipeline.transform(X_val_clnd_lr)\n",
    "\n",
    "# обучение модели\n",
    "model = LinearRegression()\n",
    "model.fit(X_train_clnd_lr_tr, y_train_clnd)\n",
    "\n",
    "# остановка таймера\n",
    "end = time.time()\n",
    "timer = end - start\n",
    "        \n",
    "# добавим метрики\n",
    "score_list[1].append(round(timer, 2))"
   ]
  },
  {
   "cell_type": "code",
   "execution_count": 47,
   "id": "618a40a9",
   "metadata": {},
   "outputs": [
    {
     "name": "stdout",
     "output_type": "stream",
     "text": [
      "\n",
      "=============================================\n",
      "Время предсказания модели: 0.0\n",
      "RMSE модели: 2377.53\n",
      "Wall time: 3.99 ms\n"
     ]
    }
   ],
   "source": [
    "%%time\n",
    "# старт таймера\n",
    "start = time.time()\n",
    "\n",
    "# предсказание модели\n",
    "pred = model.predict(X_val_clnd_lr_tr)\n",
    "\n",
    "# остановка таймера\n",
    "end = time.time()\n",
    "timer = end - start\n",
    "        \n",
    "# добавим метрики\n",
    "rmse = mean_squared_error(y_val_clnd, pred, squared=False)\n",
    "score_list[1].append(round(timer, 2))\n",
    "score_list[1].append(round(rmse, 4))\n",
    "        \n",
    "# результаты модели\n",
    "print()\n",
    "print('=' * 45)\n",
    "print(f'Время предсказания модели: {round(timer, 2)}')\n",
    "print(f'RMSE модели: {round(rmse, 2)}')"
   ]
  },
  {
   "cell_type": "markdown",
   "id": "eeb7e933",
   "metadata": {},
   "source": [
    "#### Lightgbm"
   ]
  },
  {
   "cell_type": "markdown",
   "id": "dddecfd1",
   "metadata": {},
   "source": [
    "LightGBM также умеет работать с категориальными переменными, нет необходимости применять кодирование, но нам необходимо привести категориальные признаки к типу category. Для соблюдения требований проверки скорости работы - преобразования также будем включать в замер."
   ]
  },
  {
   "cell_type": "code",
   "execution_count": 48,
   "id": "e968de7a",
   "metadata": {},
   "outputs": [],
   "source": [
    "lgbm_cat_features = list(cat_features)"
   ]
  },
  {
   "cell_type": "code",
   "execution_count": 49,
   "id": "45f53eff",
   "metadata": {},
   "outputs": [
    {
     "data": {
      "text/plain": [
       "['VehicleType',\n",
       " 'RegistrationYear',\n",
       " 'Gearbox',\n",
       " 'Power',\n",
       " 'Model',\n",
       " 'Kilometer',\n",
       " 'RegistrationMonth',\n",
       " 'FuelType',\n",
       " 'Brand',\n",
       " 'NotRepaired']"
      ]
     },
     "execution_count": 49,
     "metadata": {},
     "output_type": "execute_result"
    }
   ],
   "source": [
    "gbm_features = list(X_train.columns)\n",
    "gbm_features"
   ]
  },
  {
   "cell_type": "code",
   "execution_count": 50,
   "id": "a4b9d5d3",
   "metadata": {},
   "outputs": [
    {
     "name": "stdout",
     "output_type": "stream",
     "text": [
      "[LightGBM] [Warning] Auto-choosing col-wise multi-threading, the overhead of testing was 0.008189 seconds.\n",
      "You can set `force_col_wise=true` to remove the overhead.\n",
      "[LightGBM] [Info] Total Bins 692\n",
      "[LightGBM] [Info] Number of data points in the train set: 223536, number of used features: 10\n",
      "[LightGBM] [Info] Start training from score 4660.195830\n",
      "Wall time: 1.14 s\n"
     ]
    }
   ],
   "source": [
    "%%time\n",
    "# старт таймера\n",
    "start = time.time()\n",
    "\n",
    "# приведем выборку к требуемому формату даты\n",
    "X_train_gbm = X_train.copy()\n",
    "\n",
    "for cat in cat_features:\n",
    "    X_train_gbm[cat] = X_train_gbm[cat].astype('category')\n",
    "\n",
    "# приведем выборку к требуемому формату даты\n",
    "X_val_gbm = X_val.copy()\n",
    "\n",
    "for cat in cat_features:\n",
    "    X_val_gbm[cat] = X_val_gbm[cat].astype('category')\n",
    "\n",
    "# формирование сета данных для модели\n",
    "train_data = lgb.Dataset(X_train_gbm, label = y_train, feature_name = gbm_features,\n",
    "                         categorical_feature = lgbm_cat_features\n",
    "                        )\n",
    "# параметры модели\n",
    "param = {'learning_rate': 0.25,\n",
    "         'n_estimators': 100,\n",
    "         'objective': 'root_mean_squared_error'}\n",
    "num_round = 1000\n",
    "\n",
    "# обучение модели\n",
    "lgb_model = lgb.train(param, train_data, num_round)        \n",
    "        \n",
    "# остановка таймера\n",
    "end = time.time()\n",
    "timer = end - start\n",
    "\n",
    "# добавление метрик\n",
    "score_list[2].append(round(timer, 2))"
   ]
  },
  {
   "cell_type": "code",
   "execution_count": 51,
   "id": "3f02bf8c",
   "metadata": {},
   "outputs": [
    {
     "name": "stdout",
     "output_type": "stream",
     "text": [
      "\n",
      "=============================================\n",
      "Время предсказания модели: 0.27\n",
      "RMSE модели: 1674.47\n",
      "Wall time: 274 ms\n"
     ]
    }
   ],
   "source": [
    "%%time\n",
    "# старт таймера\n",
    "start = time.time()\n",
    "\n",
    "# предсказание модели\n",
    "ypred = lgb_model.predict(X_val_gbm)\n",
    "\n",
    "# остановка таймера\n",
    "end = time.time()\n",
    "timer = end - start\n",
    "\n",
    "# добавим метрики\n",
    "gbm_rmse = mean_squared_error(y_val, ypred, squared=False)\n",
    "score_list[2].append(round(timer, 2))\n",
    "score_list[2].append(round(rmse, 4))\n",
    "\n",
    "# результаты модели\n",
    "print()\n",
    "print('=' * 45)\n",
    "print(f'Время предсказания модели: {round(timer, 2)}')\n",
    "print(f'RMSE модели: {round(gbm_rmse, 2)}')"
   ]
  },
  {
   "cell_type": "markdown",
   "id": "6efb6ce2",
   "metadata": {},
   "source": [
    "#### Catboost"
   ]
  },
  {
   "cell_type": "markdown",
   "id": "f4d387f6",
   "metadata": {},
   "source": [
    "Catboost умеет работать с категориальными переменными - в кодировании нет необходимости. Составим список наших категорий."
   ]
  },
  {
   "cell_type": "code",
   "execution_count": 52,
   "id": "62fa2731",
   "metadata": {},
   "outputs": [
    {
     "data": {
      "text/plain": [
       "['VehicleType', 'Gearbox', 'Model', 'FuelType', 'Brand', 'NotRepaired']"
      ]
     },
     "execution_count": 52,
     "metadata": {},
     "output_type": "execute_result"
    }
   ],
   "source": [
    "cb_cat_features = list(X_train.select_dtypes(include=['object']).columns)\n",
    "cb_cat_features"
   ]
  },
  {
   "cell_type": "code",
   "execution_count": 53,
   "id": "ac671df1",
   "metadata": {},
   "outputs": [
    {
     "name": "stdout",
     "output_type": "stream",
     "text": [
      "0:\tlearn: 3880.3999235\ttotal: 130ms\tremaining: 12.8s\n",
      "20:\tlearn: 1946.8300523\ttotal: 1.51s\tremaining: 5.7s\n",
      "40:\tlearn: 1840.0054348\ttotal: 3.13s\tremaining: 4.5s\n",
      "60:\tlearn: 1792.9698360\ttotal: 4.44s\tremaining: 2.84s\n",
      "80:\tlearn: 1763.3769879\ttotal: 5.64s\tremaining: 1.32s\n",
      "99:\tlearn: 1742.7680233\ttotal: 6.88s\tremaining: 0us\n",
      "Wall time: 7.72 s\n"
     ]
    }
   ],
   "source": [
    "%%time\n",
    "\n",
    "# старт таймера\n",
    "start = time.time()\n",
    "\n",
    "# объявление модели\n",
    "cat_model = CatBoostRegressor(iterations=100, learning_rate=0.25, \n",
    "                              verbose=20, cat_features=cb_cat_features, \n",
    "                              random_seed=42)\n",
    "\n",
    "# обучение модели\n",
    "cat_model.fit(X_train, y_train)\n",
    "\n",
    "# остановка таймера\n",
    "end = time.time()\n",
    "timer = end - start\n",
    "\n",
    "# добавление метрик\n",
    "score_list[3].append(round(timer, 2))"
   ]
  },
  {
   "cell_type": "code",
   "execution_count": 54,
   "id": "338ae293",
   "metadata": {},
   "outputs": [
    {
     "name": "stdout",
     "output_type": "stream",
     "text": [
      "\n",
      "=============================================\n",
      "Время предсказания модели: 0.15\n",
      "RMSE модели: 1762.7358\n",
      "Wall time: 148 ms\n"
     ]
    }
   ],
   "source": [
    "%%time\n",
    "\n",
    "# старт таймера\n",
    "start = time.time()\n",
    "\n",
    "# предсказание\n",
    "cat_pred = cat_model.predict(X_val)\n",
    "\n",
    "# остановка таймера\n",
    "end = time.time()\n",
    "timer = end - start\n",
    "\n",
    "# добавление метрик\n",
    "cat_rmse = mean_squared_error(y_val, cat_pred, squared=False)\n",
    "score_list[3].append(round(timer, 2))\n",
    "score_list[3].append(round(cat_rmse, 4))\n",
    "\n",
    "# результаты модели\n",
    "print()\n",
    "print('=' * 45)\n",
    "print(f'Время предсказания модели: {round(timer, 2)}')\n",
    "print(f'RMSE модели: {round(cat_rmse, 4)}')"
   ]
  },
  {
   "cell_type": "markdown",
   "id": "6d7a0b41",
   "metadata": {},
   "source": [
    "## Анализ моделей"
   ]
  },
  {
   "cell_type": "markdown",
   "id": "e56d1ba6",
   "metadata": {},
   "source": [
    "Перед анализом моделей, добавим в таблицу оценок показатель константной модели, построенной на средних значениях."
   ]
  },
  {
   "cell_type": "code",
   "execution_count": 55,
   "id": "0df05f92",
   "metadata": {},
   "outputs": [],
   "source": [
    "# старт таймера\n",
    "start = time.time()\n",
    "\n",
    "# проверка на адкеватность\n",
    "pred_const = pd.Series(data_list[3].mean()[0], index=data_list[3].index)\n",
    "rmse_mean = round(mean_squared_error(data_list[3], pred_const, squared=False), 2)\n",
    "\n",
    "# остановка таймера\n",
    "end = time.time()\n",
    "timer = end - start\n",
    "pred_timer = 0\n",
    "score_list.append(['Constant model (mean)', round(timer, 2), pred_timer, rmse_mean])"
   ]
  },
  {
   "cell_type": "markdown",
   "id": "47dbcf8b",
   "metadata": {},
   "source": [
    "Анализ моделей проведем по сводной таблице."
   ]
  },
  {
   "cell_type": "code",
   "execution_count": 56,
   "id": "778804f4",
   "metadata": {},
   "outputs": [],
   "source": [
    "models_score = pd.DataFrame(\n",
    "    score_list, columns=['model', 'fit_wall_time, sec','predict_wall_time, sec', 'rmse',]\n",
    ").sort_values(by='rmse').reset_index(drop=True)"
   ]
  },
  {
   "cell_type": "code",
   "execution_count": 57,
   "id": "2cbb18b7",
   "metadata": {
    "scrolled": true
   },
   "outputs": [
    {
     "data": {
      "text/html": [
       "<style type=\"text/css\">\n",
       "#T_e89f6_row0_col3 {\n",
       "  background-color: green;\n",
       "}\n",
       "#T_e89f6_row4_col4 {\n",
       "  background-color: lightblue;\n",
       "}\n",
       "</style>\n",
       "<table id=\"T_e89f6_\">\n",
       "  <thead>\n",
       "    <tr>\n",
       "      <th class=\"blank level0\" >&nbsp;</th>\n",
       "      <th class=\"col_heading level0 col0\" >model</th>\n",
       "      <th class=\"col_heading level0 col1\" >fit_wall_time, sec</th>\n",
       "      <th class=\"col_heading level0 col2\" >predict_wall_time, sec</th>\n",
       "      <th class=\"col_heading level0 col3\" >rmse</th>\n",
       "      <th class=\"col_heading level0 col4\" >total_wall_time, sec</th>\n",
       "    </tr>\n",
       "  </thead>\n",
       "  <tbody>\n",
       "    <tr>\n",
       "      <th id=\"T_e89f6_level0_row0\" class=\"row_heading level0 row0\" >0</th>\n",
       "      <td id=\"T_e89f6_row0_col0\" class=\"data row0 col0\" >Catboost</td>\n",
       "      <td id=\"T_e89f6_row0_col1\" class=\"data row0 col1\" >7.720000</td>\n",
       "      <td id=\"T_e89f6_row0_col2\" class=\"data row0 col2\" >0.150000</td>\n",
       "      <td id=\"T_e89f6_row0_col3\" class=\"data row0 col3\" >1762.735800</td>\n",
       "      <td id=\"T_e89f6_row0_col4\" class=\"data row0 col4\" >7.870000</td>\n",
       "    </tr>\n",
       "    <tr>\n",
       "      <th id=\"T_e89f6_level0_row1\" class=\"row_heading level0 row1\" >1</th>\n",
       "      <td id=\"T_e89f6_row1_col0\" class=\"data row1 col0\" >Cleaned_LinrearRegression</td>\n",
       "      <td id=\"T_e89f6_row1_col1\" class=\"data row1 col1\" >1.900000</td>\n",
       "      <td id=\"T_e89f6_row1_col2\" class=\"data row1 col2\" >0.000000</td>\n",
       "      <td id=\"T_e89f6_row1_col3\" class=\"data row1 col3\" >2377.531400</td>\n",
       "      <td id=\"T_e89f6_row1_col4\" class=\"data row1 col4\" >1.900000</td>\n",
       "    </tr>\n",
       "    <tr>\n",
       "      <th id=\"T_e89f6_level0_row2\" class=\"row_heading level0 row2\" >2</th>\n",
       "      <td id=\"T_e89f6_row2_col0\" class=\"data row2 col0\" >Lightgbm</td>\n",
       "      <td id=\"T_e89f6_row2_col1\" class=\"data row2 col1\" >1.140000</td>\n",
       "      <td id=\"T_e89f6_row2_col2\" class=\"data row2 col2\" >0.270000</td>\n",
       "      <td id=\"T_e89f6_row2_col3\" class=\"data row2 col3\" >2377.531400</td>\n",
       "      <td id=\"T_e89f6_row2_col4\" class=\"data row2 col4\" >1.410000</td>\n",
       "    </tr>\n",
       "    <tr>\n",
       "      <th id=\"T_e89f6_level0_row3\" class=\"row_heading level0 row3\" >3</th>\n",
       "      <td id=\"T_e89f6_row3_col0\" class=\"data row3 col0\" >LinearRegression</td>\n",
       "      <td id=\"T_e89f6_row3_col1\" class=\"data row3 col1\" >2.260000</td>\n",
       "      <td id=\"T_e89f6_row3_col2\" class=\"data row3 col2\" >0.000000</td>\n",
       "      <td id=\"T_e89f6_row3_col3\" class=\"data row3 col3\" >3367.327200</td>\n",
       "      <td id=\"T_e89f6_row3_col4\" class=\"data row3 col4\" >2.260000</td>\n",
       "    </tr>\n",
       "    <tr>\n",
       "      <th id=\"T_e89f6_level0_row4\" class=\"row_heading level0 row4\" >4</th>\n",
       "      <td id=\"T_e89f6_row4_col0\" class=\"data row4 col0\" >Constant model (mean)</td>\n",
       "      <td id=\"T_e89f6_row4_col1\" class=\"data row4 col1\" >0.000000</td>\n",
       "      <td id=\"T_e89f6_row4_col2\" class=\"data row4 col2\" >0.000000</td>\n",
       "      <td id=\"T_e89f6_row4_col3\" class=\"data row4 col3\" >4563.230000</td>\n",
       "      <td id=\"T_e89f6_row4_col4\" class=\"data row4 col4\" >0.000000</td>\n",
       "    </tr>\n",
       "  </tbody>\n",
       "</table>\n"
      ],
      "text/plain": [
       "<pandas.io.formats.style.Styler at 0x201dd0d1448>"
      ]
     },
     "execution_count": 57,
     "metadata": {},
     "output_type": "execute_result"
    }
   ],
   "source": [
    "models_score = pd.DataFrame(\n",
    "    score_list, columns=['model', 'fit_wall_time, sec','predict_wall_time, sec', 'rmse',]\n",
    ").sort_values(by='rmse').reset_index(drop=True)\n",
    "\n",
    "models_score['total_wall_time, sec'] = models_score['fit_wall_time, sec'] + models_score['predict_wall_time, sec']\n",
    "\n",
    "models_score.style.highlight_min('rmse', color = 'green', axis = 0).highlight_min(\n",
    "    'total_wall_time, sec', color = 'lightblue' , axis = 0)"
   ]
  },
  {
   "cell_type": "markdown",
   "id": "6945e753",
   "metadata": {},
   "source": [
    "По результатам оценок лидерство получает алгоритм на основании библиотеки Catboost. Изучим веса у двух лидирующих моделей. Все модели прошли sanity check."
   ]
  },
  {
   "cell_type": "code",
   "execution_count": 58,
   "id": "dd572773",
   "metadata": {},
   "outputs": [
    {
     "data": {
      "image/png": "[encoded data removed]",
      "text/plain": [
       "<Figure size 864x360 with 1 Axes>"
      ]
     },
     "metadata": {},
     "output_type": "display_data"
    }
   ],
   "source": [
    "lgb.plot_importance(lgb_model, figsize = (12, 5))\n",
    "plt.title('Feature importance for Lightgbm', fontsize=18)\n",
    "plt.show()"
   ]
  },
  {
   "cell_type": "code",
   "execution_count": 59,
   "id": "2d1085bf",
   "metadata": {},
   "outputs": [
    {
     "data": {
      "text/html": [
       "<div>\n",
       "<style scoped>\n",
       "    .dataframe tbody tr th:only-of-type {\n",
       "        vertical-align: middle;\n",
       "    }\n",
       "\n",
       "    .dataframe tbody tr th {\n",
       "        vertical-align: top;\n",
       "    }\n",
       "\n",
       "    .dataframe thead th {\n",
       "        text-align: right;\n",
       "    }\n",
       "</style>\n",
       "<table border=\"1\" class=\"dataframe\">\n",
       "  <thead>\n",
       "    <tr style=\"text-align: right;\">\n",
       "      <th></th>\n",
       "      <th>feature</th>\n",
       "      <th>importance</th>\n",
       "    </tr>\n",
       "  </thead>\n",
       "  <tbody>\n",
       "    <tr>\n",
       "      <th>6</th>\n",
       "      <td>RegistrationMonth</td>\n",
       "      <td>0.139145</td>\n",
       "    </tr>\n",
       "    <tr>\n",
       "      <th>2</th>\n",
       "      <td>Gearbox</td>\n",
       "      <td>0.498014</td>\n",
       "    </tr>\n",
       "    <tr>\n",
       "      <th>7</th>\n",
       "      <td>FuelType</td>\n",
       "      <td>1.324051</td>\n",
       "    </tr>\n",
       "    <tr>\n",
       "      <th>9</th>\n",
       "      <td>NotRepaired</td>\n",
       "      <td>2.539309</td>\n",
       "    </tr>\n",
       "    <tr>\n",
       "      <th>4</th>\n",
       "      <td>Model</td>\n",
       "      <td>3.914619</td>\n",
       "    </tr>\n",
       "    <tr>\n",
       "      <th>0</th>\n",
       "      <td>VehicleType</td>\n",
       "      <td>8.484479</td>\n",
       "    </tr>\n",
       "    <tr>\n",
       "      <th>8</th>\n",
       "      <td>Brand</td>\n",
       "      <td>8.486204</td>\n",
       "    </tr>\n",
       "    <tr>\n",
       "      <th>5</th>\n",
       "      <td>Kilometer</td>\n",
       "      <td>9.693552</td>\n",
       "    </tr>\n",
       "    <tr>\n",
       "      <th>3</th>\n",
       "      <td>Power</td>\n",
       "      <td>23.415633</td>\n",
       "    </tr>\n",
       "    <tr>\n",
       "      <th>1</th>\n",
       "      <td>RegistrationYear</td>\n",
       "      <td>41.504995</td>\n",
       "    </tr>\n",
       "  </tbody>\n",
       "</table>\n",
       "</div>"
      ],
      "text/plain": [
       "             feature  importance\n",
       "6  RegistrationMonth    0.139145\n",
       "2            Gearbox    0.498014\n",
       "7           FuelType    1.324051\n",
       "9        NotRepaired    2.539309\n",
       "4              Model    3.914619\n",
       "0        VehicleType    8.484479\n",
       "8              Brand    8.486204\n",
       "5          Kilometer    9.693552\n",
       "3              Power   23.415633\n",
       "1   RegistrationYear   41.504995"
      ]
     },
     "execution_count": 59,
     "metadata": {},
     "output_type": "execute_result"
    }
   ],
   "source": [
    "cb_feature_importance = pd.DataFrame(\n",
    "    list(cat_model.get_feature_importance()), \n",
    "    list(X_train.columns)).reset_index().sort_values(\n",
    "    by=0).rename(columns={'index': 'feature', 0: 'importance'})\n",
    "cb_feature_importance"
   ]
  },
  {
   "cell_type": "code",
   "execution_count": 60,
   "id": "97cfdff8",
   "metadata": {},
   "outputs": [
    {
     "data": {
      "image/png": "[encoded data removed]",
      "text/plain": [
       "<Figure size 432x288 with 1 Axes>"
      ]
     },
     "metadata": {},
     "output_type": "display_data"
    }
   ],
   "source": [
    "plt.barh(cb_feature_importance['feature'], cb_feature_importance['importance'], edgecolor='black', color='r')\n",
    "plt.title('Feature importance for Catboost', fontsize=18)\n",
    "plt.show()"
   ]
  },
  {
   "cell_type": "markdown",
   "id": "f9196e5c",
   "metadata": {},
   "source": [
    "Для Lightgbm топ-3 признаков выглядит следующим образом: `Registarion Year`, `Model` и `Power`.\n",
    "Для Catboost топ-3: `Registarion Year`, `Power` и `Kilometer`.\n",
    "\n",
    "При этом для Lightgbm признак `Kilometer` находится на 4 месте, а признак `Model` для Catboost на 6 месте.\n",
    "\n",
    "Общий топ признаков выглядит логично и достоверно. Они непосредственно влияют на техническое состояние и цену авто. \n",
    "\n",
    "При этом Lightgbm опирается на `Model`, в большей степени, чем на `Vehicle Type` (наоборот для Catboost). Как мы помним, `Мodel` является проблемным признаком с большим количеством случайных классов, формируемых пользователями. Этот факт необходимо учитывать и при рекомендации модели обозначить возможность ее улучшения дополнительным уточнением этого признака.\n",
    "\n",
    "В свою очередь Catboost, хоть и показывает лучшую rmse, но демонстрирует самую низкую скорость обучения и предсказания. При этом, топ-3 признаков модели прямо соответствует корреляции Спирмена."
   ]
  },
  {
   "cell_type": "markdown",
   "id": "188d394c",
   "metadata": {},
   "source": [
    "## Выводы"
   ]
  },
  {
   "cell_type": "code",
   "execution_count": 61,
   "id": "a42a3bbb",
   "metadata": {},
   "outputs": [
    {
     "data": {
      "text/html": [
       "<style type=\"text/css\">\n",
       "#T_a947c_row0_col3 {\n",
       "  background-color: green;\n",
       "}\n",
       "#T_a947c_row4_col4 {\n",
       "  background-color: lightblue;\n",
       "}\n",
       "</style>\n",
       "<table id=\"T_a947c_\">\n",
       "  <thead>\n",
       "    <tr>\n",
       "      <th class=\"blank level0\" >&nbsp;</th>\n",
       "      <th class=\"col_heading level0 col0\" >model</th>\n",
       "      <th class=\"col_heading level0 col1\" >fit_wall_time, sec</th>\n",
       "      <th class=\"col_heading level0 col2\" >predict_wall_time, sec</th>\n",
       "      <th class=\"col_heading level0 col3\" >rmse</th>\n",
       "      <th class=\"col_heading level0 col4\" >total_wall_time, sec</th>\n",
       "    </tr>\n",
       "  </thead>\n",
       "  <tbody>\n",
       "    <tr>\n",
       "      <th id=\"T_a947c_level0_row0\" class=\"row_heading level0 row0\" >0</th>\n",
       "      <td id=\"T_a947c_row0_col0\" class=\"data row0 col0\" >Catboost</td>\n",
       "      <td id=\"T_a947c_row0_col1\" class=\"data row0 col1\" >7.720000</td>\n",
       "      <td id=\"T_a947c_row0_col2\" class=\"data row0 col2\" >0.150000</td>\n",
       "      <td id=\"T_a947c_row0_col3\" class=\"data row0 col3\" >1762.735800</td>\n",
       "      <td id=\"T_a947c_row0_col4\" class=\"data row0 col4\" >7.870000</td>\n",
       "    </tr>\n",
       "    <tr>\n",
       "      <th id=\"T_a947c_level0_row1\" class=\"row_heading level0 row1\" >1</th>\n",
       "      <td id=\"T_a947c_row1_col0\" class=\"data row1 col0\" >Cleaned_LinrearRegression</td>\n",
       "      <td id=\"T_a947c_row1_col1\" class=\"data row1 col1\" >1.900000</td>\n",
       "      <td id=\"T_a947c_row1_col2\" class=\"data row1 col2\" >0.000000</td>\n",
       "      <td id=\"T_a947c_row1_col3\" class=\"data row1 col3\" >2377.531400</td>\n",
       "      <td id=\"T_a947c_row1_col4\" class=\"data row1 col4\" >1.900000</td>\n",
       "    </tr>\n",
       "    <tr>\n",
       "      <th id=\"T_a947c_level0_row2\" class=\"row_heading level0 row2\" >2</th>\n",
       "      <td id=\"T_a947c_row2_col0\" class=\"data row2 col0\" >Lightgbm</td>\n",
       "      <td id=\"T_a947c_row2_col1\" class=\"data row2 col1\" >1.140000</td>\n",
       "      <td id=\"T_a947c_row2_col2\" class=\"data row2 col2\" >0.270000</td>\n",
       "      <td id=\"T_a947c_row2_col3\" class=\"data row2 col3\" >2377.531400</td>\n",
       "      <td id=\"T_a947c_row2_col4\" class=\"data row2 col4\" >1.410000</td>\n",
       "    </tr>\n",
       "    <tr>\n",
       "      <th id=\"T_a947c_level0_row3\" class=\"row_heading level0 row3\" >3</th>\n",
       "      <td id=\"T_a947c_row3_col0\" class=\"data row3 col0\" >LinearRegression</td>\n",
       "      <td id=\"T_a947c_row3_col1\" class=\"data row3 col1\" >2.260000</td>\n",
       "      <td id=\"T_a947c_row3_col2\" class=\"data row3 col2\" >0.000000</td>\n",
       "      <td id=\"T_a947c_row3_col3\" class=\"data row3 col3\" >3367.327200</td>\n",
       "      <td id=\"T_a947c_row3_col4\" class=\"data row3 col4\" >2.260000</td>\n",
       "    </tr>\n",
       "    <tr>\n",
       "      <th id=\"T_a947c_level0_row4\" class=\"row_heading level0 row4\" >4</th>\n",
       "      <td id=\"T_a947c_row4_col0\" class=\"data row4 col0\" >Constant model (mean)</td>\n",
       "      <td id=\"T_a947c_row4_col1\" class=\"data row4 col1\" >0.000000</td>\n",
       "      <td id=\"T_a947c_row4_col2\" class=\"data row4 col2\" >0.000000</td>\n",
       "      <td id=\"T_a947c_row4_col3\" class=\"data row4 col3\" >4563.230000</td>\n",
       "      <td id=\"T_a947c_row4_col4\" class=\"data row4 col4\" >0.000000</td>\n",
       "    </tr>\n",
       "  </tbody>\n",
       "</table>\n"
      ],
      "text/plain": [
       "<pandas.io.formats.style.Styler at 0x201e0c40588>"
      ]
     },
     "execution_count": 61,
     "metadata": {},
     "output_type": "execute_result"
    }
   ],
   "source": [
    "models_score.style.highlight_min('rmse', color = 'green', axis = 0).highlight_min(\n",
    "    'total_wall_time, sec', color = 'lightblue' , axis = 0)"
   ]
  },
  {
   "cell_type": "markdown",
   "id": "ca187a9c",
   "metadata": {},
   "source": [
    "Заказчику важны:\n",
    "- качество предсказания;\n",
    "- скорость предсказания;\n",
    "- время обучения.\n",
    "\n",
    "\n",
    "Самое высокое качество показывает модель на основе Catboost при самом медленном wall time (включая обучение, и предсказание модели). При этом LR демонстрирует неплохие показатели на очищенном датасете, при отличной скорости. \n",
    "\n",
    "Если будет стоять вопрос о больших дорогих объемах обучения (требующих значительных мощностей), то стоит рекомендовать делать прогноз, основываясь на Lightgbm. Даже несмотря на практически одинаковое время с LR на очищенном датасете, необходимо учитывать времязатраты на предобработку сета, а также возможность настройки. При этом, даже при условии дешевых предсказаний для LR, Lightgbm будет лучшей моделью. В случае приоритета точности, стоит остановить свой выбор на Catboost.\n",
    "\n",
    "Необходимо отметить, что признак `Model` на данный момент (на который опирается Lightgbm), формируется пользователем самостоятельно и оказывает значительное влияние на предсказание цены. В связи с чем, рекомендуем рассмотреть порядок формирования этой категории на сайте, для дальнейшего уточнения модели. \n",
    "\n",
    "Большая детализация данных позволит сформировать дополнительные синтетические категорийные признаки, что может улучшить показатели Lightgbm. Например, сформировать категории раритетности авто (ретро, классика, современное) или мощности двигателя (малолитаржки, маслкары, спорткары, семейные авто)."
   ]
  }
 ],
 "metadata": {
  "kernelspec": {
   "display_name": "Python 3 (ipykernel)",
   "language": "python",
   "name": "python3"
  },
  "language_info": {
   "codemirror_mode": {
    "name": "ipython",
    "version": 3
   },
   "file_extension": ".py",
   "mimetype": "text/x-python",
   "name": "python",
   "nbconvert_exporter": "python",
   "pygments_lexer": "ipython3",
   "version": "3.7.11"
  },
  "toc": {
   "base_numbering": 1,
   "nav_menu": {},
   "number_sections": true,
   "sideBar": true,
   "skip_h1_title": true,
   "title_cell": "Table of Contents",
   "title_sidebar": "Contents",
   "toc_cell": true,
   "toc_position": {
    "height": "calc(100% - 180px)",
    "left": "10px",
    "top": "150px",
    "width": "304px"
   },
   "toc_section_display": true,
   "toc_window_display": true
  }
 },
 "nbformat": 4,
 "nbformat_minor": 5
}
