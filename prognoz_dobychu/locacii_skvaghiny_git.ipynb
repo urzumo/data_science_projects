{
 "cells": [
  {
   "cell_type": "markdown",
   "id": "c64bd47e",
   "metadata": {
    "toc": true
   },
   "source": [
    "<h1>Table of Contents<span class=\"tocSkip\"></span></h1>\n",
    "<div class=\"toc\"><ul class=\"toc-item\"><li><span><a href=\"#Описание-задачи\" data-toc-modified-id=\"Описание-задачи-1\"><span class=\"toc-item-num\">1&nbsp;&nbsp;</span>Описание задачи</a></span><ul class=\"toc-item\"><li><span><a href=\"#Постановка-задачи\" data-toc-modified-id=\"Постановка-задачи-1.1\"><span class=\"toc-item-num\">1.1&nbsp;&nbsp;</span>Постановка задачи</a></span></li><li><span><a href=\"#Ход-исполнения\" data-toc-modified-id=\"Ход-исполнения-1.2\"><span class=\"toc-item-num\">1.2&nbsp;&nbsp;</span>Ход исполнения</a></span></li></ul></li><li><span><a href=\"#Обзор-данных\" data-toc-modified-id=\"Обзор-данных-2\"><span class=\"toc-item-num\">2&nbsp;&nbsp;</span>Обзор данных</a></span><ul class=\"toc-item\"><li><span><a href=\"#Загрузка-инструментария\" data-toc-modified-id=\"Загрузка-инструментария-2.1\"><span class=\"toc-item-num\">2.1&nbsp;&nbsp;</span>Загрузка инструментария</a></span></li><li><span><a href=\"#Загрузка-данных\" data-toc-modified-id=\"Загрузка-данных-2.2\"><span class=\"toc-item-num\">2.2&nbsp;&nbsp;</span>Загрузка данных</a></span></li><li><span><a href=\"#Описание-данных\" data-toc-modified-id=\"Описание-данных-2.3\"><span class=\"toc-item-num\">2.3&nbsp;&nbsp;</span>Описание данных</a></span></li></ul></li><li><span><a href=\"#Предобработка-данных\" data-toc-modified-id=\"Предобработка-данных-3\"><span class=\"toc-item-num\">3&nbsp;&nbsp;</span>Предобработка данных</a></span><ul class=\"toc-item\"><li><span><a href=\"#Явные-проблемы-в-данных\" data-toc-modified-id=\"Явные-проблемы-в-данных-3.1\"><span class=\"toc-item-num\">3.1&nbsp;&nbsp;</span>Явные проблемы в данных</a></span></li></ul></li><li><span><a href=\"#Анализ-признаков\" data-toc-modified-id=\"Анализ-признаков-4\"><span class=\"toc-item-num\">4&nbsp;&nbsp;</span>Анализ признаков</a></span><ul class=\"toc-item\"><li><span><a href=\"#Описание-признаков\" data-toc-modified-id=\"Описание-признаков-4.1\"><span class=\"toc-item-num\">4.1&nbsp;&nbsp;</span>Описание признаков</a></span></li><li><span><a href=\"#Распределение-признаков-региона-1\" data-toc-modified-id=\"Распределение-признаков-региона-1-4.2\"><span class=\"toc-item-num\">4.2&nbsp;&nbsp;</span>Распределение признаков региона 1</a></span></li><li><span><a href=\"#Распределение-признаков-региона-2\" data-toc-modified-id=\"Распределение-признаков-региона-2-4.3\"><span class=\"toc-item-num\">4.3&nbsp;&nbsp;</span>Распределение признаков региона 2</a></span></li><li><span><a href=\"#Распределение-признаков-региона-3\" data-toc-modified-id=\"Распределение-признаков-региона-3-4.4\"><span class=\"toc-item-num\">4.4&nbsp;&nbsp;</span>Распределение признаков региона 3</a></span></li><li><span><a href=\"#Корреляция\" data-toc-modified-id=\"Корреляция-4.5\"><span class=\"toc-item-num\">4.5&nbsp;&nbsp;</span>Корреляция</a></span><ul class=\"toc-item\"><li><span><a href=\"#Эмпирический-признак\" data-toc-modified-id=\"Эмпирический-признак-4.5.1\"><span class=\"toc-item-num\">4.5.1&nbsp;&nbsp;</span>Эмпирический признак</a></span></li></ul></li></ul></li><li><span><a href=\"#Наборы\" data-toc-modified-id=\"Наборы-5\"><span class=\"toc-item-num\">5&nbsp;&nbsp;</span>Наборы</a></span></li><li><span><a href=\"#Модель\" data-toc-modified-id=\"Модель-6\"><span class=\"toc-item-num\">6&nbsp;&nbsp;</span>Модель</a></span><ul class=\"toc-item\"><li><span><a href=\"#Функции\" data-toc-modified-id=\"Функции-6.1\"><span class=\"toc-item-num\">6.1&nbsp;&nbsp;</span>Функции</a></span><ul class=\"toc-item\"><li><span><a href=\"#Функция-проверки-ml_slave\" data-toc-modified-id=\"Функция-проверки-ml_slave-6.1.1\"><span class=\"toc-item-num\">6.1.1&nbsp;&nbsp;</span>Функция проверки ml_slave</a></span></li></ul></li><li><span><a href=\"#Pipeline\" data-toc-modified-id=\"Pipeline-6.2\"><span class=\"toc-item-num\">6.2&nbsp;&nbsp;</span>Pipeline</a></span></li><li><span><a href=\"#Модель\" data-toc-modified-id=\"Модель-6.3\"><span class=\"toc-item-num\">6.3&nbsp;&nbsp;</span>Модель</a></span></li></ul></li><li><span><a href=\"#Расчет-прибыли-и-рисков\" data-toc-modified-id=\"Расчет-прибыли-и-рисков-7\"><span class=\"toc-item-num\">7&nbsp;&nbsp;</span>Расчет прибыли и рисков</a></span><ul class=\"toc-item\"><li><span><a href=\"#Подготовка\" data-toc-modified-id=\"Подготовка-7.1\"><span class=\"toc-item-num\">7.1&nbsp;&nbsp;</span>Подготовка</a></span></li><li><span><a href=\"#Расчеты\" data-toc-modified-id=\"Расчеты-7.2\"><span class=\"toc-item-num\">7.2&nbsp;&nbsp;</span>Расчеты</a></span></li></ul></li><li><span><a href=\"#Выводы\" data-toc-modified-id=\"Выводы-8\"><span class=\"toc-item-num\">8&nbsp;&nbsp;</span>Выводы</a></span></li></ul></div>"
   ]
  },
  {
   "cell_type": "markdown",
   "id": "82fa53c3",
   "metadata": {},
   "source": [
    "# Выбор локации для скважины"
   ]
  },
  {
   "cell_type": "markdown",
   "id": "c8117339",
   "metadata": {},
   "source": [
    "## Описание задачи"
   ]
  },
  {
   "cell_type": "markdown",
   "id": "1727d1be",
   "metadata": {},
   "source": [
    "### Постановка задачи"
   ]
  },
  {
   "cell_type": "markdown",
   "id": "d9d81ecf",
   "metadata": {},
   "source": [
    "Заказчиком выступает добывающая компания «ГлавРосГосНефть». Необходимо определить, где бурить новую скважину.\n",
    "Процедура выбора локации определена заказчиком:\n",
    "- В избранном регионе собирают характеристики для скважин: качество нефти и объём её запасов;\n",
    "- Строят модель для предсказания объёма запасов в новых скважинах;\n",
    "- Выбирают скважины с самыми высокими оценками значений;\n",
    "- Определяют регион с максимальной суммарной прибылью отобранных скважин.\n",
    "\n",
    "\n",
    "Предоставлены пробы нефти в трёх регионах. Характеристики для каждой скважины в регионе уже известны. Необходимо построить  модель для определения региона, где добыча принесёт наибольшую прибыль. \n",
    "\n",
    "После чего проанализировать возможную прибыль и риски техникой Bootstrap."
   ]
  },
  {
   "cell_type": "markdown",
   "id": "1ecd4fad",
   "metadata": {},
   "source": [
    "**Условия задачи:**\n",
    "- Для обучения модели подходит только линейная регрессия (остальные — недостаточно предсказуемые).\n",
    "- При разведке региона исследуют 500 точек, из которых с помощью машинного обучения выбирают 200 лучших для разработки.\n",
    "- Бюджет на разработку скважин в регионе — 10 млрд рублей.\n",
    "- При нынешних ценах один баррель сырья приносит 450 рублей дохода. Доход с каждой единицы продукта составляет 450 тыс. рублей, поскольку объём указан в тысячах баррелей.\n",
    "- После оценки рисков нужно оставить лишь те регионы, в которых вероятность убытков меньше 2.5%. Среди них выбирают регион с наибольшей средней прибылью.\n",
    "- Данные синтетические: детали контрактов и характеристики месторождений не разглашаются."
   ]
  },
  {
   "cell_type": "markdown",
   "id": "dfeee93d",
   "metadata": {},
   "source": [
    "### Ход исполнения"
   ]
  },
  {
   "cell_type": "markdown",
   "id": "ae75fe80",
   "metadata": {},
   "source": [
    "1. Загрузить и подготовить данные. \n",
    "2. Обучить и проверить модель для каждого региона:    \n",
    "       2.1. Разбить данные на обучающую и валидационную выборки в соотношении 75:25.    \n",
    "       2.2. Обучить модель и сделать предсказания на валидационной выборке.\n",
    "       2.3. Сохранить предсказания и правильные ответы на валидационной выборке.\n",
    "       2.4. Вывести на экране средний запас предсказанного сырья и RMSE модели.\n",
    "       2.5. Проанализировать результаты.\n",
    "    \n",
    "3. Подготовить расчёт прибыли:\n",
    "       3.1. Все ключевые значения для расчётов сохранить в отдельных переменных.\n",
    "       3.2. Рассчитать достаточный объём сырья для безубыточной разработки новой скважины. Сравнить полученный объём сырья со средним запасом в каждом регионе.\n",
    "       3.3. Написать выводы по этапу подготовки расчёта прибыли.\n",
    "4. Написать функцию для расчёта прибыли по выбранным скважинам и предсказаниям модели:\n",
    "       4.1. Выберать скважины с максимальными значениями предсказаний.\n",
    "       4.2. Просуммировать целевое значение объёма сырья, соответствующее этим предсказаниям.\n",
    "       4.3. Рассчитать прибыль для полученного объёма сырья.\n",
    "5. Посчитать риски и прибыль для каждого региона:\n",
    "       5.1. Применить технику Bootstrap с 1000 выборок, чтобы найти распределение прибыли.\n",
    "       5.2. Найти среднюю прибыль, 95%-й доверительный интервал и риск убытков. Убыток — это отрицательная прибыль.\n",
    "       5.3. Написать выводы: предложить регион для разработки скважин и обосновать выбор."
   ]
  },
  {
   "cell_type": "markdown",
   "id": "724bf5ea",
   "metadata": {},
   "source": [
    "## Обзор данных"
   ]
  },
  {
   "cell_type": "markdown",
   "id": "b6516240",
   "metadata": {},
   "source": [
    "### Загрузка инструментария"
   ]
  },
  {
   "cell_type": "code",
   "execution_count": 1,
   "id": "8851f1a0",
   "metadata": {},
   "outputs": [
    {
     "name": "stderr",
     "output_type": "stream",
     "text": [
      "In C:\\Users\\1\\anaconda3\\envs\\praktikum\\lib\\site-packages\\matplotlib\\mpl-data\\stylelib\\_classic_test.mplstyle: \n",
      "The text.latex.preview rcparam was deprecated in Matplotlib 3.3 and will be removed two minor releases later.\n",
      "In C:\\Users\\1\\anaconda3\\envs\\praktikum\\lib\\site-packages\\matplotlib\\mpl-data\\stylelib\\_classic_test.mplstyle: \n",
      "The mathtext.fallback_to_cm rcparam was deprecated in Matplotlib 3.3 and will be removed two minor releases later.\n",
      "In C:\\Users\\1\\anaconda3\\envs\\praktikum\\lib\\site-packages\\matplotlib\\mpl-data\\stylelib\\_classic_test.mplstyle: Support for setting the 'mathtext.fallback_to_cm' rcParam is deprecated since 3.3 and will be removed two minor releases later; use 'mathtext.fallback : 'cm' instead.\n",
      "In C:\\Users\\1\\anaconda3\\envs\\praktikum\\lib\\site-packages\\matplotlib\\mpl-data\\stylelib\\_classic_test.mplstyle: \n",
      "The validate_bool_maybe_none function was deprecated in Matplotlib 3.3 and will be removed two minor releases later.\n",
      "In C:\\Users\\1\\anaconda3\\envs\\praktikum\\lib\\site-packages\\matplotlib\\mpl-data\\stylelib\\_classic_test.mplstyle: \n",
      "The savefig.jpeg_quality rcparam was deprecated in Matplotlib 3.3 and will be removed two minor releases later.\n",
      "In C:\\Users\\1\\anaconda3\\envs\\praktikum\\lib\\site-packages\\matplotlib\\mpl-data\\stylelib\\_classic_test.mplstyle: \n",
      "The keymap.all_axes rcparam was deprecated in Matplotlib 3.3 and will be removed two minor releases later.\n",
      "In C:\\Users\\1\\anaconda3\\envs\\praktikum\\lib\\site-packages\\matplotlib\\mpl-data\\stylelib\\_classic_test.mplstyle: \n",
      "The animation.avconv_path rcparam was deprecated in Matplotlib 3.3 and will be removed two minor releases later.\n",
      "In C:\\Users\\1\\anaconda3\\envs\\praktikum\\lib\\site-packages\\matplotlib\\mpl-data\\stylelib\\_classic_test.mplstyle: \n",
      "The animation.avconv_args rcparam was deprecated in Matplotlib 3.3 and will be removed two minor releases later.\n"
     ]
    }
   ],
   "source": [
    "# импортируем необходимые нам библиотеки для работы с данными\n",
    "import pandas as pd\n",
    "import numpy as np\n",
    "import matplotlib.pyplot as plt\n",
    "import seaborn as sns\n",
    "from scipy import stats as st\n",
    "\n",
    "# импорт моделей\n",
    "from sklearn.linear_model import LinearRegression\n",
    "\n",
    "# импорт метрик\n",
    "from sklearn.metrics import mean_squared_error, mean_absolute_error, r2_score\n",
    "\n",
    "# импорт утилит\n",
    "from sklearn.model_selection import train_test_split\n",
    "from sklearn.model_selection import GridSearchCV\n",
    "from sklearn.model_selection import cross_val_score\n",
    "\n",
    "# импорт классов и пайплайнов\n",
    "from sklearn.pipeline import Pipeline\n",
    "from sklearn.preprocessing import StandardScaler\n",
    "from sklearn import set_config"
   ]
  },
  {
   "cell_type": "code",
   "execution_count": 2,
   "id": "47383304",
   "metadata": {},
   "outputs": [],
   "source": [
    "# установим общие параметры для тетради\n",
    "# оформление графиков\n",
    "sns.set()\n",
    "\n",
    "# вывод pipeline\n",
    "set_config(display='diagram')"
   ]
  },
  {
   "cell_type": "markdown",
   "id": "7da5db47",
   "metadata": {},
   "source": [
    "### Загрузка данных"
   ]
  },
  {
   "cell_type": "code",
   "execution_count": 3,
   "id": "f957c429",
   "metadata": {},
   "outputs": [],
   "source": [
    "# читаем файл и сохраняем в переменные дальнейшей работы, в том числе изменений\n",
    "# используем оператор обработки исключений, чтобы избежать ошибки, при открытии данных,\n",
    "# расположенных по другому адресу \n",
    "try: \n",
    "    geo_0 = pd.read_csv('/datasets/geo_data_0.csv')\n",
    "except:\n",
    "    geo_0 = pd.read_csv('datasets/geo_data_0.csv')\n",
    "    \n",
    "try: \n",
    "    geo_1 = pd.read_csv('/datasets/geo_data_1.csv')\n",
    "except:\n",
    "    geo_1 = pd.read_csv('datasets/geo_data_1.csv')\n",
    "\n",
    "try: \n",
    "    geo_2 = pd.read_csv('/datasets/geo_data_2.csv')\n",
    "except:\n",
    "    geo_2 = pd.read_csv('datasets/geo_data_2.csv')\n",
    "\n",
    "# создадим дополнительные переменные, для контроля изменений    \n",
    "try: \n",
    "    geo_0_control = pd.read_csv('/datasets/geo_data_0.csv')\n",
    "except:\n",
    "    geo_0_control = pd.read_csv('datasets/geo_data_0.csv')\n",
    "    \n",
    "try: \n",
    "    geo_1_control = pd.read_csv('/datasets/geo_data_1.csv')\n",
    "except:\n",
    "    geo_1_control = pd.read_csv('datasets/geo_data_1.csv')\n",
    "\n",
    "try: \n",
    "    geo_2_control = pd.read_csv('/datasets/geo_data_2.csv')\n",
    "except:\n",
    "    geo_2_control = pd.read_csv('datasets/geo_data_2.csv')"
   ]
  },
  {
   "cell_type": "code",
   "execution_count": 4,
   "id": "a867a12f",
   "metadata": {},
   "outputs": [],
   "source": [
    "# подготовим списки датасетов\n",
    "# рабочие датасеты\n",
    "geo_list = [geo_0, geo_1, geo_2]\n",
    "geo_name_list = ['geo_0', 'geo_1', 'geo_2']\n",
    "\n",
    "# контрольные датасеты\n",
    "geo_control_list = [geo_0_control, geo_1_control, geo_2_control]\n",
    "geo_control_name_list = ['geo_0_control', 'geo_1_control', 'geo_2_control']\n",
    "\n",
    "# общий список датасетов\n",
    "data_list = [geo_list, geo_control_list]\n",
    "data_name_list = [geo_name_list, geo_control_name_list]"
   ]
  },
  {
   "cell_type": "code",
   "execution_count": 5,
   "id": "770b5497",
   "metadata": {},
   "outputs": [
    {
     "name": "stdout",
     "output_type": "stream",
     "text": [
      "\u001b[1mИсследование проводится для датасета geo_0\u001b[0m\n"
     ]
    },
    {
     "data": {
      "text/html": [
       "<div>\n",
       "<style scoped>\n",
       "    .dataframe tbody tr th:only-of-type {\n",
       "        vertical-align: middle;\n",
       "    }\n",
       "\n",
       "    .dataframe tbody tr th {\n",
       "        vertical-align: top;\n",
       "    }\n",
       "\n",
       "    .dataframe thead th {\n",
       "        text-align: right;\n",
       "    }\n",
       "</style>\n",
       "<table border=\"1\" class=\"dataframe\">\n",
       "  <thead>\n",
       "    <tr style=\"text-align: right;\">\n",
       "      <th></th>\n",
       "      <th>id</th>\n",
       "      <th>f0</th>\n",
       "      <th>f1</th>\n",
       "      <th>f2</th>\n",
       "      <th>product</th>\n",
       "    </tr>\n",
       "  </thead>\n",
       "  <tbody>\n",
       "    <tr>\n",
       "      <th>75721</th>\n",
       "      <td>7C6bA</td>\n",
       "      <td>0.599283</td>\n",
       "      <td>-0.557623</td>\n",
       "      <td>2.121187</td>\n",
       "      <td>122.073350</td>\n",
       "    </tr>\n",
       "    <tr>\n",
       "      <th>80184</th>\n",
       "      <td>dVxsn</td>\n",
       "      <td>0.739017</td>\n",
       "      <td>-0.463156</td>\n",
       "      <td>-1.347584</td>\n",
       "      <td>48.738540</td>\n",
       "    </tr>\n",
       "    <tr>\n",
       "      <th>19864</th>\n",
       "      <td>1Gm3l</td>\n",
       "      <td>1.422743</td>\n",
       "      <td>-0.534917</td>\n",
       "      <td>3.718798</td>\n",
       "      <td>131.338088</td>\n",
       "    </tr>\n",
       "    <tr>\n",
       "      <th>76699</th>\n",
       "      <td>Nzg1t</td>\n",
       "      <td>1.580244</td>\n",
       "      <td>-0.238458</td>\n",
       "      <td>2.805149</td>\n",
       "      <td>88.327757</td>\n",
       "    </tr>\n",
       "    <tr>\n",
       "      <th>92991</th>\n",
       "      <td>Z7b4F</td>\n",
       "      <td>0.918974</td>\n",
       "      <td>0.023961</td>\n",
       "      <td>2.598575</td>\n",
       "      <td>36.959266</td>\n",
       "    </tr>\n",
       "  </tbody>\n",
       "</table>\n",
       "</div>"
      ],
      "text/plain": [
       "          id        f0        f1        f2     product\n",
       "75721  7C6bA  0.599283 -0.557623  2.121187  122.073350\n",
       "80184  dVxsn  0.739017 -0.463156 -1.347584   48.738540\n",
       "19864  1Gm3l  1.422743 -0.534917  3.718798  131.338088\n",
       "76699  Nzg1t  1.580244 -0.238458  2.805149   88.327757\n",
       "92991  Z7b4F  0.918974  0.023961  2.598575   36.959266"
      ]
     },
     "metadata": {},
     "output_type": "display_data"
    },
    {
     "name": "stdout",
     "output_type": "stream",
     "text": [
      "=============================================\n",
      "\n",
      "\u001b[1mИсследование проводится для датасета geo_1\u001b[0m\n"
     ]
    },
    {
     "data": {
      "text/html": [
       "<div>\n",
       "<style scoped>\n",
       "    .dataframe tbody tr th:only-of-type {\n",
       "        vertical-align: middle;\n",
       "    }\n",
       "\n",
       "    .dataframe tbody tr th {\n",
       "        vertical-align: top;\n",
       "    }\n",
       "\n",
       "    .dataframe thead th {\n",
       "        text-align: right;\n",
       "    }\n",
       "</style>\n",
       "<table border=\"1\" class=\"dataframe\">\n",
       "  <thead>\n",
       "    <tr style=\"text-align: right;\">\n",
       "      <th></th>\n",
       "      <th>id</th>\n",
       "      <th>f0</th>\n",
       "      <th>f1</th>\n",
       "      <th>f2</th>\n",
       "      <th>product</th>\n",
       "    </tr>\n",
       "  </thead>\n",
       "  <tbody>\n",
       "    <tr>\n",
       "      <th>75721</th>\n",
       "      <td>fYVDK</td>\n",
       "      <td>6.078076</td>\n",
       "      <td>0.084568</td>\n",
       "      <td>0.002957</td>\n",
       "      <td>0.000000</td>\n",
       "    </tr>\n",
       "    <tr>\n",
       "      <th>80184</th>\n",
       "      <td>3SQcq</td>\n",
       "      <td>16.462386</td>\n",
       "      <td>2.712946</td>\n",
       "      <td>1.993030</td>\n",
       "      <td>53.906522</td>\n",
       "    </tr>\n",
       "    <tr>\n",
       "      <th>19864</th>\n",
       "      <td>hQ1gJ</td>\n",
       "      <td>7.051898</td>\n",
       "      <td>0.766983</td>\n",
       "      <td>4.990194</td>\n",
       "      <td>134.766305</td>\n",
       "    </tr>\n",
       "    <tr>\n",
       "      <th>76699</th>\n",
       "      <td>Y4vux</td>\n",
       "      <td>-0.240045</td>\n",
       "      <td>-0.380804</td>\n",
       "      <td>3.999693</td>\n",
       "      <td>107.813044</td>\n",
       "    </tr>\n",
       "    <tr>\n",
       "      <th>92991</th>\n",
       "      <td>H1NUw</td>\n",
       "      <td>13.350111</td>\n",
       "      <td>-8.558281</td>\n",
       "      <td>0.002010</td>\n",
       "      <td>0.000000</td>\n",
       "    </tr>\n",
       "  </tbody>\n",
       "</table>\n",
       "</div>"
      ],
      "text/plain": [
       "          id         f0        f1        f2     product\n",
       "75721  fYVDK   6.078076  0.084568  0.002957    0.000000\n",
       "80184  3SQcq  16.462386  2.712946  1.993030   53.906522\n",
       "19864  hQ1gJ   7.051898  0.766983  4.990194  134.766305\n",
       "76699  Y4vux  -0.240045 -0.380804  3.999693  107.813044\n",
       "92991  H1NUw  13.350111 -8.558281  0.002010    0.000000"
      ]
     },
     "metadata": {},
     "output_type": "display_data"
    },
    {
     "name": "stdout",
     "output_type": "stream",
     "text": [
      "=============================================\n",
      "\n",
      "\u001b[1mИсследование проводится для датасета geo_2\u001b[0m\n"
     ]
    },
    {
     "data": {
      "text/html": [
       "<div>\n",
       "<style scoped>\n",
       "    .dataframe tbody tr th:only-of-type {\n",
       "        vertical-align: middle;\n",
       "    }\n",
       "\n",
       "    .dataframe tbody tr th {\n",
       "        vertical-align: top;\n",
       "    }\n",
       "\n",
       "    .dataframe thead th {\n",
       "        text-align: right;\n",
       "    }\n",
       "</style>\n",
       "<table border=\"1\" class=\"dataframe\">\n",
       "  <thead>\n",
       "    <tr style=\"text-align: right;\">\n",
       "      <th></th>\n",
       "      <th>id</th>\n",
       "      <th>f0</th>\n",
       "      <th>f1</th>\n",
       "      <th>f2</th>\n",
       "      <th>product</th>\n",
       "    </tr>\n",
       "  </thead>\n",
       "  <tbody>\n",
       "    <tr>\n",
       "      <th>75721</th>\n",
       "      <td>sPjbT</td>\n",
       "      <td>2.111118</td>\n",
       "      <td>-1.679773</td>\n",
       "      <td>3.112240</td>\n",
       "      <td>117.441301</td>\n",
       "    </tr>\n",
       "    <tr>\n",
       "      <th>80184</th>\n",
       "      <td>1u4uo</td>\n",
       "      <td>0.734759</td>\n",
       "      <td>0.747788</td>\n",
       "      <td>3.670879</td>\n",
       "      <td>47.841249</td>\n",
       "    </tr>\n",
       "    <tr>\n",
       "      <th>19864</th>\n",
       "      <td>kZ6HO</td>\n",
       "      <td>-2.513109</td>\n",
       "      <td>0.844631</td>\n",
       "      <td>-4.922889</td>\n",
       "      <td>45.883483</td>\n",
       "    </tr>\n",
       "    <tr>\n",
       "      <th>76699</th>\n",
       "      <td>gCZGK</td>\n",
       "      <td>-2.035301</td>\n",
       "      <td>-1.522988</td>\n",
       "      <td>5.072839</td>\n",
       "      <td>139.014608</td>\n",
       "    </tr>\n",
       "    <tr>\n",
       "      <th>92991</th>\n",
       "      <td>rqJHx</td>\n",
       "      <td>2.744145</td>\n",
       "      <td>1.429952</td>\n",
       "      <td>-1.372661</td>\n",
       "      <td>84.004276</td>\n",
       "    </tr>\n",
       "  </tbody>\n",
       "</table>\n",
       "</div>"
      ],
      "text/plain": [
       "          id        f0        f1        f2     product\n",
       "75721  sPjbT  2.111118 -1.679773  3.112240  117.441301\n",
       "80184  1u4uo  0.734759  0.747788  3.670879   47.841249\n",
       "19864  kZ6HO -2.513109  0.844631 -4.922889   45.883483\n",
       "76699  gCZGK -2.035301 -1.522988  5.072839  139.014608\n",
       "92991  rqJHx  2.744145  1.429952 -1.372661   84.004276"
      ]
     },
     "metadata": {},
     "output_type": "display_data"
    },
    {
     "name": "stdout",
     "output_type": "stream",
     "text": [
      "=============================================\n",
      "\n",
      "\u001b[1mИсследование проводится для датасета geo_0_control\u001b[0m\n"
     ]
    },
    {
     "data": {
      "text/html": [
       "<div>\n",
       "<style scoped>\n",
       "    .dataframe tbody tr th:only-of-type {\n",
       "        vertical-align: middle;\n",
       "    }\n",
       "\n",
       "    .dataframe tbody tr th {\n",
       "        vertical-align: top;\n",
       "    }\n",
       "\n",
       "    .dataframe thead th {\n",
       "        text-align: right;\n",
       "    }\n",
       "</style>\n",
       "<table border=\"1\" class=\"dataframe\">\n",
       "  <thead>\n",
       "    <tr style=\"text-align: right;\">\n",
       "      <th></th>\n",
       "      <th>id</th>\n",
       "      <th>f0</th>\n",
       "      <th>f1</th>\n",
       "      <th>f2</th>\n",
       "      <th>product</th>\n",
       "    </tr>\n",
       "  </thead>\n",
       "  <tbody>\n",
       "    <tr>\n",
       "      <th>75721</th>\n",
       "      <td>7C6bA</td>\n",
       "      <td>0.599283</td>\n",
       "      <td>-0.557623</td>\n",
       "      <td>2.121187</td>\n",
       "      <td>122.073350</td>\n",
       "    </tr>\n",
       "    <tr>\n",
       "      <th>80184</th>\n",
       "      <td>dVxsn</td>\n",
       "      <td>0.739017</td>\n",
       "      <td>-0.463156</td>\n",
       "      <td>-1.347584</td>\n",
       "      <td>48.738540</td>\n",
       "    </tr>\n",
       "    <tr>\n",
       "      <th>19864</th>\n",
       "      <td>1Gm3l</td>\n",
       "      <td>1.422743</td>\n",
       "      <td>-0.534917</td>\n",
       "      <td>3.718798</td>\n",
       "      <td>131.338088</td>\n",
       "    </tr>\n",
       "    <tr>\n",
       "      <th>76699</th>\n",
       "      <td>Nzg1t</td>\n",
       "      <td>1.580244</td>\n",
       "      <td>-0.238458</td>\n",
       "      <td>2.805149</td>\n",
       "      <td>88.327757</td>\n",
       "    </tr>\n",
       "    <tr>\n",
       "      <th>92991</th>\n",
       "      <td>Z7b4F</td>\n",
       "      <td>0.918974</td>\n",
       "      <td>0.023961</td>\n",
       "      <td>2.598575</td>\n",
       "      <td>36.959266</td>\n",
       "    </tr>\n",
       "  </tbody>\n",
       "</table>\n",
       "</div>"
      ],
      "text/plain": [
       "          id        f0        f1        f2     product\n",
       "75721  7C6bA  0.599283 -0.557623  2.121187  122.073350\n",
       "80184  dVxsn  0.739017 -0.463156 -1.347584   48.738540\n",
       "19864  1Gm3l  1.422743 -0.534917  3.718798  131.338088\n",
       "76699  Nzg1t  1.580244 -0.238458  2.805149   88.327757\n",
       "92991  Z7b4F  0.918974  0.023961  2.598575   36.959266"
      ]
     },
     "metadata": {},
     "output_type": "display_data"
    },
    {
     "name": "stdout",
     "output_type": "stream",
     "text": [
      "=============================================\n",
      "\n",
      "\u001b[1mИсследование проводится для датасета geo_1_control\u001b[0m\n"
     ]
    },
    {
     "data": {
      "text/html": [
       "<div>\n",
       "<style scoped>\n",
       "    .dataframe tbody tr th:only-of-type {\n",
       "        vertical-align: middle;\n",
       "    }\n",
       "\n",
       "    .dataframe tbody tr th {\n",
       "        vertical-align: top;\n",
       "    }\n",
       "\n",
       "    .dataframe thead th {\n",
       "        text-align: right;\n",
       "    }\n",
       "</style>\n",
       "<table border=\"1\" class=\"dataframe\">\n",
       "  <thead>\n",
       "    <tr style=\"text-align: right;\">\n",
       "      <th></th>\n",
       "      <th>id</th>\n",
       "      <th>f0</th>\n",
       "      <th>f1</th>\n",
       "      <th>f2</th>\n",
       "      <th>product</th>\n",
       "    </tr>\n",
       "  </thead>\n",
       "  <tbody>\n",
       "    <tr>\n",
       "      <th>75721</th>\n",
       "      <td>fYVDK</td>\n",
       "      <td>6.078076</td>\n",
       "      <td>0.084568</td>\n",
       "      <td>0.002957</td>\n",
       "      <td>0.000000</td>\n",
       "    </tr>\n",
       "    <tr>\n",
       "      <th>80184</th>\n",
       "      <td>3SQcq</td>\n",
       "      <td>16.462386</td>\n",
       "      <td>2.712946</td>\n",
       "      <td>1.993030</td>\n",
       "      <td>53.906522</td>\n",
       "    </tr>\n",
       "    <tr>\n",
       "      <th>19864</th>\n",
       "      <td>hQ1gJ</td>\n",
       "      <td>7.051898</td>\n",
       "      <td>0.766983</td>\n",
       "      <td>4.990194</td>\n",
       "      <td>134.766305</td>\n",
       "    </tr>\n",
       "    <tr>\n",
       "      <th>76699</th>\n",
       "      <td>Y4vux</td>\n",
       "      <td>-0.240045</td>\n",
       "      <td>-0.380804</td>\n",
       "      <td>3.999693</td>\n",
       "      <td>107.813044</td>\n",
       "    </tr>\n",
       "    <tr>\n",
       "      <th>92991</th>\n",
       "      <td>H1NUw</td>\n",
       "      <td>13.350111</td>\n",
       "      <td>-8.558281</td>\n",
       "      <td>0.002010</td>\n",
       "      <td>0.000000</td>\n",
       "    </tr>\n",
       "  </tbody>\n",
       "</table>\n",
       "</div>"
      ],
      "text/plain": [
       "          id         f0        f1        f2     product\n",
       "75721  fYVDK   6.078076  0.084568  0.002957    0.000000\n",
       "80184  3SQcq  16.462386  2.712946  1.993030   53.906522\n",
       "19864  hQ1gJ   7.051898  0.766983  4.990194  134.766305\n",
       "76699  Y4vux  -0.240045 -0.380804  3.999693  107.813044\n",
       "92991  H1NUw  13.350111 -8.558281  0.002010    0.000000"
      ]
     },
     "metadata": {},
     "output_type": "display_data"
    },
    {
     "name": "stdout",
     "output_type": "stream",
     "text": [
      "=============================================\n",
      "\n",
      "\u001b[1mИсследование проводится для датасета geo_2_control\u001b[0m\n"
     ]
    },
    {
     "data": {
      "text/html": [
       "<div>\n",
       "<style scoped>\n",
       "    .dataframe tbody tr th:only-of-type {\n",
       "        vertical-align: middle;\n",
       "    }\n",
       "\n",
       "    .dataframe tbody tr th {\n",
       "        vertical-align: top;\n",
       "    }\n",
       "\n",
       "    .dataframe thead th {\n",
       "        text-align: right;\n",
       "    }\n",
       "</style>\n",
       "<table border=\"1\" class=\"dataframe\">\n",
       "  <thead>\n",
       "    <tr style=\"text-align: right;\">\n",
       "      <th></th>\n",
       "      <th>id</th>\n",
       "      <th>f0</th>\n",
       "      <th>f1</th>\n",
       "      <th>f2</th>\n",
       "      <th>product</th>\n",
       "    </tr>\n",
       "  </thead>\n",
       "  <tbody>\n",
       "    <tr>\n",
       "      <th>75721</th>\n",
       "      <td>sPjbT</td>\n",
       "      <td>2.111118</td>\n",
       "      <td>-1.679773</td>\n",
       "      <td>3.112240</td>\n",
       "      <td>117.441301</td>\n",
       "    </tr>\n",
       "    <tr>\n",
       "      <th>80184</th>\n",
       "      <td>1u4uo</td>\n",
       "      <td>0.734759</td>\n",
       "      <td>0.747788</td>\n",
       "      <td>3.670879</td>\n",
       "      <td>47.841249</td>\n",
       "    </tr>\n",
       "    <tr>\n",
       "      <th>19864</th>\n",
       "      <td>kZ6HO</td>\n",
       "      <td>-2.513109</td>\n",
       "      <td>0.844631</td>\n",
       "      <td>-4.922889</td>\n",
       "      <td>45.883483</td>\n",
       "    </tr>\n",
       "    <tr>\n",
       "      <th>76699</th>\n",
       "      <td>gCZGK</td>\n",
       "      <td>-2.035301</td>\n",
       "      <td>-1.522988</td>\n",
       "      <td>5.072839</td>\n",
       "      <td>139.014608</td>\n",
       "    </tr>\n",
       "    <tr>\n",
       "      <th>92991</th>\n",
       "      <td>rqJHx</td>\n",
       "      <td>2.744145</td>\n",
       "      <td>1.429952</td>\n",
       "      <td>-1.372661</td>\n",
       "      <td>84.004276</td>\n",
       "    </tr>\n",
       "  </tbody>\n",
       "</table>\n",
       "</div>"
      ],
      "text/plain": [
       "          id        f0        f1        f2     product\n",
       "75721  sPjbT  2.111118 -1.679773  3.112240  117.441301\n",
       "80184  1u4uo  0.734759  0.747788  3.670879   47.841249\n",
       "19864  kZ6HO -2.513109  0.844631 -4.922889   45.883483\n",
       "76699  gCZGK -2.035301 -1.522988  5.072839  139.014608\n",
       "92991  rqJHx  2.744145  1.429952 -1.372661   84.004276"
      ]
     },
     "metadata": {},
     "output_type": "display_data"
    },
    {
     "name": "stdout",
     "output_type": "stream",
     "text": [
      "=============================================\n",
      "\n"
     ]
    }
   ],
   "source": [
    "# проверим результат, а также ознакомимся с данными\n",
    "# используем метод sample() для случайной выборки\n",
    "# с параметром random_state=42, для сохранения результата \n",
    "# при повторных запусках алгоритма\n",
    "for i, list in enumerate(data_list):\n",
    "    for z, data in enumerate(list):\n",
    "        print('\\033[1m' + f'Исследование проводится для датасета {data_name_list[i][z]}' + '\\033[0m')\n",
    "        display(data.sample(5, random_state=42))\n",
    "        print('=' * 45)\n",
    "        print()"
   ]
  },
  {
   "cell_type": "markdown",
   "id": "2b07fe8e",
   "metadata": {},
   "source": [
    "**Итоги:**\n",
    "\n",
    "Данные загружены надлежащим образом и функционируют. "
   ]
  },
  {
   "cell_type": "markdown",
   "id": "c2004e64",
   "metadata": {},
   "source": [
    "### Описание данных"
   ]
  },
  {
   "cell_type": "markdown",
   "id": "4a60b2c0",
   "metadata": {},
   "source": [
    "Описание данных предоставлено заказчиком.\n",
    "Данные геологоразведки трёх регионов находятся в файлах: geo_data_0.csv; geo_data_1.csv; geo_data_2.csv.\n",
    "\n",
    "Данные содержат следующие значения:\n",
    "- id — уникальный идентификатор скважины;\n",
    "- f0, f1, f2 — три признака точек (неважно, что они означают, но сами признаки значимы);\n",
    "- product — объём запасов в скважине (тыс. баррелей)."
   ]
  },
  {
   "cell_type": "code",
   "execution_count": 6,
   "id": "7913406d",
   "metadata": {},
   "outputs": [
    {
     "name": "stdout",
     "output_type": "stream",
     "text": [
      "\u001b[1mИсследование проводится для датасета geo_0\u001b[0m\n",
      "<class 'pandas.core.frame.DataFrame'>\n",
      "RangeIndex: 100000 entries, 0 to 99999\n",
      "Data columns (total 5 columns):\n",
      " #   Column   Non-Null Count   Dtype  \n",
      "---  ------   --------------   -----  \n",
      " 0   id       100000 non-null  object \n",
      " 1   f0       100000 non-null  float64\n",
      " 2   f1       100000 non-null  float64\n",
      " 3   f2       100000 non-null  float64\n",
      " 4   product  100000 non-null  float64\n",
      "dtypes: float64(4), object(1)\n",
      "memory usage: 3.8+ MB\n",
      "=============================================\n",
      "\n",
      "\u001b[1mИсследование проводится для датасета geo_1\u001b[0m\n",
      "<class 'pandas.core.frame.DataFrame'>\n",
      "RangeIndex: 100000 entries, 0 to 99999\n",
      "Data columns (total 5 columns):\n",
      " #   Column   Non-Null Count   Dtype  \n",
      "---  ------   --------------   -----  \n",
      " 0   id       100000 non-null  object \n",
      " 1   f0       100000 non-null  float64\n",
      " 2   f1       100000 non-null  float64\n",
      " 3   f2       100000 non-null  float64\n",
      " 4   product  100000 non-null  float64\n",
      "dtypes: float64(4), object(1)\n",
      "memory usage: 3.8+ MB\n",
      "=============================================\n",
      "\n",
      "\u001b[1mИсследование проводится для датасета geo_2\u001b[0m\n",
      "<class 'pandas.core.frame.DataFrame'>\n",
      "RangeIndex: 100000 entries, 0 to 99999\n",
      "Data columns (total 5 columns):\n",
      " #   Column   Non-Null Count   Dtype  \n",
      "---  ------   --------------   -----  \n",
      " 0   id       100000 non-null  object \n",
      " 1   f0       100000 non-null  float64\n",
      " 2   f1       100000 non-null  float64\n",
      " 3   f2       100000 non-null  float64\n",
      " 4   product  100000 non-null  float64\n",
      "dtypes: float64(4), object(1)\n",
      "memory usage: 3.8+ MB\n",
      "=============================================\n",
      "\n"
     ]
    }
   ],
   "source": [
    "# изучим данные более внимательно\n",
    "for inx, data in enumerate(geo_list):\n",
    "    print('\\033[1m' + f'Исследование проводится для датасета {geo_name_list[inx]}' + '\\033[0m')\n",
    "    data.info()\n",
    "    print('=' * 45)\n",
    "    print()"
   ]
  },
  {
   "cell_type": "markdown",
   "id": "c8b043b1",
   "metadata": {},
   "source": [
    "**Итоги:**\n",
    "\n",
    "По результатам осмотра данных:\n",
    "1. Пропусков нет.\n",
    "2. Тип данных в столбцах соответствует описанию данных.\n",
    "3. Наименования столбцов соответствуют единому стилю."
   ]
  },
  {
   "cell_type": "markdown",
   "id": "6c018f65",
   "metadata": {},
   "source": [
    "## Предобработка данных"
   ]
  },
  {
   "cell_type": "markdown",
   "id": "24d901fa",
   "metadata": {},
   "source": [
    "### Явные проблемы в данных"
   ]
  },
  {
   "cell_type": "code",
   "execution_count": 7,
   "id": "2ae2c516",
   "metadata": {},
   "outputs": [
    {
     "name": "stdout",
     "output_type": "stream",
     "text": [
      "\u001b[1mИсследование проводится для датасета geo_0\u001b[0m\n",
      "\u001b[1mКоличество явных дубликатов: \u001b[0m 0\n",
      "=============================================\n",
      "\n",
      "\u001b[1mИсследование проводится для датасета geo_1\u001b[0m\n",
      "\u001b[1mКоличество явных дубликатов: \u001b[0m 0\n",
      "=============================================\n",
      "\n",
      "\u001b[1mИсследование проводится для датасета geo_2\u001b[0m\n",
      "\u001b[1mКоличество явных дубликатов: \u001b[0m 0\n",
      "=============================================\n",
      "\n"
     ]
    }
   ],
   "source": [
    "# изучим содержание датасета на предмет явных проблем\n",
    "for inx, data in enumerate(geo_list):\n",
    "    print('\\033[1m' + f'Исследование проводится для датасета {geo_name_list[inx]}' + '\\033[0m')\n",
    "    print('\\033[1m' + 'Количество явных дубликатов: ' + '\\033[0m', data.duplicated().sum())\n",
    "    print('=' * 45)\n",
    "    print()"
   ]
  },
  {
   "cell_type": "markdown",
   "id": "3e800076",
   "metadata": {},
   "source": [
    "Явные дубликаты отсутствуют, однако в данных могут быть ошибки дубляжа. Поэтому проверим их на дубликаты повторно, исключив колонку с id шахты."
   ]
  },
  {
   "cell_type": "code",
   "execution_count": 8,
   "id": "3eb67834",
   "metadata": {},
   "outputs": [
    {
     "name": "stdout",
     "output_type": "stream",
     "text": [
      "\u001b[1mИсследование проводится для датасета geo_0\u001b[0m\n",
      "\u001b[1mКоличество явных дубликатов без учета столбца id: \u001b[0m 0\n",
      "=============================================\n",
      "\n",
      "\u001b[1mИсследование проводится для датасета geo_1\u001b[0m\n",
      "\u001b[1mКоличество явных дубликатов без учета столбца id: \u001b[0m 0\n",
      "=============================================\n",
      "\n",
      "\u001b[1mИсследование проводится для датасета geo_2\u001b[0m\n",
      "\u001b[1mКоличество явных дубликатов без учета столбца id: \u001b[0m 0\n",
      "=============================================\n",
      "\n"
     ]
    }
   ],
   "source": [
    "# изучим содержание датасета на предмет явных проблем\n",
    "for inx, data in enumerate(geo_list):\n",
    "    print('\\033[1m' + f'Исследование проводится для датасета {geo_name_list[inx]}' + '\\033[0m')\n",
    "    print('\\033[1m' + 'Количество явных дубликатов без учета столбца id: ' + '\\033[0m', \n",
    "          data.drop('id', axis=1).duplicated().sum())\n",
    "    print('=' * 45)\n",
    "    print()\n",
    "    "
   ]
  },
  {
   "cell_type": "markdown",
   "id": "85718ead",
   "metadata": {},
   "source": [
    "**Итоги:**\n",
    "\n",
    "Данные предоставлены чистыми, без ошибок и дубликатов."
   ]
  },
  {
   "cell_type": "markdown",
   "id": "fdecb346",
   "metadata": {},
   "source": [
    "## Анализ признаков"
   ]
  },
  {
   "cell_type": "markdown",
   "id": "87078dfc",
   "metadata": {},
   "source": [
    "### Описание признаков"
   ]
  },
  {
   "cell_type": "markdown",
   "id": "07c553c8",
   "metadata": {},
   "source": [
    "Изучим описание признаков."
   ]
  },
  {
   "cell_type": "code",
   "execution_count": 9,
   "id": "2cac5de4",
   "metadata": {},
   "outputs": [
    {
     "name": "stdout",
     "output_type": "stream",
     "text": [
      "\u001b[1mИсследование проводится для датасета geo_0\u001b[0m\n"
     ]
    },
    {
     "data": {
      "text/html": [
       "<div>\n",
       "<style scoped>\n",
       "    .dataframe tbody tr th:only-of-type {\n",
       "        vertical-align: middle;\n",
       "    }\n",
       "\n",
       "    .dataframe tbody tr th {\n",
       "        vertical-align: top;\n",
       "    }\n",
       "\n",
       "    .dataframe thead th {\n",
       "        text-align: right;\n",
       "    }\n",
       "</style>\n",
       "<table border=\"1\" class=\"dataframe\">\n",
       "  <thead>\n",
       "    <tr style=\"text-align: right;\">\n",
       "      <th></th>\n",
       "      <th>f0</th>\n",
       "      <th>f1</th>\n",
       "      <th>f2</th>\n",
       "      <th>product</th>\n",
       "    </tr>\n",
       "  </thead>\n",
       "  <tbody>\n",
       "    <tr>\n",
       "      <th>count</th>\n",
       "      <td>100000.000000</td>\n",
       "      <td>100000.000000</td>\n",
       "      <td>100000.000000</td>\n",
       "      <td>100000.000000</td>\n",
       "    </tr>\n",
       "    <tr>\n",
       "      <th>mean</th>\n",
       "      <td>0.500419</td>\n",
       "      <td>0.250143</td>\n",
       "      <td>2.502647</td>\n",
       "      <td>92.500000</td>\n",
       "    </tr>\n",
       "    <tr>\n",
       "      <th>std</th>\n",
       "      <td>0.871832</td>\n",
       "      <td>0.504433</td>\n",
       "      <td>3.248248</td>\n",
       "      <td>44.288691</td>\n",
       "    </tr>\n",
       "    <tr>\n",
       "      <th>min</th>\n",
       "      <td>-1.408605</td>\n",
       "      <td>-0.848218</td>\n",
       "      <td>-12.088328</td>\n",
       "      <td>0.000000</td>\n",
       "    </tr>\n",
       "    <tr>\n",
       "      <th>25%</th>\n",
       "      <td>-0.072580</td>\n",
       "      <td>-0.200881</td>\n",
       "      <td>0.287748</td>\n",
       "      <td>56.497507</td>\n",
       "    </tr>\n",
       "    <tr>\n",
       "      <th>50%</th>\n",
       "      <td>0.502360</td>\n",
       "      <td>0.250252</td>\n",
       "      <td>2.515969</td>\n",
       "      <td>91.849972</td>\n",
       "    </tr>\n",
       "    <tr>\n",
       "      <th>75%</th>\n",
       "      <td>1.073581</td>\n",
       "      <td>0.700646</td>\n",
       "      <td>4.715088</td>\n",
       "      <td>128.564089</td>\n",
       "    </tr>\n",
       "    <tr>\n",
       "      <th>max</th>\n",
       "      <td>2.362331</td>\n",
       "      <td>1.343769</td>\n",
       "      <td>16.003790</td>\n",
       "      <td>185.364347</td>\n",
       "    </tr>\n",
       "  </tbody>\n",
       "</table>\n",
       "</div>"
      ],
      "text/plain": [
       "                  f0             f1             f2        product\n",
       "count  100000.000000  100000.000000  100000.000000  100000.000000\n",
       "mean        0.500419       0.250143       2.502647      92.500000\n",
       "std         0.871832       0.504433       3.248248      44.288691\n",
       "min        -1.408605      -0.848218     -12.088328       0.000000\n",
       "25%        -0.072580      -0.200881       0.287748      56.497507\n",
       "50%         0.502360       0.250252       2.515969      91.849972\n",
       "75%         1.073581       0.700646       4.715088     128.564089\n",
       "max         2.362331       1.343769      16.003790     185.364347"
      ]
     },
     "metadata": {},
     "output_type": "display_data"
    },
    {
     "name": "stdout",
     "output_type": "stream",
     "text": [
      "=============================================\n",
      "\n",
      "\u001b[1mИсследование проводится для датасета geo_1\u001b[0m\n"
     ]
    },
    {
     "data": {
      "text/html": [
       "<div>\n",
       "<style scoped>\n",
       "    .dataframe tbody tr th:only-of-type {\n",
       "        vertical-align: middle;\n",
       "    }\n",
       "\n",
       "    .dataframe tbody tr th {\n",
       "        vertical-align: top;\n",
       "    }\n",
       "\n",
       "    .dataframe thead th {\n",
       "        text-align: right;\n",
       "    }\n",
       "</style>\n",
       "<table border=\"1\" class=\"dataframe\">\n",
       "  <thead>\n",
       "    <tr style=\"text-align: right;\">\n",
       "      <th></th>\n",
       "      <th>f0</th>\n",
       "      <th>f1</th>\n",
       "      <th>f2</th>\n",
       "      <th>product</th>\n",
       "    </tr>\n",
       "  </thead>\n",
       "  <tbody>\n",
       "    <tr>\n",
       "      <th>count</th>\n",
       "      <td>100000.000000</td>\n",
       "      <td>100000.000000</td>\n",
       "      <td>100000.000000</td>\n",
       "      <td>100000.000000</td>\n",
       "    </tr>\n",
       "    <tr>\n",
       "      <th>mean</th>\n",
       "      <td>1.141296</td>\n",
       "      <td>-4.796579</td>\n",
       "      <td>2.494541</td>\n",
       "      <td>68.825000</td>\n",
       "    </tr>\n",
       "    <tr>\n",
       "      <th>std</th>\n",
       "      <td>8.965932</td>\n",
       "      <td>5.119872</td>\n",
       "      <td>1.703572</td>\n",
       "      <td>45.944423</td>\n",
       "    </tr>\n",
       "    <tr>\n",
       "      <th>min</th>\n",
       "      <td>-31.609576</td>\n",
       "      <td>-26.358598</td>\n",
       "      <td>-0.018144</td>\n",
       "      <td>0.000000</td>\n",
       "    </tr>\n",
       "    <tr>\n",
       "      <th>25%</th>\n",
       "      <td>-6.298551</td>\n",
       "      <td>-8.267985</td>\n",
       "      <td>1.000021</td>\n",
       "      <td>26.953261</td>\n",
       "    </tr>\n",
       "    <tr>\n",
       "      <th>50%</th>\n",
       "      <td>1.153055</td>\n",
       "      <td>-4.813172</td>\n",
       "      <td>2.011479</td>\n",
       "      <td>57.085625</td>\n",
       "    </tr>\n",
       "    <tr>\n",
       "      <th>75%</th>\n",
       "      <td>8.621015</td>\n",
       "      <td>-1.332816</td>\n",
       "      <td>3.999904</td>\n",
       "      <td>107.813044</td>\n",
       "    </tr>\n",
       "    <tr>\n",
       "      <th>max</th>\n",
       "      <td>29.421755</td>\n",
       "      <td>18.734063</td>\n",
       "      <td>5.019721</td>\n",
       "      <td>137.945408</td>\n",
       "    </tr>\n",
       "  </tbody>\n",
       "</table>\n",
       "</div>"
      ],
      "text/plain": [
       "                  f0             f1             f2        product\n",
       "count  100000.000000  100000.000000  100000.000000  100000.000000\n",
       "mean        1.141296      -4.796579       2.494541      68.825000\n",
       "std         8.965932       5.119872       1.703572      45.944423\n",
       "min       -31.609576     -26.358598      -0.018144       0.000000\n",
       "25%        -6.298551      -8.267985       1.000021      26.953261\n",
       "50%         1.153055      -4.813172       2.011479      57.085625\n",
       "75%         8.621015      -1.332816       3.999904     107.813044\n",
       "max        29.421755      18.734063       5.019721     137.945408"
      ]
     },
     "metadata": {},
     "output_type": "display_data"
    },
    {
     "name": "stdout",
     "output_type": "stream",
     "text": [
      "=============================================\n",
      "\n",
      "\u001b[1mИсследование проводится для датасета geo_2\u001b[0m\n"
     ]
    },
    {
     "data": {
      "text/html": [
       "<div>\n",
       "<style scoped>\n",
       "    .dataframe tbody tr th:only-of-type {\n",
       "        vertical-align: middle;\n",
       "    }\n",
       "\n",
       "    .dataframe tbody tr th {\n",
       "        vertical-align: top;\n",
       "    }\n",
       "\n",
       "    .dataframe thead th {\n",
       "        text-align: right;\n",
       "    }\n",
       "</style>\n",
       "<table border=\"1\" class=\"dataframe\">\n",
       "  <thead>\n",
       "    <tr style=\"text-align: right;\">\n",
       "      <th></th>\n",
       "      <th>f0</th>\n",
       "      <th>f1</th>\n",
       "      <th>f2</th>\n",
       "      <th>product</th>\n",
       "    </tr>\n",
       "  </thead>\n",
       "  <tbody>\n",
       "    <tr>\n",
       "      <th>count</th>\n",
       "      <td>100000.000000</td>\n",
       "      <td>100000.000000</td>\n",
       "      <td>100000.000000</td>\n",
       "      <td>100000.000000</td>\n",
       "    </tr>\n",
       "    <tr>\n",
       "      <th>mean</th>\n",
       "      <td>0.002023</td>\n",
       "      <td>-0.002081</td>\n",
       "      <td>2.495128</td>\n",
       "      <td>95.000000</td>\n",
       "    </tr>\n",
       "    <tr>\n",
       "      <th>std</th>\n",
       "      <td>1.732045</td>\n",
       "      <td>1.730417</td>\n",
       "      <td>3.473445</td>\n",
       "      <td>44.749921</td>\n",
       "    </tr>\n",
       "    <tr>\n",
       "      <th>min</th>\n",
       "      <td>-8.760004</td>\n",
       "      <td>-7.084020</td>\n",
       "      <td>-11.970335</td>\n",
       "      <td>0.000000</td>\n",
       "    </tr>\n",
       "    <tr>\n",
       "      <th>25%</th>\n",
       "      <td>-1.162288</td>\n",
       "      <td>-1.174820</td>\n",
       "      <td>0.130359</td>\n",
       "      <td>59.450441</td>\n",
       "    </tr>\n",
       "    <tr>\n",
       "      <th>50%</th>\n",
       "      <td>0.009424</td>\n",
       "      <td>-0.009482</td>\n",
       "      <td>2.484236</td>\n",
       "      <td>94.925613</td>\n",
       "    </tr>\n",
       "    <tr>\n",
       "      <th>75%</th>\n",
       "      <td>1.158535</td>\n",
       "      <td>1.163678</td>\n",
       "      <td>4.858794</td>\n",
       "      <td>130.595027</td>\n",
       "    </tr>\n",
       "    <tr>\n",
       "      <th>max</th>\n",
       "      <td>7.238262</td>\n",
       "      <td>7.844801</td>\n",
       "      <td>16.739402</td>\n",
       "      <td>190.029838</td>\n",
       "    </tr>\n",
       "  </tbody>\n",
       "</table>\n",
       "</div>"
      ],
      "text/plain": [
       "                  f0             f1             f2        product\n",
       "count  100000.000000  100000.000000  100000.000000  100000.000000\n",
       "mean        0.002023      -0.002081       2.495128      95.000000\n",
       "std         1.732045       1.730417       3.473445      44.749921\n",
       "min        -8.760004      -7.084020     -11.970335       0.000000\n",
       "25%        -1.162288      -1.174820       0.130359      59.450441\n",
       "50%         0.009424      -0.009482       2.484236      94.925613\n",
       "75%         1.158535       1.163678       4.858794     130.595027\n",
       "max         7.238262       7.844801      16.739402     190.029838"
      ]
     },
     "metadata": {},
     "output_type": "display_data"
    },
    {
     "name": "stdout",
     "output_type": "stream",
     "text": [
      "=============================================\n",
      "\n"
     ]
    }
   ],
   "source": [
    "for inx, data in enumerate(geo_list):\n",
    "    print('\\033[1m' + f'Исследование проводится для датасета {geo_name_list[inx]}' + '\\033[0m')\n",
    "    display(data.describe())\n",
    "    print('=' * 45)\n",
    "    print()"
   ]
  },
  {
   "cell_type": "markdown",
   "id": "2bc56cac",
   "metadata": {},
   "source": [
    "**Итоги:**\n",
    "\n",
    "1. В связи с отсутствием понимания, какого рода атрибуты заложены в признаки f0, f1, f2, сложно сказать имеются ли аномалии или выбросы.\n",
    "2. Признак id скважины можно исключить, как не несущий полезной нагрузки.\n",
    "3. Наблюдается разброс значений. Следовательно - потребуется масштабирование."
   ]
  },
  {
   "cell_type": "markdown",
   "id": "4cda744d",
   "metadata": {},
   "source": [
    "### Распределение признаков региона 1"
   ]
  },
  {
   "cell_type": "code",
   "execution_count": 10,
   "id": "8ee0e84e",
   "metadata": {},
   "outputs": [
    {
     "data": {
      "image/png": "[encoded data removed]",
      "text/plain": [
       "<Figure size 1440x1080 with 4 Axes>"
      ]
     },
     "metadata": {},
     "output_type": "display_data"
    }
   ],
   "source": [
    "geo_0.hist(bins=50, figsize=(20,15), color='r', edgecolor='black', linewidth=1)\n",
    "plt.show()"
   ]
  },
  {
   "cell_type": "markdown",
   "id": "76ae5f6a",
   "metadata": {},
   "source": [
    "**Итоги:**\n",
    "\n",
    "На первый взгляд распределение нормальное. Подробнее исследуем признаки позже."
   ]
  },
  {
   "cell_type": "markdown",
   "id": "f0d210da",
   "metadata": {},
   "source": [
    "### Распределение признаков региона 2"
   ]
  },
  {
   "cell_type": "code",
   "execution_count": 11,
   "id": "8e90e175",
   "metadata": {},
   "outputs": [
    {
     "data": {
      "image/png": "[encoded data removed]",
      "text/plain": [
       "<Figure size 1440x1080 with 4 Axes>"
      ]
     },
     "metadata": {},
     "output_type": "display_data"
    }
   ],
   "source": [
    "geo_1.hist(bins=50, figsize=(20,15), color='r', edgecolor='black', linewidth=1)\n",
    "plt.show()"
   ]
  },
  {
   "cell_type": "markdown",
   "id": "0dda69d5",
   "metadata": {},
   "source": [
    "**Итоги:**\n",
    "\n",
    "Прзинаки f2 и product имеют странные повторяющиеся значения, а также равномерное распределение по категориям. Это может быть ошибкой при сборе данных, либо ошибкой иного рода. Изучим подробнее, как сет ведет себя на обучении модели."
   ]
  },
  {
   "cell_type": "markdown",
   "id": "5417b609",
   "metadata": {},
   "source": [
    "### Распределение признаков региона 3"
   ]
  },
  {
   "cell_type": "code",
   "execution_count": 12,
   "id": "5e8d15b7",
   "metadata": {},
   "outputs": [
    {
     "data": {
      "image/png": "[encoded data removed]",
      "text/plain": [
       "<Figure size 1440x1080 with 4 Axes>"
      ]
     },
     "metadata": {},
     "output_type": "display_data"
    }
   ],
   "source": [
    "geo_2.hist(bins=50, figsize=(20,15), color='r', edgecolor='black', linewidth=1)\n",
    "plt.show()"
   ]
  },
  {
   "cell_type": "markdown",
   "id": "8d64a388",
   "metadata": {},
   "source": [
    "**Итоги:**\n",
    "\n",
    "Признаки имеют нормальное распределение."
   ]
  },
  {
   "cell_type": "markdown",
   "id": "c4b9272b",
   "metadata": {},
   "source": [
    "### Корреляция"
   ]
  },
  {
   "cell_type": "markdown",
   "id": "b2e0b9eb",
   "metadata": {},
   "source": [
    "Изучим корреляции признаков."
   ]
  },
  {
   "cell_type": "code",
   "execution_count": 13,
   "id": "627d90d3",
   "metadata": {},
   "outputs": [
    {
     "name": "stdout",
     "output_type": "stream",
     "text": [
      "\u001b[1mКорреляция для датасета geo_0\u001b[0m\n"
     ]
    },
    {
     "data": {
      "text/plain": [
       "f0         0.143536\n",
       "f1        -0.192356\n",
       "f2         0.483663\n",
       "product    1.000000\n",
       "Name: product, dtype: float64"
      ]
     },
     "metadata": {},
     "output_type": "display_data"
    },
    {
     "name": "stdout",
     "output_type": "stream",
     "text": [
      "\n",
      "\u001b[1mКорреляция для датасета geo_1\u001b[0m\n"
     ]
    },
    {
     "data": {
      "text/plain": [
       "f0        -0.030491\n",
       "f1        -0.010155\n",
       "f2         0.999397\n",
       "product    1.000000\n",
       "Name: product, dtype: float64"
      ]
     },
     "metadata": {},
     "output_type": "display_data"
    },
    {
     "name": "stdout",
     "output_type": "stream",
     "text": [
      "\n",
      "\u001b[1mКорреляция для датасета geo_2\u001b[0m\n"
     ]
    },
    {
     "data": {
      "text/plain": [
       "f0        -0.001987\n",
       "f1        -0.001012\n",
       "f2         0.445871\n",
       "product    1.000000\n",
       "Name: product, dtype: float64"
      ]
     },
     "metadata": {},
     "output_type": "display_data"
    },
    {
     "name": "stdout",
     "output_type": "stream",
     "text": [
      "\n"
     ]
    }
   ],
   "source": [
    "for inx, data in enumerate(geo_list):\n",
    "    print('\\033[1m' + f'Корреляция для датасета {geo_name_list[inx]}' + '\\033[0m')\n",
    "    display(data.drop('id', axis=1).corr()['product'])\n",
    "    print()"
   ]
  },
  {
   "cell_type": "markdown",
   "id": "ad29c848",
   "metadata": {},
   "source": [
    "**Итоги:**\n",
    "\n",
    "1. Признак f2 показывает наилучшую корреляция с целевым признаком. При этом корреляция в сетах по 1 и 3 региону приблизительно равна, а в сете по 2 региону достигает 99%, что служит косвенным подтверждением ошибок при формировании данных.\n",
    "\n",
    "2. Признаки f0 и f1 показывают малую корреляцию. Попробуем эмпирическим путем вывести новый признак, и проверим его корреляцию."
   ]
  },
  {
   "cell_type": "markdown",
   "id": "baad25df",
   "metadata": {},
   "source": [
    "#### Эмпирический признак"
   ]
  },
  {
   "cell_type": "markdown",
   "id": "b88e99be",
   "metadata": {},
   "source": [
    "Выведем новый признак вида соотношения f0 и f1, после чего проверим его корреляцию с целевым."
   ]
  },
  {
   "cell_type": "code",
   "execution_count": 14,
   "id": "4c9bce75",
   "metadata": {},
   "outputs": [
    {
     "name": "stdout",
     "output_type": "stream",
     "text": [
      "\u001b[1mКорреляция для датасета geo_0\u001b[0m\n"
     ]
    },
    {
     "data": {
      "text/plain": [
       "f0         0.143536\n",
       "f1        -0.192356\n",
       "f2         0.483663\n",
       "product    1.000000\n",
       "f0/1      -0.000164\n",
       "Name: product, dtype: float64"
      ]
     },
     "metadata": {},
     "output_type": "display_data"
    },
    {
     "name": "stdout",
     "output_type": "stream",
     "text": [
      "\n",
      "\u001b[1mКорреляция для датасета geo_1\u001b[0m\n"
     ]
    },
    {
     "data": {
      "text/plain": [
       "f0        -0.030491\n",
       "f1        -0.010155\n",
       "f2         0.999397\n",
       "product    1.000000\n",
       "f0/1       0.002873\n",
       "Name: product, dtype: float64"
      ]
     },
     "metadata": {},
     "output_type": "display_data"
    },
    {
     "name": "stdout",
     "output_type": "stream",
     "text": [
      "\n",
      "\u001b[1mКорреляция для датасета geo_2\u001b[0m\n"
     ]
    },
    {
     "data": {
      "text/plain": [
       "f0        -0.001987\n",
       "f1        -0.001012\n",
       "f2         0.445871\n",
       "product    1.000000\n",
       "f0/1       0.001545\n",
       "Name: product, dtype: float64"
      ]
     },
     "metadata": {},
     "output_type": "display_data"
    },
    {
     "name": "stdout",
     "output_type": "stream",
     "text": [
      "\n"
     ]
    }
   ],
   "source": [
    "for inx, data in enumerate(geo_list):\n",
    "    print('\\033[1m' + f'Корреляция для датасета {geo_name_list[inx]}' + '\\033[0m')\n",
    "    data['f0/1'] = data['f0'] / data['f1']\n",
    "    display(data.drop('id', axis=1).corr()['product'])\n",
    "    print()"
   ]
  },
  {
   "cell_type": "markdown",
   "id": "8f634458",
   "metadata": {},
   "source": [
    "Эмпирический признак почти везде показал худшую корреляцию, поэтому признаем эксперимент неудачным и не будем его учитывать."
   ]
  },
  {
   "cell_type": "markdown",
   "id": "ce3988a8",
   "metadata": {},
   "source": [
    "## Наборы"
   ]
  },
  {
   "cell_type": "markdown",
   "id": "9bf77d26",
   "metadata": {},
   "source": [
    "Подготовим и изучим распределение в наборах."
   ]
  },
  {
   "cell_type": "code",
   "execution_count": 15,
   "id": "08242c02",
   "metadata": {},
   "outputs": [],
   "source": [
    "# разделим датасет на признаки и целевой признак\n",
    "# сформируем фильтры\n",
    "features = geo_0.columns.drop(['id', 'product', 'f0/1'])\n",
    "target = ['product']"
   ]
  },
  {
   "cell_type": "code",
   "execution_count": 16,
   "id": "eb9ef0a6",
   "metadata": {},
   "outputs": [],
   "source": [
    "# напишем функцию для распределения\n",
    "def featurist(data):\n",
    "    return data[features], data[target]\n",
    "\n",
    "# напишем функцию для формирования наборов\n",
    "def splitter(data_x, data_y):\n",
    "    return train_test_split(\n",
    "        data_x, data_y, test_size=0.25, \n",
    "        random_state=42)"
   ]
  },
  {
   "cell_type": "code",
   "execution_count": 17,
   "id": "a65259e4",
   "metadata": {},
   "outputs": [],
   "source": [
    "# подготовим массивы\n",
    "X0, y0 = featurist(geo_0)\n",
    "X1, y1 = featurist(geo_1)\n",
    "X2, y2 = featurist(geo_2)"
   ]
  },
  {
   "cell_type": "code",
   "execution_count": 18,
   "id": "b46e633d",
   "metadata": {},
   "outputs": [],
   "source": [
    "# подготовим наборы\n",
    "X0_train, X0_val, y0_train, y0_val = splitter(X0, y0)\n",
    "X1_train, X1_val, y1_train, y1_val = splitter(X1, y1)\n",
    "X2_train, X2_val, y2_train, y2_val = splitter(X2, y2)"
   ]
  },
  {
   "cell_type": "code",
   "execution_count": 19,
   "id": "e323fa2a",
   "metadata": {},
   "outputs": [],
   "source": [
    "# проверим размеры наборов\n",
    "assert len(X0_train) == 75000, 'Что-то пошло не так!'\n",
    "assert len(y0_train) == 75000, 'Что-то пошло не так!'\n",
    "assert len(X0_val) == 25000, 'Что-то пошло не так!'\n",
    "assert len(y0_val) == 25000, 'Что-то пошло не так!'"
   ]
  },
  {
   "cell_type": "code",
   "execution_count": 20,
   "id": "33fb97b6",
   "metadata": {},
   "outputs": [],
   "source": [
    "# подготовим списки наборов\n",
    "geo_0_sets = [X0_train, y0_train, X0_val, y0_val]\n",
    "geo_1_sets = [X1_train, y1_train, X1_val, y1_val]\n",
    "geo_2_sets = [X2_train, y2_train, X2_val, y2_val]\n",
    "sets_list = [geo_0_sets, geo_1_sets, geo_2_sets]"
   ]
  },
  {
   "cell_type": "code",
   "execution_count": 21,
   "id": "1633ef6d",
   "metadata": {},
   "outputs": [],
   "source": [
    "# подготовим списки для оценок\n",
    "region_1_score = []\n",
    "region_2_score = []\n",
    "region_3_score = []\n",
    "total_score = [region_1_score, region_2_score, region_3_score]"
   ]
  },
  {
   "cell_type": "code",
   "execution_count": 22,
   "id": "3026fb8d",
   "metadata": {},
   "outputs": [],
   "source": [
    "# подготовим наименования регионов\n",
    "regions = ['region_1', 'region_2', 'region_3']"
   ]
  },
  {
   "cell_type": "markdown",
   "id": "37c5124b",
   "metadata": {},
   "source": [
    "## Модель"
   ]
  },
  {
   "cell_type": "markdown",
   "id": "bcfd6ea6",
   "metadata": {},
   "source": [
    "### Функции"
   ]
  },
  {
   "cell_type": "markdown",
   "id": "fd30ee54",
   "metadata": {},
   "source": [
    "#### Функция проверки ml_slave"
   ]
  },
  {
   "cell_type": "code",
   "execution_count": 23,
   "id": "413a2581",
   "metadata": {},
   "outputs": [],
   "source": [
    "# определим функцию проверки\n",
    "def ml_slave(mod, data_list, score_list):\n",
    "    '''\n",
    "    Функция принимает разные модели в параметры, чтобы вывести их accuracy и сравнить с целевым.\n",
    "    mod - вид модели;\n",
    "    data_list - список, содержащий датасеты для обучения модели [X, y, test];\n",
    "    score_list - список, собирающий оценки модели;\n",
    "    best_params - список, куда сохраняются лучшие настройки гиперпараметров модели,\n",
    "    значение по умолчанию None.\n",
    "       \n",
    "    '''\n",
    "    # обучим модель\n",
    "    model = mod.fit(data_list[0], data_list[1]) \n",
    "    predictions = model.predict(data_list[2])\n",
    "    mse = round(mean_squared_error(data_list[3], predictions), 2)\n",
    "    rmse = round(np.sqrt(mse), 2)\n",
    "    mae = round(mean_absolute_error(data_list[3], predictions), 2)\n",
    "    r2 = round(r2_score(data_list[3], predictions), 2)\n",
    "    \n",
    "    # сохраним оценки для анализа\n",
    "    score_list.append(mse)\n",
    "    score_list.append(rmse)\n",
    "    score_list.append(mae)\n",
    "    score_list.append(r2)\n",
    "    \n",
    "    # выведем предсказанные объемы\n",
    "    fuel = pd.DataFrame(data_list[3]).copy()\n",
    "    fuel['predicted'] = predictions    \n",
    "    print('Предсказанные запасы исследуемого региона')\n",
    "    display(fuel.head(5))\n",
    "    print('-' * 45)\n",
    "    \n",
    "    # выведем метрики\n",
    "    print(f'MSE модели: {mse}')\n",
    "    print(f'RMSE модели: {rmse}')\n",
    "    print(f'MAE модели: {mae}')\n",
    "    print(f'Коэффициент детерминации R2 модели: {r2}')\n",
    "    print('-' * 45)\n",
    "    \n",
    "    # проверка на адкеватность\n",
    "    # используем константное значение - медиану\n",
    "    pred_const = pd.Series(data_list[3].median()[0], index=data_list[3].index)\n",
    "    mae_mediana = round(mean_absolute_error(data_list[3], pred_const), 2)\n",
    "    mae_dif = mae - mae_mediana\n",
    "    \n",
    "    print('Проверка на адекватность по медиане:')\n",
    "    print(f'MAE по медиане: {mae_mediana}')\n",
    "    print(f'Разница MAE обученной модели и медианной: {mae_dif}')\n",
    "    if mae < mae_mediana:\n",
    "        print('Вывод: обученная модель лучше')\n",
    "    else:\n",
    "        print('Вывод: обученная модель хуже')\n",
    "        \n",
    "    # техническая разметка\n",
    "    print('=' * 45)\n",
    "    print()    \n",
    "    \n",
    "    # вернем таблицу с предсказанными значениями\n",
    "    return fuel"
   ]
  },
  {
   "cell_type": "markdown",
   "id": "c1c95f6e",
   "metadata": {},
   "source": [
    "### Pipeline"
   ]
  },
  {
   "cell_type": "markdown",
   "id": "27ea3725",
   "metadata": {},
   "source": [
    "Подготовим pipline для работы с моделью."
   ]
  },
  {
   "cell_type": "code",
   "execution_count": 24,
   "id": "86151bf5",
   "metadata": {},
   "outputs": [],
   "source": [
    "# lr_pipe\n",
    "lr_pipeline = Pipeline([\n",
    "    # стандартизация признаков\n",
    "    ('std_caler', StandardScaler()),\n",
    "    \n",
    "    # работа с моделью\n",
    "    ('lr', LinearRegression())\n",
    "])"
   ]
  },
  {
   "cell_type": "code",
   "execution_count": 25,
   "id": "0dd364fe",
   "metadata": {},
   "outputs": [
    {
     "data": {
      "text/html": [
       "<style>#sk-3afc80a7-b082-4d47-9b09-e39bda19578e {color: black;background-color: white;}#sk-3afc80a7-b082-4d47-9b09-e39bda19578e pre{padding: 0;}#sk-3afc80a7-b082-4d47-9b09-e39bda19578e div.sk-toggleable {background-color: white;}#sk-3afc80a7-b082-4d47-9b09-e39bda19578e label.sk-toggleable__label {cursor: pointer;display: block;width: 100%;margin-bottom: 0;padding: 0.3em;box-sizing: border-box;text-align: center;}#sk-3afc80a7-b082-4d47-9b09-e39bda19578e div.sk-toggleable__content {max-height: 0;max-width: 0;overflow: hidden;text-align: left;background-color: #f0f8ff;}#sk-3afc80a7-b082-4d47-9b09-e39bda19578e div.sk-toggleable__content pre {margin: 0.2em;color: black;border-radius: 0.25em;background-color: #f0f8ff;}#sk-3afc80a7-b082-4d47-9b09-e39bda19578e input.sk-toggleable__control:checked~div.sk-toggleable__content {max-height: 200px;max-width: 100%;overflow: auto;}#sk-3afc80a7-b082-4d47-9b09-e39bda19578e div.sk-estimator input.sk-toggleable__control:checked~label.sk-toggleable__label {background-color: #d4ebff;}#sk-3afc80a7-b082-4d47-9b09-e39bda19578e div.sk-label input.sk-toggleable__control:checked~label.sk-toggleable__label {background-color: #d4ebff;}#sk-3afc80a7-b082-4d47-9b09-e39bda19578e input.sk-hidden--visually {border: 0;clip: rect(1px 1px 1px 1px);clip: rect(1px, 1px, 1px, 1px);height: 1px;margin: -1px;overflow: hidden;padding: 0;position: absolute;width: 1px;}#sk-3afc80a7-b082-4d47-9b09-e39bda19578e div.sk-estimator {font-family: monospace;background-color: #f0f8ff;border: 1px dotted black;border-radius: 0.25em;box-sizing: border-box;margin-bottom: 0.5em;}#sk-3afc80a7-b082-4d47-9b09-e39bda19578e div.sk-estimator:hover {background-color: #d4ebff;}#sk-3afc80a7-b082-4d47-9b09-e39bda19578e div.sk-parallel-item::after {content: \"\";width: 100%;border-bottom: 1px solid gray;flex-grow: 1;}#sk-3afc80a7-b082-4d47-9b09-e39bda19578e div.sk-label:hover label.sk-toggleable__label {background-color: #d4ebff;}#sk-3afc80a7-b082-4d47-9b09-e39bda19578e div.sk-serial::before {content: \"\";position: absolute;border-left: 1px solid gray;box-sizing: border-box;top: 2em;bottom: 0;left: 50%;}#sk-3afc80a7-b082-4d47-9b09-e39bda19578e div.sk-serial {display: flex;flex-direction: column;align-items: center;background-color: white;padding-right: 0.2em;padding-left: 0.2em;}#sk-3afc80a7-b082-4d47-9b09-e39bda19578e div.sk-item {z-index: 1;}#sk-3afc80a7-b082-4d47-9b09-e39bda19578e div.sk-parallel {display: flex;align-items: stretch;justify-content: center;background-color: white;}#sk-3afc80a7-b082-4d47-9b09-e39bda19578e div.sk-parallel::before {content: \"\";position: absolute;border-left: 1px solid gray;box-sizing: border-box;top: 2em;bottom: 0;left: 50%;}#sk-3afc80a7-b082-4d47-9b09-e39bda19578e div.sk-parallel-item {display: flex;flex-direction: column;position: relative;background-color: white;}#sk-3afc80a7-b082-4d47-9b09-e39bda19578e div.sk-parallel-item:first-child::after {align-self: flex-end;width: 50%;}#sk-3afc80a7-b082-4d47-9b09-e39bda19578e div.sk-parallel-item:last-child::after {align-self: flex-start;width: 50%;}#sk-3afc80a7-b082-4d47-9b09-e39bda19578e div.sk-parallel-item:only-child::after {width: 0;}#sk-3afc80a7-b082-4d47-9b09-e39bda19578e div.sk-dashed-wrapped {border: 1px dashed gray;margin: 0 0.4em 0.5em 0.4em;box-sizing: border-box;padding-bottom: 0.4em;background-color: white;position: relative;}#sk-3afc80a7-b082-4d47-9b09-e39bda19578e div.sk-label label {font-family: monospace;font-weight: bold;background-color: white;display: inline-block;line-height: 1.2em;}#sk-3afc80a7-b082-4d47-9b09-e39bda19578e div.sk-label-container {position: relative;z-index: 2;text-align: center;}#sk-3afc80a7-b082-4d47-9b09-e39bda19578e div.sk-container {display: inline-block;position: relative;}</style><div id=\"sk-3afc80a7-b082-4d47-9b09-e39bda19578e\" class\"sk-top-container\"><div class=\"sk-container\"><div class=\"sk-item sk-dashed-wrapped\"><div class=\"sk-label-container\"><div class=\"sk-label sk-toggleable\"><input class=\"sk-toggleable__control sk-hidden--visually\" id=\"1b5d7ca7-254e-48a8-9cbc-9d338e96ebfb\" type=\"checkbox\" ><label class=\"sk-toggleable__label\" for=\"1b5d7ca7-254e-48a8-9cbc-9d338e96ebfb\">Pipeline</label><div class=\"sk-toggleable__content\"><pre>Pipeline(steps=[('std_caler', StandardScaler()), ('lr', LinearRegression())])</pre></div></div></div><div class=\"sk-serial\"><div class=\"sk-item\"><div class=\"sk-estimator sk-toggleable\"><input class=\"sk-toggleable__control sk-hidden--visually\" id=\"8fe5a2c9-43ac-4b2e-8d0c-31e1cf8eaf71\" type=\"checkbox\" ><label class=\"sk-toggleable__label\" for=\"8fe5a2c9-43ac-4b2e-8d0c-31e1cf8eaf71\">StandardScaler</label><div class=\"sk-toggleable__content\"><pre>StandardScaler()</pre></div></div></div><div class=\"sk-item\"><div class=\"sk-estimator sk-toggleable\"><input class=\"sk-toggleable__control sk-hidden--visually\" id=\"c4ab9eba-679c-44a9-9514-2402705deb6b\" type=\"checkbox\" ><label class=\"sk-toggleable__label\" for=\"c4ab9eba-679c-44a9-9514-2402705deb6b\">LinearRegression</label><div class=\"sk-toggleable__content\"><pre>LinearRegression()</pre></div></div></div></div></div></div></div>"
      ],
      "text/plain": [
       "Pipeline(steps=[('std_caler', StandardScaler()), ('lr', LinearRegression())])"
      ]
     },
     "execution_count": 25,
     "metadata": {},
     "output_type": "execute_result"
    }
   ],
   "source": [
    "lr_pipeline"
   ]
  },
  {
   "cell_type": "markdown",
   "id": "abb0feec",
   "metadata": {},
   "source": [
    "### Модель"
   ]
  },
  {
   "cell_type": "markdown",
   "id": "8459f56f",
   "metadata": {},
   "source": [
    "Проверим результаты нашей модели."
   ]
  },
  {
   "cell_type": "code",
   "execution_count": 26,
   "id": "fadafee0",
   "metadata": {},
   "outputs": [],
   "source": [
    "fuel_0 = pd.DataFrame()\n",
    "fuel_1 = pd.DataFrame()\n",
    "fuel_2 = pd.DataFrame()\n",
    "fuel_list = [fuel_0, fuel_1, fuel_2]"
   ]
  },
  {
   "cell_type": "code",
   "execution_count": 27,
   "id": "4c5e86c4",
   "metadata": {},
   "outputs": [
    {
     "name": "stdout",
     "output_type": "stream",
     "text": [
      "\u001b[1m1. Оценка модели по региону geo_0\u001b[0m\n",
      "Предсказанные запасы исследуемого региона\n"
     ]
    },
    {
     "data": {
      "text/html": [
       "<div>\n",
       "<style scoped>\n",
       "    .dataframe tbody tr th:only-of-type {\n",
       "        vertical-align: middle;\n",
       "    }\n",
       "\n",
       "    .dataframe tbody tr th {\n",
       "        vertical-align: top;\n",
       "    }\n",
       "\n",
       "    .dataframe thead th {\n",
       "        text-align: right;\n",
       "    }\n",
       "</style>\n",
       "<table border=\"1\" class=\"dataframe\">\n",
       "  <thead>\n",
       "    <tr style=\"text-align: right;\">\n",
       "      <th></th>\n",
       "      <th>product</th>\n",
       "      <th>predicted</th>\n",
       "    </tr>\n",
       "  </thead>\n",
       "  <tbody>\n",
       "    <tr>\n",
       "      <th>75721</th>\n",
       "      <td>122.073350</td>\n",
       "      <td>101.901017</td>\n",
       "    </tr>\n",
       "    <tr>\n",
       "      <th>80184</th>\n",
       "      <td>48.738540</td>\n",
       "      <td>78.217774</td>\n",
       "    </tr>\n",
       "    <tr>\n",
       "      <th>19864</th>\n",
       "      <td>131.338088</td>\n",
       "      <td>115.266901</td>\n",
       "    </tr>\n",
       "    <tr>\n",
       "      <th>76699</th>\n",
       "      <td>88.327757</td>\n",
       "      <td>105.618618</td>\n",
       "    </tr>\n",
       "    <tr>\n",
       "      <th>92991</th>\n",
       "      <td>36.959266</td>\n",
       "      <td>97.980185</td>\n",
       "    </tr>\n",
       "  </tbody>\n",
       "</table>\n",
       "</div>"
      ],
      "text/plain": [
       "          product   predicted\n",
       "75721  122.073350  101.901017\n",
       "80184   48.738540   78.217774\n",
       "19864  131.338088  115.266901\n",
       "76699   88.327757  105.618618\n",
       "92991   36.959266   97.980185"
      ]
     },
     "metadata": {},
     "output_type": "display_data"
    },
    {
     "name": "stdout",
     "output_type": "stream",
     "text": [
      "---------------------------------------------\n",
      "MSE модели: 1425.56\n",
      "RMSE модели: 37.76\n",
      "MAE модели: 31.05\n",
      "Коэффициент детерминации R2 модели: 0.27\n",
      "---------------------------------------------\n",
      "Проверка на адекватность по медиане:\n",
      "MAE по медиане: 37.64\n",
      "Разница MAE обученной модели и медианной: -6.59\n",
      "Вывод: обученная модель лучше\n",
      "=============================================\n",
      "\n",
      "\u001b[1m2. Оценка модели по региону geo_1\u001b[0m\n",
      "Предсказанные запасы исследуемого региона\n"
     ]
    },
    {
     "data": {
      "text/html": [
       "<div>\n",
       "<style scoped>\n",
       "    .dataframe tbody tr th:only-of-type {\n",
       "        vertical-align: middle;\n",
       "    }\n",
       "\n",
       "    .dataframe tbody tr th {\n",
       "        vertical-align: top;\n",
       "    }\n",
       "\n",
       "    .dataframe thead th {\n",
       "        text-align: right;\n",
       "    }\n",
       "</style>\n",
       "<table border=\"1\" class=\"dataframe\">\n",
       "  <thead>\n",
       "    <tr style=\"text-align: right;\">\n",
       "      <th></th>\n",
       "      <th>product</th>\n",
       "      <th>predicted</th>\n",
       "    </tr>\n",
       "  </thead>\n",
       "  <tbody>\n",
       "    <tr>\n",
       "      <th>75721</th>\n",
       "      <td>0.000000</td>\n",
       "      <td>0.844738</td>\n",
       "    </tr>\n",
       "    <tr>\n",
       "      <th>80184</th>\n",
       "      <td>53.906522</td>\n",
       "      <td>52.921612</td>\n",
       "    </tr>\n",
       "    <tr>\n",
       "      <th>19864</th>\n",
       "      <td>134.766305</td>\n",
       "      <td>135.110385</td>\n",
       "    </tr>\n",
       "    <tr>\n",
       "      <th>76699</th>\n",
       "      <td>107.813044</td>\n",
       "      <td>109.494863</td>\n",
       "    </tr>\n",
       "    <tr>\n",
       "      <th>92991</th>\n",
       "      <td>0.000000</td>\n",
       "      <td>-0.047292</td>\n",
       "    </tr>\n",
       "  </tbody>\n",
       "</table>\n",
       "</div>"
      ],
      "text/plain": [
       "          product   predicted\n",
       "75721    0.000000    0.844738\n",
       "80184   53.906522   52.921612\n",
       "19864  134.766305  135.110385\n",
       "76699  107.813044  109.494863\n",
       "92991    0.000000   -0.047292"
      ]
     },
     "metadata": {},
     "output_type": "display_data"
    },
    {
     "name": "stdout",
     "output_type": "stream",
     "text": [
      "---------------------------------------------\n",
      "MSE модели: 0.79\n",
      "RMSE модели: 0.89\n",
      "MAE модели: 0.72\n",
      "Коэффициент детерминации R2 модели: 1.0\n",
      "---------------------------------------------\n",
      "Проверка на адекватность по медиане:\n",
      "MAE по медиане: 40.22\n",
      "Разница MAE обученной модели и медианной: -39.5\n",
      "Вывод: обученная модель лучше\n",
      "=============================================\n",
      "\n",
      "\u001b[1m3. Оценка модели по региону geo_2\u001b[0m\n",
      "Предсказанные запасы исследуемого региона\n"
     ]
    },
    {
     "data": {
      "text/html": [
       "<div>\n",
       "<style scoped>\n",
       "    .dataframe tbody tr th:only-of-type {\n",
       "        vertical-align: middle;\n",
       "    }\n",
       "\n",
       "    .dataframe tbody tr th {\n",
       "        vertical-align: top;\n",
       "    }\n",
       "\n",
       "    .dataframe thead th {\n",
       "        text-align: right;\n",
       "    }\n",
       "</style>\n",
       "<table border=\"1\" class=\"dataframe\">\n",
       "  <thead>\n",
       "    <tr style=\"text-align: right;\">\n",
       "      <th></th>\n",
       "      <th>product</th>\n",
       "      <th>predicted</th>\n",
       "    </tr>\n",
       "  </thead>\n",
       "  <tbody>\n",
       "    <tr>\n",
       "      <th>75721</th>\n",
       "      <td>117.441301</td>\n",
       "      <td>98.301916</td>\n",
       "    </tr>\n",
       "    <tr>\n",
       "      <th>80184</th>\n",
       "      <td>47.841249</td>\n",
       "      <td>101.592461</td>\n",
       "    </tr>\n",
       "    <tr>\n",
       "      <th>19864</th>\n",
       "      <td>45.883483</td>\n",
       "      <td>52.449099</td>\n",
       "    </tr>\n",
       "    <tr>\n",
       "      <th>76699</th>\n",
       "      <td>139.014608</td>\n",
       "      <td>109.922127</td>\n",
       "    </tr>\n",
       "    <tr>\n",
       "      <th>92991</th>\n",
       "      <td>84.004276</td>\n",
       "      <td>72.411847</td>\n",
       "    </tr>\n",
       "  </tbody>\n",
       "</table>\n",
       "</div>"
      ],
      "text/plain": [
       "          product   predicted\n",
       "75721  117.441301   98.301916\n",
       "80184   47.841249  101.592461\n",
       "19864   45.883483   52.449099\n",
       "76699  139.014608  109.922127\n",
       "92991   84.004276   72.411847"
      ]
     },
     "metadata": {},
     "output_type": "display_data"
    },
    {
     "name": "stdout",
     "output_type": "stream",
     "text": [
      "---------------------------------------------\n",
      "MSE модели: 1611.69\n",
      "RMSE модели: 40.15\n",
      "MAE модели: 32.9\n",
      "Коэффициент детерминации R2 модели: 0.2\n",
      "---------------------------------------------\n",
      "Проверка на адекватность по медиане:\n",
      "MAE по медиане: 37.83\n",
      "Разница MAE обученной модели и медианной: -4.93\n",
      "Вывод: обученная модель лучше\n",
      "=============================================\n",
      "\n"
     ]
    }
   ],
   "source": [
    "for inx, data in enumerate(sets_list):\n",
    "    print('\\033[1m' + f'{inx + 1}. Оценка модели по региону {geo_name_list[inx]}' + '\\033[0m')\n",
    "    fuel_list[inx] = ml_slave(lr_pipeline, data, total_score[inx])    "
   ]
  },
  {
   "cell_type": "markdown",
   "id": "1cb78deb",
   "metadata": {},
   "source": [
    "Визуализируем и изучим результаты предсказания модели."
   ]
  },
  {
   "cell_type": "code",
   "execution_count": 28,
   "id": "69f15c42",
   "metadata": {},
   "outputs": [
    {
     "name": "stderr",
     "output_type": "stream",
     "text": [
      "C:\\Users\\1\\anaconda3\\envs\\praktikum\\lib\\site-packages\\seaborn\\_decorators.py:43: FutureWarning: Pass the following variables as keyword args: x, y, data. From version 0.12, the only valid positional argument will be `data`, and passing other arguments without an explicit keyword will result in an error or misinterpretation.\n",
      "  FutureWarning\n",
      "C:\\Users\\1\\anaconda3\\envs\\praktikum\\lib\\site-packages\\seaborn\\_decorators.py:43: FutureWarning: Pass the following variables as keyword args: x, y, data. From version 0.12, the only valid positional argument will be `data`, and passing other arguments without an explicit keyword will result in an error or misinterpretation.\n",
      "  FutureWarning\n",
      "C:\\Users\\1\\anaconda3\\envs\\praktikum\\lib\\site-packages\\seaborn\\_decorators.py:43: FutureWarning: Pass the following variables as keyword args: x, y, data. From version 0.12, the only valid positional argument will be `data`, and passing other arguments without an explicit keyword will result in an error or misinterpretation.\n",
      "  FutureWarning\n"
     ]
    },
    {
     "data": {
      "image/png": "[encoded data removed]",
      "text/plain": [
       "<Figure size 648x648 with 3 Axes>"
      ]
     },
     "metadata": {},
     "output_type": "display_data"
    },
    {
     "data": {
      "image/png": "[encoded data removed]",
      "text/plain": [
       "<Figure size 648x648 with 3 Axes>"
      ]
     },
     "metadata": {},
     "output_type": "display_data"
    },
    {
     "data": {
      "image/png": "[encoded data removed]",
      "text/plain": [
       "<Figure size 648x648 with 3 Axes>"
      ]
     },
     "metadata": {},
     "output_type": "display_data"
    }
   ],
   "source": [
    "for inx, fuel in enumerate(fuel_list):\n",
    "    p = sns.jointplot('predicted', 'product', fuel, kind='hex', height=9, space=.05)\n",
    "    p.fig.suptitle(f'Визуализация предсказанного/разведанного объема для региона {geo_name_list[inx]}')\n",
    "    p.fig.tight_layout()"
   ]
  },
  {
   "cell_type": "markdown",
   "id": "75628334",
   "metadata": {},
   "source": [
    "**Итоги:**"
   ]
  },
  {
   "cell_type": "markdown",
   "id": "0453fd35",
   "metadata": {},
   "source": [
    "Перед окончательными выводами, произведем ряд дополнительных проверок."
   ]
  },
  {
   "cell_type": "code",
   "execution_count": 29,
   "id": "8a5de653",
   "metadata": {},
   "outputs": [
    {
     "name": "stdout",
     "output_type": "stream",
     "text": [
      "\u001b[1m1. Средние значения по региону geo_0\u001b[0m\n",
      "product      92.325956\n",
      "predicted    92.398800\n",
      "dtype: float64\n",
      "\n",
      "\u001b[1m2. Средние значения по региону geo_1\u001b[0m\n",
      "product      68.725381\n",
      "predicted    68.712878\n",
      "dtype: float64\n",
      "\n",
      "\u001b[1m3. Средние значения по региону geo_2\u001b[0m\n",
      "product      95.150999\n",
      "predicted    94.771024\n",
      "dtype: float64\n",
      "\n"
     ]
    }
   ],
   "source": [
    "for inx, fuel in enumerate(fuel_list):\n",
    "    print('\\033[1m' + f'{inx + 1}. Средние значения по региону {geo_name_list[inx]}' + '\\033[0m')\n",
    "    print(fuel.mean())\n",
    "    total_score[inx].append(round(fuel.mean()[0], 2))\n",
    "    total_score[inx].append(round(fuel.mean()[1], 2))\n",
    "    print()"
   ]
  },
  {
   "cell_type": "code",
   "execution_count": 30,
   "id": "1145d758",
   "metadata": {
    "scrolled": false
   },
   "outputs": [
    {
     "name": "stdout",
     "output_type": "stream",
     "text": [
      "\u001b[1m1. Оценка модели по региону geo_0\u001b[0m\n",
      "Средний коэффициент детерминации R2: 0.27646862289690327\n",
      "\n",
      "\u001b[1m2. Оценка модели по региону geo_1\u001b[0m\n",
      "Средний коэффициент детерминации R2: 0.9996243124448292\n",
      "\n",
      "\u001b[1m3. Оценка модели по региону geo_2\u001b[0m\n",
      "Средний коэффициент детерминации R2: 0.1994800504549819\n",
      "\n"
     ]
    }
   ],
   "source": [
    "for inx, data in enumerate(sets_list):\n",
    "    print('\\033[1m' + f'{inx + 1}. Оценка модели по региону {geo_name_list[inx]}' + '\\033[0m')\n",
    "    scores = cross_val_score(lr_pipeline, data[0], data[1], cv=5, scoring='r2')\n",
    "    final_score = scores.mean()\n",
    "    print('Средний коэффициент детерминации R2:', final_score)\n",
    "    print()"
   ]
  },
  {
   "cell_type": "markdown",
   "id": "bf99e5d4",
   "metadata": {},
   "source": [
    "**Для первого региона:**\n",
    "- в среднем модель предсказывает 92.4 тыс. баррелей нефти по первому региону, что равно фактически разведанному.\n",
    "- MSE модели: 1425.56\n",
    "- RMSE модели: 37.76\n",
    "- MAE модели: 31.05 - результат практически в 30% от среднего.\n",
    "- Коэффициент детерминации R2 модели: 0.27 - достаточно низкий. Кросс-валидация дала идентичный коэффициент."
   ]
  },
  {
   "cell_type": "markdown",
   "id": "aba955cb",
   "metadata": {},
   "source": [
    "**Для второго региона:**\n",
    "- в среднем модель предсказывает 68.7 тыс. баррелей нефти по первому региону, что равно фактически разведанному.   \n",
    "- MSE модели: 0.79\n",
    "- RMSE модели: 0.89\n",
    "- MAE модели: 0.72\n",
    "- Коэффициент детерминации R2 модели: 1.0. Кросс-валидация дала идентичный коэффициент.\n",
    "    \n",
    "Показатели модели практически идеальны! Но у данных на графике подозрительное распределение, выглядещее как искуственно сформированное. Стоит уточнить у заказчика возможность технической ошибки при формировании данных."
   ]
  },
  {
   "cell_type": "markdown",
   "id": "5a89e1a4",
   "metadata": {},
   "source": [
    "**Для третьего региона:**\n",
    "- в среднем модель предсказывает 95 тыс. баррелей нефти по первому региону, что равно фактически разведанному.   \n",
    "- MSE модели: 1611.69\n",
    "- RMSE модели: 40.15\n",
    "- MAE модели: 32.9\n",
    "- Коэффициент детерминации R2 модели: 0.2. Кросс-валидация дала идентичный коэффициент.\n",
    "\n",
    "Результаты третьего региона немного хуже первого региона"
   ]
  },
  {
   "cell_type": "code",
   "execution_count": 31,
   "id": "785cf15f",
   "metadata": {},
   "outputs": [
    {
     "data": {
      "text/html": [
       "<style type=\"text/css\">\n",
       "#T_8813d_row0_col0, #T_8813d_row1_col1, #T_8813d_row1_col2, #T_8813d_row1_col3, #T_8813d_row1_col5, #T_8813d_row1_col6, #T_8813d_row2_col4 {\n",
       "  background-color: lightblue;\n",
       "}\n",
       "#T_8813d_row1_col4, #T_8813d_row2_col0, #T_8813d_row2_col1, #T_8813d_row2_col2, #T_8813d_row2_col3, #T_8813d_row2_col5, #T_8813d_row2_col6 {\n",
       "  background-color: pink;\n",
       "}\n",
       "</style>\n",
       "<table id=\"T_8813d_\">\n",
       "  <thead>\n",
       "    <tr>\n",
       "      <th class=\"blank level0\" >&nbsp;</th>\n",
       "      <th class=\"col_heading level0 col0\" >region</th>\n",
       "      <th class=\"col_heading level0 col1\" >mse</th>\n",
       "      <th class=\"col_heading level0 col2\" >rmse</th>\n",
       "      <th class=\"col_heading level0 col3\" >mae</th>\n",
       "      <th class=\"col_heading level0 col4\" >r2</th>\n",
       "      <th class=\"col_heading level0 col5\" >real_mean</th>\n",
       "      <th class=\"col_heading level0 col6\" >predicted_mean</th>\n",
       "    </tr>\n",
       "  </thead>\n",
       "  <tbody>\n",
       "    <tr>\n",
       "      <th id=\"T_8813d_level0_row0\" class=\"row_heading level0 row0\" >0</th>\n",
       "      <td id=\"T_8813d_row0_col0\" class=\"data row0 col0\" >region_1</td>\n",
       "      <td id=\"T_8813d_row0_col1\" class=\"data row0 col1\" >1425.560000</td>\n",
       "      <td id=\"T_8813d_row0_col2\" class=\"data row0 col2\" >37.760000</td>\n",
       "      <td id=\"T_8813d_row0_col3\" class=\"data row0 col3\" >31.050000</td>\n",
       "      <td id=\"T_8813d_row0_col4\" class=\"data row0 col4\" >0.270000</td>\n",
       "      <td id=\"T_8813d_row0_col5\" class=\"data row0 col5\" >92.330000</td>\n",
       "      <td id=\"T_8813d_row0_col6\" class=\"data row0 col6\" >92.400000</td>\n",
       "    </tr>\n",
       "    <tr>\n",
       "      <th id=\"T_8813d_level0_row1\" class=\"row_heading level0 row1\" >1</th>\n",
       "      <td id=\"T_8813d_row1_col0\" class=\"data row1 col0\" >region_2</td>\n",
       "      <td id=\"T_8813d_row1_col1\" class=\"data row1 col1\" >0.790000</td>\n",
       "      <td id=\"T_8813d_row1_col2\" class=\"data row1 col2\" >0.890000</td>\n",
       "      <td id=\"T_8813d_row1_col3\" class=\"data row1 col3\" >0.720000</td>\n",
       "      <td id=\"T_8813d_row1_col4\" class=\"data row1 col4\" >1.000000</td>\n",
       "      <td id=\"T_8813d_row1_col5\" class=\"data row1 col5\" >68.730000</td>\n",
       "      <td id=\"T_8813d_row1_col6\" class=\"data row1 col6\" >68.710000</td>\n",
       "    </tr>\n",
       "    <tr>\n",
       "      <th id=\"T_8813d_level0_row2\" class=\"row_heading level0 row2\" >2</th>\n",
       "      <td id=\"T_8813d_row2_col0\" class=\"data row2 col0\" >region_3</td>\n",
       "      <td id=\"T_8813d_row2_col1\" class=\"data row2 col1\" >1611.690000</td>\n",
       "      <td id=\"T_8813d_row2_col2\" class=\"data row2 col2\" >40.150000</td>\n",
       "      <td id=\"T_8813d_row2_col3\" class=\"data row2 col3\" >32.900000</td>\n",
       "      <td id=\"T_8813d_row2_col4\" class=\"data row2 col4\" >0.200000</td>\n",
       "      <td id=\"T_8813d_row2_col5\" class=\"data row2 col5\" >95.150000</td>\n",
       "      <td id=\"T_8813d_row2_col6\" class=\"data row2 col6\" >94.770000</td>\n",
       "    </tr>\n",
       "  </tbody>\n",
       "</table>\n"
      ],
      "text/plain": [
       "<pandas.io.formats.style.Styler at 0x23e72297d88>"
      ]
     },
     "execution_count": 31,
     "metadata": {},
     "output_type": "execute_result"
    }
   ],
   "source": [
    "# подготовим таблицу оценок\n",
    "summary = pd.DataFrame(total_score, columns=['mse', 'rmse', 'mae', 'r2', 'real_mean', 'predicted_mean'])\n",
    "summary.insert(0, 'region', regions)\n",
    "summary.style.highlight_max(color = 'pink', axis = 0).highlight_min(color = 'lightblue', axis = 0)"
   ]
  },
  {
   "cell_type": "markdown",
   "id": "57175ed0",
   "metadata": {},
   "source": [
    "Оценки демонстрируют не очень высокие показатели модели. \n",
    "\n",
    "Более того, была выявлена проблема в формировании данных, отразившаяся на второй модели - результаты слишком хорошие, но при этом признак product просто сгруппирован по 6 группам. Необходимо обратить внимание заказчика на подобную аномалию. По 1 и 3 моделям есть возможность улучшения прогноза, если уточнить данные и, возможно, использовать другие модели.\n",
    "\n",
    "средние запасы по региону, предсказанные моделью:\n",
    "- Среднее 1 модели: 92.4 (по данным реальным: 92.33)\n",
    "- Среднее 2 модели: 68.71 (по данным реальным: 68.73)\n",
    "- Среднее 3 модели: 94.77 (по данным реальным: 95.15)\n",
    "\n",
    "Так или иначе, использование моделей для принятия решения с такими показателями является выскоим риском, рекомендуется добавить дополнительные признаки и сделать перерасчет. Но стоит отметить, что модель лучше, чем случайная, поэтому при выборе - случайная модель на основе средних или медианы или модель - выбор предлагаю оставить за моделью."
   ]
  },
  {
   "cell_type": "markdown",
   "id": "25a5bcdf",
   "metadata": {},
   "source": [
    "## Расчет прибыли и рисков"
   ]
  },
  {
   "cell_type": "markdown",
   "id": "e74ebc87",
   "metadata": {},
   "source": [
    "### Подготовка"
   ]
  },
  {
   "cell_type": "markdown",
   "id": "98ab776a",
   "metadata": {},
   "source": [
    "Подготовим необходимые переменные для расчета"
   ]
  },
  {
   "cell_type": "code",
   "execution_count": 32,
   "id": "633a6ff3",
   "metadata": {},
   "outputs": [
    {
     "data": {
      "text/html": [
       "<div>\n",
       "<style scoped>\n",
       "    .dataframe tbody tr th:only-of-type {\n",
       "        vertical-align: middle;\n",
       "    }\n",
       "\n",
       "    .dataframe tbody tr th {\n",
       "        vertical-align: top;\n",
       "    }\n",
       "\n",
       "    .dataframe thead th {\n",
       "        text-align: right;\n",
       "    }\n",
       "</style>\n",
       "<table border=\"1\" class=\"dataframe\">\n",
       "  <thead>\n",
       "    <tr style=\"text-align: right;\">\n",
       "      <th></th>\n",
       "      <th>0</th>\n",
       "    </tr>\n",
       "  </thead>\n",
       "  <tbody>\n",
       "    <tr>\n",
       "      <th>Бюджет, руб</th>\n",
       "      <td>10000000000</td>\n",
       "    </tr>\n",
       "    <tr>\n",
       "      <th>Количество скважин, ед.</th>\n",
       "      <td>200</td>\n",
       "    </tr>\n",
       "    <tr>\n",
       "      <th>Стоимость бурения, руб</th>\n",
       "      <td>50000000</td>\n",
       "    </tr>\n",
       "    <tr>\n",
       "      <th>Цена за 1000 баррелей, руб</th>\n",
       "      <td>450000</td>\n",
       "    </tr>\n",
       "  </tbody>\n",
       "</table>\n",
       "</div>"
      ],
      "text/plain": [
       "                                      0\n",
       "Бюджет, руб                 10000000000\n",
       "Количество скважин, ед.             200\n",
       "Стоимость бурения, руб         50000000\n",
       "Цена за 1000 баррелей, руб       450000"
      ]
     },
     "execution_count": 32,
     "metadata": {},
     "output_type": "execute_result"
    }
   ],
   "source": [
    "BUDGET = 10*10**9\n",
    "POINTS_OF_WELL = 200\n",
    "PRICE_PER_1000B = 450*10**3\n",
    "WELL_PRICE = int(BUDGET / POINTS_OF_WELL)\n",
    "variable = pd.DataFrame({'Бюджет, руб': [BUDGET], 'Количество скважин, ед.':[POINTS_OF_WELL],\n",
    "                        'Стоимость бурения, руб': [WELL_PRICE], 'Цена за 1000 баррелей, руб':[PRICE_PER_1000B]}\n",
    "                       ).T\n",
    "\n",
    "variable"
   ]
  },
  {
   "cell_type": "markdown",
   "id": "c4aaf29e",
   "metadata": {},
   "source": [
    "Подсчитаем минимальный запас скважин, чтобы обеспечить ее безубыточность."
   ]
  },
  {
   "cell_type": "code",
   "execution_count": 33,
   "id": "b6418520",
   "metadata": {},
   "outputs": [
    {
     "name": "stdout",
     "output_type": "stream",
     "text": [
      "Минимальный запас нефти на скважину, тыс. бар.: 111.11\n"
     ]
    },
    {
     "data": {
      "text/html": [
       "<div>\n",
       "<style scoped>\n",
       "    .dataframe tbody tr th:only-of-type {\n",
       "        vertical-align: middle;\n",
       "    }\n",
       "\n",
       "    .dataframe tbody tr th {\n",
       "        vertical-align: top;\n",
       "    }\n",
       "\n",
       "    .dataframe thead th {\n",
       "        text-align: right;\n",
       "    }\n",
       "</style>\n",
       "<table border=\"1\" class=\"dataframe\">\n",
       "  <thead>\n",
       "    <tr style=\"text-align: right;\">\n",
       "      <th></th>\n",
       "      <th>region</th>\n",
       "      <th>mse</th>\n",
       "      <th>rmse</th>\n",
       "      <th>mae</th>\n",
       "      <th>r2</th>\n",
       "      <th>real_mean</th>\n",
       "      <th>predicted_mean</th>\n",
       "      <th>predicted_pool</th>\n",
       "    </tr>\n",
       "  </thead>\n",
       "  <tbody>\n",
       "    <tr>\n",
       "      <th>0</th>\n",
       "      <td>region_1</td>\n",
       "      <td>1425.56</td>\n",
       "      <td>37.76</td>\n",
       "      <td>31.05</td>\n",
       "      <td>0.27</td>\n",
       "      <td>92.33</td>\n",
       "      <td>92.40</td>\n",
       "      <td>-18.71</td>\n",
       "    </tr>\n",
       "    <tr>\n",
       "      <th>1</th>\n",
       "      <td>region_2</td>\n",
       "      <td>0.79</td>\n",
       "      <td>0.89</td>\n",
       "      <td>0.72</td>\n",
       "      <td>1.00</td>\n",
       "      <td>68.73</td>\n",
       "      <td>68.71</td>\n",
       "      <td>-42.40</td>\n",
       "    </tr>\n",
       "    <tr>\n",
       "      <th>2</th>\n",
       "      <td>region_3</td>\n",
       "      <td>1611.69</td>\n",
       "      <td>40.15</td>\n",
       "      <td>32.90</td>\n",
       "      <td>0.20</td>\n",
       "      <td>95.15</td>\n",
       "      <td>94.77</td>\n",
       "      <td>-16.34</td>\n",
       "    </tr>\n",
       "  </tbody>\n",
       "</table>\n",
       "</div>"
      ],
      "text/plain": [
       "     region      mse   rmse    mae    r2  real_mean  predicted_mean  \\\n",
       "0  region_1  1425.56  37.76  31.05  0.27      92.33           92.40   \n",
       "1  region_2     0.79   0.89   0.72  1.00      68.73           68.71   \n",
       "2  region_3  1611.69  40.15  32.90  0.20      95.15           94.77   \n",
       "\n",
       "   predicted_pool  \n",
       "0          -18.71  \n",
       "1          -42.40  \n",
       "2          -16.34  "
      ]
     },
     "execution_count": 33,
     "metadata": {},
     "output_type": "execute_result"
    }
   ],
   "source": [
    "oil_deposits = round(WELL_PRICE / PRICE_PER_1000B, 2)\n",
    "print(f'Минимальный запас нефти на скважину, тыс. бар.: {oil_deposits}')\n",
    "summary['predicted_pool'] = summary['predicted_mean'] - oil_deposits\n",
    "summary"
   ]
  },
  {
   "cell_type": "markdown",
   "id": "ec547c53",
   "metadata": {},
   "source": [
    "По всем регионам среднее значение запасов ниже допустимого безубыточного. Определим долю безубыточных скважин в каждом региионе, запасов которых хватает."
   ]
  },
  {
   "cell_type": "code",
   "execution_count": 34,
   "id": "b8d22708",
   "metadata": {},
   "outputs": [],
   "source": [
    "def fuel_oracle(data, region):\n",
    "    good_reg = (data.query('product >= 111.11').shape[0]) / (data.shape[0])\n",
    "    print(f'Доля безубыточных скважин в {region}:', good_reg)    "
   ]
  },
  {
   "cell_type": "code",
   "execution_count": 35,
   "id": "97768be0",
   "metadata": {},
   "outputs": [
    {
     "name": "stdout",
     "output_type": "stream",
     "text": [
      "Доля безубыточных скважин в region_1: 0.36404\n",
      "Доля безубыточных скважин в region_2: 0.165\n",
      "Доля безубыточных скважин в region_3: 0.38136\n"
     ]
    }
   ],
   "source": [
    "for inx, fuel in enumerate(fuel_list):\n",
    "    fuel_oracle(fuel_list[inx], regions[inx])"
   ]
  },
  {
   "cell_type": "markdown",
   "id": "601826b8",
   "metadata": {},
   "source": [
    "В каждом регионе есть безубыточные скважины. "
   ]
  },
  {
   "cell_type": "markdown",
   "id": "d187e993",
   "metadata": {},
   "source": [
    "### Расчеты"
   ]
  },
  {
   "cell_type": "markdown",
   "id": "1a6fcc3c",
   "metadata": {},
   "source": [
    "Произведем расчет прибыльности для каждого региона, сперва подготовив функцию."
   ]
  },
  {
   "cell_type": "code",
   "execution_count": 36,
   "id": "3d9e163d",
   "metadata": {},
   "outputs": [],
   "source": [
    "def income_oracle(data):\n",
    "    '''\n",
    "    Функция income_oracle принимает в параметр data данные, содержащие \n",
    "    информацию о предсказанном и фактическом объеме скважин, после чего производит расчеты:\n",
    "    1. Прогнозирует прибыль с региона.\n",
    "    2. Применяет технику бутстрап.\n",
    "    3. Определяет 2,5% и 97,5% квантили.\n",
    "    3. Определяет 95% доверительный интервал.\n",
    "    4. Определяет риски.\n",
    "    '''\n",
    "    \n",
    "    # выберем 200 лучших скважин\n",
    "    top_200 = data.sort_values(by=['predicted'], ascending=False)[:200]\n",
    "    \n",
    "    # определим их общий объем\n",
    "    true_sort_sum = data['product'][top_200.index].sum() \n",
    "    \n",
    "    # прибыль\n",
    "    result = round(((true_sort_sum * PRICE_PER_1000B) - BUDGET) / (10**9), 2)\n",
    "    \n",
    "    # прибыль по соотношению к затратам\n",
    "    value = result*10**9/BUDGET\n",
    "    print(f'Модель прогнозирует прибыль в размере {result} млрд. руб., с value относительно затрат {value}')\n",
    "    \n",
    "    # bootstrap\n",
    "    values = []\n",
    "    state = np.random.RandomState(42) \n",
    "    \n",
    "    # сгенерируем 1000 выборок\n",
    "    for i in range(1000):\n",
    "        probs_subsample = data['predicted'].sample(n=500, replace=True, random_state=state)     \n",
    "        probs_top = probs_subsample.sort_values(ascending=False)\n",
    "        cur_top_200 = data['product'][probs_top.index][:200]\n",
    "        profit = ((PRICE_PER_1000B * cur_top_200.sum()) - BUDGET)/ (10**9)\n",
    "        values.append(profit)\n",
    "    \n",
    "    # посчитаем показатели сгенерированных выборок\n",
    "    values = pd.Series(values)\n",
    "    mean = round(values.mean(), 2)\n",
    "    lower = round(values.quantile(0.025), 2)\n",
    "    upper = round(values.quantile(0.975), 2)\n",
    "    confidence_interval = st.t.interval(0.95, len(values)-1, \n",
    "                                        mean, values.sem())\n",
    "    \n",
    "    risk = (values < 0).mean() \n",
    "        \n",
    "    print('Средняя выручка: {:.2f}'.format(mean)),\n",
    "    print('2.5%-квантиль: {:.2f}'.format(lower)),\n",
    "    print('97.5%-квантиль: {:.2f}'.format(upper)),\n",
    "    print('95% доверительный интервал: ', confidence_interval),\n",
    "    print('Риски: {:.2%}'.format(risk))\n",
    "    print('=' * 45)"
   ]
  },
  {
   "cell_type": "code",
   "execution_count": 37,
   "id": "28b174da",
   "metadata": {},
   "outputs": [
    {
     "name": "stdout",
     "output_type": "stream",
     "text": [
      "\u001b[1mИсследование проводится для region_1\u001b[0m\n",
      "Модель прогнозирует прибыль в размере 3.36 млрд. руб., с value относительно затрат 0.336\n",
      "Средняя выручка: 0.40\n",
      "2.5%-квантиль: -0.11\n",
      "97.5%-квантиль: 0.90\n",
      "95% доверительный интервал:  (0.38389046656372794, 0.4161095334362721)\n",
      "Риски: 6.00%\n",
      "=============================================\n",
      "\n",
      "\u001b[1mИсследование проводится для region_2\u001b[0m\n",
      "Модель прогнозирует прибыль в размере 2.42 млрд. руб., с value относительно затрат 0.242\n",
      "Средняя выручка: 0.45\n",
      "2.5%-квантиль: 0.06\n",
      "97.5%-квантиль: 0.85\n",
      "95% доверительный интервал:  (0.4372880302850639, 0.4627119697149361)\n",
      "Риски: 1.50%\n",
      "=============================================\n",
      "\n",
      "\u001b[1mИсследование проводится для region_3\u001b[0m\n",
      "Модель прогнозирует прибыль в размере 2.6 млрд. руб., с value относительно затрат 0.26\n",
      "Средняя выручка: 0.38\n",
      "2.5%-квантиль: -0.14\n",
      "97.5%-квантиль: 0.89\n",
      "95% доверительный интервал:  (0.3637247769135157, 0.39627522308648433)\n",
      "Риски: 8.00%\n",
      "=============================================\n",
      "\n"
     ]
    }
   ],
   "source": [
    "for inx, fuel in enumerate(fuel_list):\n",
    "    print('\\033[1m' + f'Исследование проводится для {regions[inx]}' + '\\033[0m')\n",
    "    income_oracle(fuel_list[inx])\n",
    "    print()"
   ]
  },
  {
   "cell_type": "markdown",
   "id": "df5df226",
   "metadata": {},
   "source": [
    "## Выводы"
   ]
  },
  {
   "cell_type": "code",
   "execution_count": 38,
   "id": "3353bdaf",
   "metadata": {},
   "outputs": [
    {
     "data": {
      "text/html": [
       "<style type=\"text/css\">\n",
       "#T_d9fc8_row0_col0, #T_d9fc8_row1_col1, #T_d9fc8_row1_col2, #T_d9fc8_row1_col3, #T_d9fc8_row1_col5, #T_d9fc8_row1_col6, #T_d9fc8_row1_col7, #T_d9fc8_row2_col4 {\n",
       "  background-color: lightblue;\n",
       "}\n",
       "#T_d9fc8_row1_col4, #T_d9fc8_row2_col0, #T_d9fc8_row2_col1, #T_d9fc8_row2_col2, #T_d9fc8_row2_col3, #T_d9fc8_row2_col5, #T_d9fc8_row2_col6, #T_d9fc8_row2_col7 {\n",
       "  background-color: pink;\n",
       "}\n",
       "</style>\n",
       "<table id=\"T_d9fc8_\">\n",
       "  <thead>\n",
       "    <tr>\n",
       "      <th class=\"blank level0\" >&nbsp;</th>\n",
       "      <th class=\"col_heading level0 col0\" >region</th>\n",
       "      <th class=\"col_heading level0 col1\" >mse</th>\n",
       "      <th class=\"col_heading level0 col2\" >rmse</th>\n",
       "      <th class=\"col_heading level0 col3\" >mae</th>\n",
       "      <th class=\"col_heading level0 col4\" >r2</th>\n",
       "      <th class=\"col_heading level0 col5\" >real_mean</th>\n",
       "      <th class=\"col_heading level0 col6\" >predicted_mean</th>\n",
       "      <th class=\"col_heading level0 col7\" >predicted_pool</th>\n",
       "    </tr>\n",
       "  </thead>\n",
       "  <tbody>\n",
       "    <tr>\n",
       "      <th id=\"T_d9fc8_level0_row0\" class=\"row_heading level0 row0\" >0</th>\n",
       "      <td id=\"T_d9fc8_row0_col0\" class=\"data row0 col0\" >region_1</td>\n",
       "      <td id=\"T_d9fc8_row0_col1\" class=\"data row0 col1\" >1425.560000</td>\n",
       "      <td id=\"T_d9fc8_row0_col2\" class=\"data row0 col2\" >37.760000</td>\n",
       "      <td id=\"T_d9fc8_row0_col3\" class=\"data row0 col3\" >31.050000</td>\n",
       "      <td id=\"T_d9fc8_row0_col4\" class=\"data row0 col4\" >0.270000</td>\n",
       "      <td id=\"T_d9fc8_row0_col5\" class=\"data row0 col5\" >92.330000</td>\n",
       "      <td id=\"T_d9fc8_row0_col6\" class=\"data row0 col6\" >92.400000</td>\n",
       "      <td id=\"T_d9fc8_row0_col7\" class=\"data row0 col7\" >-18.710000</td>\n",
       "    </tr>\n",
       "    <tr>\n",
       "      <th id=\"T_d9fc8_level0_row1\" class=\"row_heading level0 row1\" >1</th>\n",
       "      <td id=\"T_d9fc8_row1_col0\" class=\"data row1 col0\" >region_2</td>\n",
       "      <td id=\"T_d9fc8_row1_col1\" class=\"data row1 col1\" >0.790000</td>\n",
       "      <td id=\"T_d9fc8_row1_col2\" class=\"data row1 col2\" >0.890000</td>\n",
       "      <td id=\"T_d9fc8_row1_col3\" class=\"data row1 col3\" >0.720000</td>\n",
       "      <td id=\"T_d9fc8_row1_col4\" class=\"data row1 col4\" >1.000000</td>\n",
       "      <td id=\"T_d9fc8_row1_col5\" class=\"data row1 col5\" >68.730000</td>\n",
       "      <td id=\"T_d9fc8_row1_col6\" class=\"data row1 col6\" >68.710000</td>\n",
       "      <td id=\"T_d9fc8_row1_col7\" class=\"data row1 col7\" >-42.400000</td>\n",
       "    </tr>\n",
       "    <tr>\n",
       "      <th id=\"T_d9fc8_level0_row2\" class=\"row_heading level0 row2\" >2</th>\n",
       "      <td id=\"T_d9fc8_row2_col0\" class=\"data row2 col0\" >region_3</td>\n",
       "      <td id=\"T_d9fc8_row2_col1\" class=\"data row2 col1\" >1611.690000</td>\n",
       "      <td id=\"T_d9fc8_row2_col2\" class=\"data row2 col2\" >40.150000</td>\n",
       "      <td id=\"T_d9fc8_row2_col3\" class=\"data row2 col3\" >32.900000</td>\n",
       "      <td id=\"T_d9fc8_row2_col4\" class=\"data row2 col4\" >0.200000</td>\n",
       "      <td id=\"T_d9fc8_row2_col5\" class=\"data row2 col5\" >95.150000</td>\n",
       "      <td id=\"T_d9fc8_row2_col6\" class=\"data row2 col6\" >94.770000</td>\n",
       "      <td id=\"T_d9fc8_row2_col7\" class=\"data row2 col7\" >-16.340000</td>\n",
       "    </tr>\n",
       "  </tbody>\n",
       "</table>\n"
      ],
      "text/plain": [
       "<pandas.io.formats.style.Styler at 0x23e76045148>"
      ]
     },
     "execution_count": 38,
     "metadata": {},
     "output_type": "execute_result"
    }
   ],
   "source": [
    "summary.style.highlight_max(color = 'pink', axis = 0).highlight_min(color = 'lightblue', axis = 0)"
   ]
  },
  {
   "cell_type": "markdown",
   "id": "3452eb89",
   "metadata": {},
   "source": [
    "По результатам рассчетов самым прибыльным регионом является превый -он обеспечит прибыль в размере 3.35 млрд. рублей, что составит 33.6% от бюджета. \n",
    "\n",
    "**Bootstrap-проверка:**\n",
    "1. Для первого региона, 95% вероятность получить свыше 0.38 млрд. Убыточным регион может стать с вероятностью в 6%.\n",
    "2. Для второго региона, 95% вероятность получить свыше 0.43 млрд. Убыточным регион может стать с вероятностью в 1.5%.\n",
    "3. Для третьего региона, 95% вероятность получить свыше 0.35 млрд. Убыточным регион может стать с вероятностью в 8%."
   ]
  },
  {
   "cell_type": "markdown",
   "id": "f8d893c9",
   "metadata": {},
   "source": [
    "Заказчиком были предоставлены пробы нефти в трёх регионах, содержащих 10 000 месторождений, с разведанным объемом их запасов. Была построена модель МО, на основе линейной регрессии, с помощью которой мы определили самый предположительно прибыльный регион.\n",
    "\n",
    "Самую высокую прогнозируемую прибыль показал регион 1: 3.36 млрд. рублей.\n",
    "\n",
    "По результатам проверкой средней выручки техникой Bootsrap - наилучший результат и наименьшие риски показал 1 и 2 регионы. При этом, регион 2 не стоит рассматривать, так как в процессе исследования, было обнаружено, что целевой признак сгруппирован по 6 групп, а предоставленные данные явно несут следы ошибки при их формировании.\n",
    "\n",
    "Кроме того, хотя модель и показала себя лучше константной (основанной на медиане), ее оценка не является удовлетворительной и допускает значительные отклонения.\n",
    "\n",
    "**Рекомендации:**\n",
    "\n",
    "Для достоверной наукоёмкой рекомендации, необходимо согласовать с заказчиком исполнение следующих пунктов:\n",
    "1. Получить комментарии по формированию данных для второго региона.\n",
    "2. Получить расширенные признаки.\n",
    "3. Согласовать возможность применения дополнительных моделей.\n",
    "4. Переобучить текущую / обучить новые, по результатам выполнения заказчиком предыдущих пунктов.\n",
    "\n",
    "**Резюме:** с учетом применения алгоритмов МО и техники Bootstrap, без учета рекомендаций, требованиям заказчика отвечает регион 1."
   ]
  }
 ],
 "metadata": {
  "kernelspec": {
   "display_name": "Python 3 (ipykernel)",
   "language": "python",
   "name": "python3"
  },
  "language_info": {
   "codemirror_mode": {
    "name": "ipython",
    "version": 3
   },
   "file_extension": ".py",
   "mimetype": "text/x-python",
   "name": "python",
   "nbconvert_exporter": "python",
   "pygments_lexer": "ipython3",
   "version": "3.7.11"
  },
  "toc": {
   "base_numbering": 1,
   "nav_menu": {},
   "number_sections": true,
   "sideBar": true,
   "skip_h1_title": true,
   "title_cell": "Table of Contents",
   "title_sidebar": "Contents",
   "toc_cell": true,
   "toc_position": {
    "height": "calc(100% - 180px)",
    "left": "10px",
    "top": "150px",
    "width": "303.837px"
   },
   "toc_section_display": true,
   "toc_window_display": true
  }
 },
 "nbformat": 4,
 "nbformat_minor": 5
}
