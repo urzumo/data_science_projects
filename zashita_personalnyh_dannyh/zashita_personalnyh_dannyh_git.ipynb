{
 "cells": [
  {
   "cell_type": "markdown",
   "id": "22aa6b88",
   "metadata": {
    "toc": true
   },
   "source": [
    "<h1>Table of Contents<span class=\"tocSkip\"></span></h1>\n",
    "<div class=\"toc\"><ul class=\"toc-item\"><li><span><a href=\"#Описание-задачи\" data-toc-modified-id=\"Описание-задачи-1\"><span class=\"toc-item-num\">1&nbsp;&nbsp;</span>Описание задачи</a></span><ul class=\"toc-item\"><li><span><a href=\"#Постановка-задачи\" data-toc-modified-id=\"Постановка-задачи-1.1\"><span class=\"toc-item-num\">1.1&nbsp;&nbsp;</span>Постановка задачи</a></span></li><li><span><a href=\"#Ход-исполнения\" data-toc-modified-id=\"Ход-исполнения-1.2\"><span class=\"toc-item-num\">1.2&nbsp;&nbsp;</span>Ход исполнения</a></span></li></ul></li><li><span><a href=\"#Обзор-данных\" data-toc-modified-id=\"Обзор-данных-2\"><span class=\"toc-item-num\">2&nbsp;&nbsp;</span>Обзор данных</a></span><ul class=\"toc-item\"><li><span><a href=\"#Загрузка-инструментов\" data-toc-modified-id=\"Загрузка-инструментов-2.1\"><span class=\"toc-item-num\">2.1&nbsp;&nbsp;</span>Загрузка инструментов</a></span></li><li><span><a href=\"#Загрузка-данных\" data-toc-modified-id=\"Загрузка-данных-2.2\"><span class=\"toc-item-num\">2.2&nbsp;&nbsp;</span>Загрузка данных</a></span></li><li><span><a href=\"#Описание-данных\" data-toc-modified-id=\"Описание-данных-2.3\"><span class=\"toc-item-num\">2.3&nbsp;&nbsp;</span>Описание данных</a></span></li></ul></li><li><span><a href=\"#Предобработка-данных\" data-toc-modified-id=\"Предобработка-данных-3\"><span class=\"toc-item-num\">3&nbsp;&nbsp;</span>Предобработка данных</a></span><ul class=\"toc-item\"><li><span><a href=\"#Наименования-столбцов\" data-toc-modified-id=\"Наименования-столбцов-3.1\"><span class=\"toc-item-num\">3.1&nbsp;&nbsp;</span>Наименования столбцов</a></span></li><li><span><a href=\"#Явные-дубликаты\" data-toc-modified-id=\"Явные-дубликаты-3.2\"><span class=\"toc-item-num\">3.2&nbsp;&nbsp;</span>Явные дубликаты</a></span></li></ul></li><li><span><a href=\"#Анализ-признаков\" data-toc-modified-id=\"Анализ-признаков-4\"><span class=\"toc-item-num\">4&nbsp;&nbsp;</span>Анализ признаков</a></span><ul class=\"toc-item\"><li><span><a href=\"#Выделение-целевого-признака\" data-toc-modified-id=\"Выделение-целевого-признака-4.1\"><span class=\"toc-item-num\">4.1&nbsp;&nbsp;</span>Выделение целевого признака</a></span></li><li><span><a href=\"#Описание-признаков\" data-toc-modified-id=\"Описание-признаков-4.2\"><span class=\"toc-item-num\">4.2&nbsp;&nbsp;</span>Описание признаков</a></span></li></ul></li><li><span><a href=\"#Умножение-матриц\" data-toc-modified-id=\"Умножение-матриц-5\"><span class=\"toc-item-num\">5&nbsp;&nbsp;</span>Умножение матриц</a></span><ul class=\"toc-item\"><li><span><a href=\"#Доказательство-равенства-целевого-признака\" data-toc-modified-id=\"Доказательство-равенства-целевого-признака-5.1\"><span class=\"toc-item-num\">5.1&nbsp;&nbsp;</span>Доказательство равенства целевого признака</a></span></li><li><span><a href=\"#Доказательство-равенства-предсказаний\" data-toc-modified-id=\"Доказательство-равенства-предсказаний-5.2\"><span class=\"toc-item-num\">5.2&nbsp;&nbsp;</span>Доказательство равенства предсказаний</a></span></li><li><span><a href=\"#Выводы\" data-toc-modified-id=\"Выводы-5.3\"><span class=\"toc-item-num\">5.3&nbsp;&nbsp;</span>Выводы</a></span></li></ul></li><li><span><a href=\"#Модель\" data-toc-modified-id=\"Модель-6\"><span class=\"toc-item-num\">6&nbsp;&nbsp;</span>Модель</a></span><ul class=\"toc-item\"><li><span><a href=\"#Алгоритм-шифрования\" data-toc-modified-id=\"Алгоритм-шифрования-6.1\"><span class=\"toc-item-num\">6.1&nbsp;&nbsp;</span>Алгоритм шифрования</a></span></li><li><span><a href=\"#Первичная-проверка\" data-toc-modified-id=\"Первичная-проверка-6.2\"><span class=\"toc-item-num\">6.2&nbsp;&nbsp;</span>Первичная проверка</a></span></li><li><span><a href=\"#Проверка-алгоритма-на-тесовом-наборе\" data-toc-modified-id=\"Проверка-алгоритма-на-тесовом-наборе-6.3\"><span class=\"toc-item-num\">6.3&nbsp;&nbsp;</span>Проверка алгоритма на тесовом наборе</a></span></li></ul></li><li><span><a href=\"#Итоги\" data-toc-modified-id=\"Итоги-7\"><span class=\"toc-item-num\">7&nbsp;&nbsp;</span>Итоги</a></span></li></ul></div>"
   ]
  },
  {
   "cell_type": "markdown",
   "id": "5659e305",
   "metadata": {},
   "source": [
    "# ЗАЩИТА ПЕРСОНАЛЬНЫХ ДАННЫХ КЛИЕНТОВ"
   ]
  },
  {
   "cell_type": "markdown",
   "id": "80824c4f",
   "metadata": {},
   "source": [
    "## Описание задачи"
   ]
  },
  {
   "cell_type": "markdown",
   "id": "779ec0f0",
   "metadata": {},
   "source": [
    "### Постановка задачи"
   ]
  },
  {
   "cell_type": "markdown",
   "id": "134d0dc0",
   "metadata": {},
   "source": [
    "Заказчиком выступает страховая компания. Необходимо защитить персональные данные клиентов. Для этого требуется разработать  такой метод преобразования данных, чтобы по ним было сложно восстановить персональную информацию. И обосновать корректность его работы.\n",
    "\n",
    "При этом, нужно защитить данные, чтобы при преобразовании качество моделей машинного обучения не ухудшилось. Подбирать наилучшую модель не требуется."
   ]
  },
  {
   "cell_type": "markdown",
   "id": "e0203be4",
   "metadata": {},
   "source": [
    "### Ход исполнения"
   ]
  },
  {
   "cell_type": "markdown",
   "id": "50caeb4c",
   "metadata": {},
   "source": [
    "1. Изучить данные.\n",
    "2. Исследовать возможность преобразования без влияния на линейную регрессию.\n",
    "3. Выбрать и обосновать алгоритм преобразования данных для решения задачи. \n",
    "4. Использовать алогритм, после чего проверить качество линейной регрессии не отличается до и после преобразования, метрикой R2."
   ]
  },
  {
   "cell_type": "markdown",
   "id": "c109760f",
   "metadata": {},
   "source": [
    "## Обзор данных"
   ]
  },
  {
   "cell_type": "markdown",
   "id": "f3617988",
   "metadata": {},
   "source": [
    "### Загрузка инструментов"
   ]
  },
  {
   "cell_type": "code",
   "execution_count": 1,
   "id": "4ee1f8ff",
   "metadata": {},
   "outputs": [
    {
     "name": "stderr",
     "output_type": "stream",
     "text": [
      "In C:\\Users\\1\\anaconda3\\envs\\praktikum\\lib\\site-packages\\matplotlib\\mpl-data\\stylelib\\_classic_test.mplstyle: \n",
      "The text.latex.preview rcparam was deprecated in Matplotlib 3.3 and will be removed two minor releases later.\n",
      "In C:\\Users\\1\\anaconda3\\envs\\praktikum\\lib\\site-packages\\matplotlib\\mpl-data\\stylelib\\_classic_test.mplstyle: \n",
      "The mathtext.fallback_to_cm rcparam was deprecated in Matplotlib 3.3 and will be removed two minor releases later.\n",
      "In C:\\Users\\1\\anaconda3\\envs\\praktikum\\lib\\site-packages\\matplotlib\\mpl-data\\stylelib\\_classic_test.mplstyle: Support for setting the 'mathtext.fallback_to_cm' rcParam is deprecated since 3.3 and will be removed two minor releases later; use 'mathtext.fallback : 'cm' instead.\n",
      "In C:\\Users\\1\\anaconda3\\envs\\praktikum\\lib\\site-packages\\matplotlib\\mpl-data\\stylelib\\_classic_test.mplstyle: \n",
      "The validate_bool_maybe_none function was deprecated in Matplotlib 3.3 and will be removed two minor releases later.\n",
      "In C:\\Users\\1\\anaconda3\\envs\\praktikum\\lib\\site-packages\\matplotlib\\mpl-data\\stylelib\\_classic_test.mplstyle: \n",
      "The savefig.jpeg_quality rcparam was deprecated in Matplotlib 3.3 and will be removed two minor releases later.\n",
      "In C:\\Users\\1\\anaconda3\\envs\\praktikum\\lib\\site-packages\\matplotlib\\mpl-data\\stylelib\\_classic_test.mplstyle: \n",
      "The keymap.all_axes rcparam was deprecated in Matplotlib 3.3 and will be removed two minor releases later.\n",
      "In C:\\Users\\1\\anaconda3\\envs\\praktikum\\lib\\site-packages\\matplotlib\\mpl-data\\stylelib\\_classic_test.mplstyle: \n",
      "The animation.avconv_path rcparam was deprecated in Matplotlib 3.3 and will be removed two minor releases later.\n",
      "In C:\\Users\\1\\anaconda3\\envs\\praktikum\\lib\\site-packages\\matplotlib\\mpl-data\\stylelib\\_classic_test.mplstyle: \n",
      "The animation.avconv_args rcparam was deprecated in Matplotlib 3.3 and will be removed two minor releases later.\n"
     ]
    }
   ],
   "source": [
    "# загрузим необходимые библиотеки\n",
    "import pandas as pd\n",
    "import numpy as np\n",
    "import matplotlib.pyplot as plt\n",
    "import seaborn as sns\n",
    "\n",
    "# загрузим модели\n",
    "from sklearn.linear_model import LinearRegression\n",
    "\n",
    "# импорт метрик\n",
    "from sklearn.metrics import r2_score\n",
    "\n",
    "# импорт утилит\n",
    "from sklearn.model_selection import train_test_split\n",
    "\n",
    "# импорт классов и пайплайнов\n",
    "from sklearn import set_config\n",
    "from scipy import stats as st"
   ]
  },
  {
   "cell_type": "code",
   "execution_count": 2,
   "id": "801cca31",
   "metadata": {},
   "outputs": [],
   "source": [
    "# установим общие параметры для тетради\n",
    "# оформление графиков\n",
    "sns.set()\n",
    "\n",
    "# вывод pipeline\n",
    "set_config(display='diagram')\n",
    "\n",
    "# отключаем предупреждения\n",
    "import warnings\n",
    "warnings.filterwarnings('ignore')"
   ]
  },
  {
   "cell_type": "markdown",
   "id": "09489101",
   "metadata": {},
   "source": [
    "### Загрузка данных"
   ]
  },
  {
   "cell_type": "code",
   "execution_count": 3,
   "id": "da11093a",
   "metadata": {},
   "outputs": [],
   "source": [
    "# читаем файл и сохраняем в переменные дальнейшей работы, в том числе изменений\n",
    "# используем оператор обработки исключений, чтобы избежать ошибки, при открытии данных,\n",
    "# расположенных по другому адресу \n",
    "try: \n",
    "    df = pd.read_csv('datasets/insurance.csv')\n",
    "except:\n",
    "    df = pd.read_csv('datasets/insurance.csv')\n",
    "    \n",
    "# создадим дополнительные переменные, для контроля изменений    \n",
    "try: \n",
    "    df_ctrl = pd.read_csv('datasets/insurance.csv')\n",
    "except:\n",
    "    df_ctrl = pd.read_csv('datasets/insurance.csv')"
   ]
  },
  {
   "cell_type": "code",
   "execution_count": 4,
   "id": "9aa41458",
   "metadata": {},
   "outputs": [
    {
     "data": {
      "text/html": [
       "<div>\n",
       "<style scoped>\n",
       "    .dataframe tbody tr th:only-of-type {\n",
       "        vertical-align: middle;\n",
       "    }\n",
       "\n",
       "    .dataframe tbody tr th {\n",
       "        vertical-align: top;\n",
       "    }\n",
       "\n",
       "    .dataframe thead th {\n",
       "        text-align: right;\n",
       "    }\n",
       "</style>\n",
       "<table border=\"1\" class=\"dataframe\">\n",
       "  <thead>\n",
       "    <tr style=\"text-align: right;\">\n",
       "      <th></th>\n",
       "      <th>Пол</th>\n",
       "      <th>Возраст</th>\n",
       "      <th>Зарплата</th>\n",
       "      <th>Члены семьи</th>\n",
       "      <th>Страховые выплаты</th>\n",
       "    </tr>\n",
       "  </thead>\n",
       "  <tbody>\n",
       "    <tr>\n",
       "      <th>1501</th>\n",
       "      <td>1</td>\n",
       "      <td>28.0</td>\n",
       "      <td>56100.0</td>\n",
       "      <td>0</td>\n",
       "      <td>0</td>\n",
       "    </tr>\n",
       "    <tr>\n",
       "      <th>2586</th>\n",
       "      <td>1</td>\n",
       "      <td>32.0</td>\n",
       "      <td>41900.0</td>\n",
       "      <td>2</td>\n",
       "      <td>0</td>\n",
       "    </tr>\n",
       "    <tr>\n",
       "      <th>2653</th>\n",
       "      <td>1</td>\n",
       "      <td>30.0</td>\n",
       "      <td>26300.0</td>\n",
       "      <td>0</td>\n",
       "      <td>0</td>\n",
       "    </tr>\n",
       "    <tr>\n",
       "      <th>1055</th>\n",
       "      <td>1</td>\n",
       "      <td>30.0</td>\n",
       "      <td>37300.0</td>\n",
       "      <td>2</td>\n",
       "      <td>0</td>\n",
       "    </tr>\n",
       "    <tr>\n",
       "      <th>705</th>\n",
       "      <td>0</td>\n",
       "      <td>44.0</td>\n",
       "      <td>30000.0</td>\n",
       "      <td>1</td>\n",
       "      <td>1</td>\n",
       "    </tr>\n",
       "  </tbody>\n",
       "</table>\n",
       "</div>"
      ],
      "text/plain": [
       "      Пол  Возраст  Зарплата  Члены семьи  Страховые выплаты\n",
       "1501    1     28.0   56100.0            0                  0\n",
       "2586    1     32.0   41900.0            2                  0\n",
       "2653    1     30.0   26300.0            0                  0\n",
       "1055    1     30.0   37300.0            2                  0\n",
       "705     0     44.0   30000.0            1                  1"
      ]
     },
     "execution_count": 4,
     "metadata": {},
     "output_type": "execute_result"
    }
   ],
   "source": [
    "# проверим работу данных\n",
    "df.sample(5, random_state=42)"
   ]
  },
  {
   "cell_type": "markdown",
   "id": "695bb355",
   "metadata": {},
   "source": [
    "**Итоги:**\n",
    "\n",
    "Данные загружены и функционируют надлежащим образом."
   ]
  },
  {
   "cell_type": "markdown",
   "id": "55ecf680",
   "metadata": {},
   "source": [
    "### Описание данных"
   ]
  },
  {
   "cell_type": "markdown",
   "id": "50faa276",
   "metadata": {},
   "source": [
    "Описание данных предоставлено заказчиком.\n",
    "- Признаки: пол, возраст и зарплата застрахованного, количество членов его семьи.\n",
    "- Целевой признак: количество страховых выплат клиенту за последние 5 лет."
   ]
  },
  {
   "cell_type": "code",
   "execution_count": 5,
   "id": "41e36a8c",
   "metadata": {},
   "outputs": [
    {
     "name": "stdout",
     "output_type": "stream",
     "text": [
      "<class 'pandas.core.frame.DataFrame'>\n",
      "RangeIndex: 5000 entries, 0 to 4999\n",
      "Data columns (total 5 columns):\n",
      " #   Column             Non-Null Count  Dtype  \n",
      "---  ------             --------------  -----  \n",
      " 0   Пол                5000 non-null   int64  \n",
      " 1   Возраст            5000 non-null   float64\n",
      " 2   Зарплата           5000 non-null   float64\n",
      " 3   Члены семьи        5000 non-null   int64  \n",
      " 4   Страховые выплаты  5000 non-null   int64  \n",
      "dtypes: float64(2), int64(3)\n",
      "memory usage: 195.4 KB\n"
     ]
    }
   ],
   "source": [
    "# изучим данные более внимательно\n",
    "df.info()"
   ]
  },
  {
   "cell_type": "markdown",
   "id": "344ef762",
   "metadata": {},
   "source": [
    "**Итоги:**\n",
    "1. Пропусков нет\n",
    "2. Тип данных соответстует содержанию. Можно поменять возраст на int, но это не критично в рамках текущего проекта.\n",
    "3. Наименования столбцов необходимо привести к единому стилю."
   ]
  },
  {
   "cell_type": "markdown",
   "id": "6c608972",
   "metadata": {},
   "source": [
    "## Предобработка данных"
   ]
  },
  {
   "cell_type": "markdown",
   "id": "995712b1",
   "metadata": {},
   "source": [
    "### Наименования столбцов"
   ]
  },
  {
   "cell_type": "code",
   "execution_count": 6,
   "id": "f82ee18e",
   "metadata": {},
   "outputs": [
    {
     "data": {
      "text/plain": [
       "Index(['Пол', 'Возраст', 'Зарплата', 'Члены семьи', 'Страховые выплаты'], dtype='object')"
      ]
     },
     "execution_count": 6,
     "metadata": {},
     "output_type": "execute_result"
    }
   ],
   "source": [
    "df.columns"
   ]
  },
  {
   "cell_type": "code",
   "execution_count": 7,
   "id": "d4e72f12",
   "metadata": {},
   "outputs": [
    {
     "data": {
      "text/plain": [
       "Index(['gender', 'age', 'income', 'family', 'payment'], dtype='object')"
      ]
     },
     "execution_count": 7,
     "metadata": {},
     "output_type": "execute_result"
    }
   ],
   "source": [
    "df.rename(columns = \n",
    "          {'Пол': 'gender', 'Возраст': 'age', \n",
    "           'Зарплата': 'income', 'Члены семьи': 'family', \n",
    "           'Страховые выплаты': 'payment'}, inplace=True)\n",
    "\n",
    "# проверим результат\n",
    "df.columns"
   ]
  },
  {
   "cell_type": "markdown",
   "id": "e0ce0c61",
   "metadata": {},
   "source": [
    "**Итоги:**\n",
    "\n",
    "Преобразование произведено надлежащим образом."
   ]
  },
  {
   "cell_type": "markdown",
   "id": "2811e2ce",
   "metadata": {},
   "source": [
    "### Явные дубликаты"
   ]
  },
  {
   "cell_type": "markdown",
   "id": "27ffb6d4",
   "metadata": {},
   "source": [
    "Проверим данные на явные дубликаты."
   ]
  },
  {
   "cell_type": "code",
   "execution_count": 8,
   "id": "88aeda41",
   "metadata": {},
   "outputs": [
    {
     "data": {
      "text/plain": [
       "153"
      ]
     },
     "execution_count": 8,
     "metadata": {},
     "output_type": "execute_result"
    }
   ],
   "source": [
    "df.duplicated().sum()"
   ]
  },
  {
   "cell_type": "code",
   "execution_count": 9,
   "id": "abe9473e",
   "metadata": {},
   "outputs": [
    {
     "data": {
      "text/plain": [
       "153"
      ]
     },
     "execution_count": 9,
     "metadata": {},
     "output_type": "execute_result"
    }
   ],
   "source": [
    "# проверим без учета целевого признака\n",
    "df.drop('payment', axis=1).duplicated().sum()"
   ]
  },
  {
   "cell_type": "markdown",
   "id": "a8cb3320",
   "metadata": {},
   "source": [
    "Полных дубликата: 153. Избавимся от дубликатов."
   ]
  },
  {
   "cell_type": "code",
   "execution_count": 10,
   "id": "1a58fac6",
   "metadata": {},
   "outputs": [],
   "source": [
    "df = df.drop_duplicates().reset_index(drop=True)"
   ]
  },
  {
   "cell_type": "code",
   "execution_count": 11,
   "id": "a3fc44ad",
   "metadata": {},
   "outputs": [
    {
     "data": {
      "text/plain": [
       "0"
      ]
     },
     "execution_count": 11,
     "metadata": {},
     "output_type": "execute_result"
    }
   ],
   "source": [
    "# проверим результат\n",
    "df.duplicated().sum()"
   ]
  },
  {
   "cell_type": "markdown",
   "id": "83f488b5",
   "metadata": {},
   "source": [
    "## Анализ признаков"
   ]
  },
  {
   "cell_type": "markdown",
   "id": "74c60693",
   "metadata": {},
   "source": [
    "### Выделение целевого признака"
   ]
  },
  {
   "cell_type": "code",
   "execution_count": 12,
   "id": "d4197745",
   "metadata": {
    "scrolled": true
   },
   "outputs": [
    {
     "data": {
      "text/plain": [
       "0    4284\n",
       "1     423\n",
       "2     114\n",
       "3      18\n",
       "4       7\n",
       "5       1\n",
       "Name: payment, dtype: int64"
      ]
     },
     "execution_count": 12,
     "metadata": {},
     "output_type": "execute_result"
    }
   ],
   "source": [
    "df['payment'].value_counts()"
   ]
  },
  {
   "cell_type": "code",
   "execution_count": 13,
   "id": "ca127263",
   "metadata": {},
   "outputs": [],
   "source": [
    "def target_spread(data, filter):\n",
    "    print(round(len(data.query('payment == @filter')) / len(data), 4))"
   ]
  },
  {
   "cell_type": "code",
   "execution_count": 14,
   "id": "fba03ed1",
   "metadata": {},
   "outputs": [
    {
     "name": "stdout",
     "output_type": "stream",
     "text": [
      "0.8838\n"
     ]
    }
   ],
   "source": [
    "target_spread(df, 0)"
   ]
  },
  {
   "cell_type": "markdown",
   "id": "1019c345",
   "metadata": {},
   "source": [
    "Есть только одно наблюдение с 5 элементами. Его будет невозможно представить в наборах. Кроме того, слишком мало, для формирования полноценного класса. Удалим его.\n",
    "\n",
    "Нулевой класс целевого признака представлен в 88% случаев."
   ]
  },
  {
   "cell_type": "code",
   "execution_count": 15,
   "id": "d1be0c1e",
   "metadata": {},
   "outputs": [],
   "source": [
    "df = df.query('payment != 5')"
   ]
  },
  {
   "cell_type": "code",
   "execution_count": 16,
   "id": "966a73b2",
   "metadata": {},
   "outputs": [],
   "source": [
    "features = df.columns.drop('payment')\n",
    "target = ['payment']"
   ]
  },
  {
   "cell_type": "code",
   "execution_count": 17,
   "id": "3cbd2dfa",
   "metadata": {},
   "outputs": [],
   "source": [
    "X = df[features]\n",
    "y = df[target]"
   ]
  },
  {
   "cell_type": "markdown",
   "id": "9f185340",
   "metadata": {},
   "source": [
    "### Описание признаков"
   ]
  },
  {
   "cell_type": "markdown",
   "id": "30e7b582",
   "metadata": {},
   "source": [
    "Изучим признаки подробнее."
   ]
  },
  {
   "cell_type": "code",
   "execution_count": 18,
   "id": "8ad5b83c",
   "metadata": {
    "scrolled": true
   },
   "outputs": [
    {
     "data": {
      "text/html": [
       "<div>\n",
       "<style scoped>\n",
       "    .dataframe tbody tr th:only-of-type {\n",
       "        vertical-align: middle;\n",
       "    }\n",
       "\n",
       "    .dataframe tbody tr th {\n",
       "        vertical-align: top;\n",
       "    }\n",
       "\n",
       "    .dataframe thead th {\n",
       "        text-align: right;\n",
       "    }\n",
       "</style>\n",
       "<table border=\"1\" class=\"dataframe\">\n",
       "  <thead>\n",
       "    <tr style=\"text-align: right;\">\n",
       "      <th></th>\n",
       "      <th>gender</th>\n",
       "      <th>age</th>\n",
       "      <th>income</th>\n",
       "      <th>family</th>\n",
       "      <th>payment</th>\n",
       "    </tr>\n",
       "  </thead>\n",
       "  <tbody>\n",
       "    <tr>\n",
       "      <th>count</th>\n",
       "      <td>4846.000000</td>\n",
       "      <td>4846.000000</td>\n",
       "      <td>4846.000000</td>\n",
       "      <td>4846.000000</td>\n",
       "      <td>4846.000000</td>\n",
       "    </tr>\n",
       "    <tr>\n",
       "      <th>mean</th>\n",
       "      <td>0.498349</td>\n",
       "      <td>31.016921</td>\n",
       "      <td>39895.852249</td>\n",
       "      <td>1.203467</td>\n",
       "      <td>0.151259</td>\n",
       "    </tr>\n",
       "    <tr>\n",
       "      <th>std</th>\n",
       "      <td>0.500049</td>\n",
       "      <td>8.474823</td>\n",
       "      <td>9973.982735</td>\n",
       "      <td>1.098773</td>\n",
       "      <td>0.463782</td>\n",
       "    </tr>\n",
       "    <tr>\n",
       "      <th>min</th>\n",
       "      <td>0.000000</td>\n",
       "      <td>18.000000</td>\n",
       "      <td>5300.000000</td>\n",
       "      <td>0.000000</td>\n",
       "      <td>0.000000</td>\n",
       "    </tr>\n",
       "    <tr>\n",
       "      <th>25%</th>\n",
       "      <td>0.000000</td>\n",
       "      <td>24.000000</td>\n",
       "      <td>33200.000000</td>\n",
       "      <td>0.000000</td>\n",
       "      <td>0.000000</td>\n",
       "    </tr>\n",
       "    <tr>\n",
       "      <th>50%</th>\n",
       "      <td>0.000000</td>\n",
       "      <td>30.000000</td>\n",
       "      <td>40200.000000</td>\n",
       "      <td>1.000000</td>\n",
       "      <td>0.000000</td>\n",
       "    </tr>\n",
       "    <tr>\n",
       "      <th>75%</th>\n",
       "      <td>1.000000</td>\n",
       "      <td>37.000000</td>\n",
       "      <td>46600.000000</td>\n",
       "      <td>2.000000</td>\n",
       "      <td>0.000000</td>\n",
       "    </tr>\n",
       "    <tr>\n",
       "      <th>max</th>\n",
       "      <td>1.000000</td>\n",
       "      <td>62.000000</td>\n",
       "      <td>79000.000000</td>\n",
       "      <td>6.000000</td>\n",
       "      <td>4.000000</td>\n",
       "    </tr>\n",
       "  </tbody>\n",
       "</table>\n",
       "</div>"
      ],
      "text/plain": [
       "            gender          age        income       family      payment\n",
       "count  4846.000000  4846.000000   4846.000000  4846.000000  4846.000000\n",
       "mean      0.498349    31.016921  39895.852249     1.203467     0.151259\n",
       "std       0.500049     8.474823   9973.982735     1.098773     0.463782\n",
       "min       0.000000    18.000000   5300.000000     0.000000     0.000000\n",
       "25%       0.000000    24.000000  33200.000000     0.000000     0.000000\n",
       "50%       0.000000    30.000000  40200.000000     1.000000     0.000000\n",
       "75%       1.000000    37.000000  46600.000000     2.000000     0.000000\n",
       "max       1.000000    62.000000  79000.000000     6.000000     4.000000"
      ]
     },
     "execution_count": 18,
     "metadata": {},
     "output_type": "execute_result"
    }
   ],
   "source": [
    "df.describe()"
   ]
  },
  {
   "cell_type": "markdown",
   "id": "c4fcdf5b",
   "metadata": {},
   "source": [
    "Значения выглядят нормальными."
   ]
  },
  {
   "cell_type": "code",
   "execution_count": 19,
   "id": "b68f984f",
   "metadata": {},
   "outputs": [],
   "source": [
    "def visualisator(data, target):\n",
    "    # визуализируем распределение\n",
    "    print('\\033[1m' + 'РАСПРЕДЕЛЕНИЕ ПРИЗНАКОВ' + '\\033[0m')\n",
    "    data.hist(\n",
    "        bins=50, figsize=(20,15), \n",
    "        color='r', edgecolor='black', \n",
    "        linewidth=1\n",
    "    )\n",
    "    plt.show()\n",
    "    print()\n",
    "    \n",
    "    # нарисуем heatmap корреляции по коэффициенту Пирсона\n",
    "    plt.figure(figsize = (15,15))\n",
    "    plt.title(f'Корреляция признаков', fontsize=18)\n",
    "    sns.heatmap(\n",
    "        data.corr(), square=True, \n",
    "        annot=True, linewidths=1, \n",
    "        fmt='.3f', linecolor='gray',\n",
    "        vmin=-1, vmax=1,\n",
    "        cmap='seismic'\n",
    "    )\n",
    "    plt.show()    \n",
    "    \n",
    "    # посчитаем коллеряцию Спирмена\n",
    "    for column in data.drop(target, axis=1):\n",
    "        print(f'Корреляция Спирмена для столбца {column}')\n",
    "        print(st.spearmanr(np.array(data[column]), np.array(data[target]), nan_policy='omit'))\n",
    "        print('='*45)\n",
    "        print()    "
   ]
  },
  {
   "cell_type": "code",
   "execution_count": 20,
   "id": "2ea84ea5",
   "metadata": {
    "scrolled": false
   },
   "outputs": [
    {
     "name": "stdout",
     "output_type": "stream",
     "text": [
      "\u001b[1mРАСПРЕДЕЛЕНИЕ ПРИЗНАКОВ\u001b[0m\n"
     ]
    },
    {
     "data": {
      "image/png": "[encoded data removed]",
      "text/plain": [
       "<Figure size 1440x1080 with 6 Axes>"
      ]
     },
     "metadata": {},
     "output_type": "display_data"
    },
    {
     "name": "stdout",
     "output_type": "stream",
     "text": [
      "\n"
     ]
    },
    {
     "data": {
      "image/png": "[encoded data removed]",
      "text/plain": [
       "<Figure size 1080x1080 with 2 Axes>"
      ]
     },
     "metadata": {},
     "output_type": "display_data"
    },
    {
     "name": "stdout",
     "output_type": "stream",
     "text": [
      "Корреляция Спирмена для столбца gender\n",
      "SpearmanrResult(correlation=0.00031978714940939396, pvalue=0.9822440103748405)\n",
      "=============================================\n",
      "\n",
      "Корреляция Спирмена для столбца age\n",
      "SpearmanrResult(correlation=0.5552696437504335, pvalue=0.0)\n",
      "=============================================\n",
      "\n",
      "Корреляция Спирмена для столбца income\n",
      "SpearmanrResult(correlation=-0.0038371754838699705, pvalue=0.7894305075625788)\n",
      "=============================================\n",
      "\n",
      "Корреляция Спирмена для столбца family\n",
      "SpearmanrResult(correlation=-0.03219155099658929, pvalue=0.025028661092996684)\n",
      "=============================================\n",
      "\n"
     ]
    }
   ],
   "source": [
    "visualisator(df, target)"
   ]
  },
  {
   "cell_type": "markdown",
   "id": "a7a881b8",
   "metadata": {},
   "source": [
    "**Итоги:**\n",
    "\n",
    "Данные больше ненормальные, поэтому будем ориентироваться на корреляцию Спирмена. \n",
    "\n",
    "1. Распределения выглядят реальными;\n",
    "2. Пол представлен равномерно, что выглядит странным - вряд ли такая пропорция сохранится в реальных данных;\n",
    "3. У признака age есть странные провалы;\n",
    "4. Оба метода показали наивысшую корреляцию целевого признака с возрастом клиента;\n",
    "5. Остальные признаки оказывают крайне малое влияние на целевой признак."
   ]
  },
  {
   "cell_type": "markdown",
   "id": "69de8922",
   "metadata": {},
   "source": [
    "## Умножение матриц"
   ]
  },
  {
   "cell_type": "markdown",
   "id": "2e04f670",
   "metadata": {},
   "source": [
    "Для шифровки персональных данных мы планируем использовать умножение матриц. Но нам нужно проверить, изменится ли при этом качество линейной регрессии? "
   ]
  },
  {
   "cell_type": "markdown",
   "id": "56c731d6",
   "metadata": {},
   "source": [
    "При доказательстве используем следующие обозначения:\n",
    "- $X$ — матрица признаков (нулевой столбец состоит из единиц)\n",
    "- $y$ — вектор целевого признака\n",
    "- $P$ — матрица, на которую умножаются признаки\n",
    "- $w$ — вектор весов линейной регрессии (нулевой элемент равен сдвигу)"
   ]
  },
  {
   "cell_type": "markdown",
   "id": "96a19d3f",
   "metadata": {},
   "source": [
    "Для линейной регрессии задачей обучения выступает:\n",
    "$w$ = $argmin_{w}$ $MSE$$(Xw,y)$"
   ]
  },
  {
   "cell_type": "markdown",
   "id": "5e7bae50",
   "metadata": {},
   "source": [
    "А вектором предсказания выступит (при условии нулевого столбца, значение которого равно 1): $a = Xw$"
   ]
  },
  {
   "cell_type": "markdown",
   "id": "6aecb8c7",
   "metadata": {},
   "source": [
    "Задачей обучения линейной регрессии выступает следующая формула: $w = (X^{T}X)^{-1}X^{T}y$"
   ]
  },
  {
   "cell_type": "markdown",
   "id": "be04bfbf",
   "metadata": {},
   "source": [
    "Именно таким образом мы получим минимальное значение $w$."
   ]
  },
  {
   "cell_type": "markdown",
   "id": "b6f60fd7",
   "metadata": {},
   "source": [
    "Фактчески, для целей шифрования, нам необходимо доказать, что $a_1 = a_2$, где $a_1$ - предсказание до преобразования, а $a_2$ - предсказание после преобразования."
   ]
  },
  {
   "cell_type": "markdown",
   "id": "5e1b1156",
   "metadata": {},
   "source": [
    "То есть $Xw_1 = PXw_2$, где $w_1$ вектор весов до преобразования, а $w_2$ вектор весов после преобразования."
   ]
  },
  {
   "cell_type": "markdown",
   "id": "63f9a930",
   "metadata": {},
   "source": [
    "Для доказательства, будем опираться на следующие свойства матриц:\n",
    "- ($A(BC) = (AB)C$) это свойство ассоциативности (сочетательности) матриц;\n",
    "- $(P^T)^{-1} = (P^{-1})^T$ транспонированная обратная матрица есть обратная матрица транспонированная;\n",
    "- $(AB)^T = B^T A^T$ транспонированное произведение матриц равно произведению транспонированных матриц; \n",
    "- $(AB)^{-1} = B^{-1} A^{-1}$ обратная матрица от произведения двух матриц равна обратной матрицы B(второй) к обратной матрице А(первой);\n",
    "- $P P^{-1} = E$ умножение матрицы на свою обратную - есть единичная матрица;\n",
    "- При этом $ (X^T X)^{-1}$ - не подлежит раскрытию, так как для неквадратных матриц ($X$ и $X^T$) обратных матриц не существует."
   ]
  },
  {
   "cell_type": "markdown",
   "id": "479b0be5",
   "metadata": {},
   "source": [
    "### Доказательство равенства целевого признака"
   ]
  },
  {
   "cell_type": "markdown",
   "id": "52178a15",
   "metadata": {},
   "source": [
    "Докажем от обратного. Допустим, что $a_1 \\ne a_2$, при условии, что $y_1$ = $y_2$ = $y$. "
   ]
  },
  {
   "cell_type": "markdown",
   "id": "fffa0e0c",
   "metadata": {},
   "source": [
    "Следовательно: $Xw_1 \\ne PXw_2$"
   ]
  },
  {
   "cell_type": "markdown",
   "id": "11b67b71",
   "metadata": {},
   "source": [
    "Подставив формулу обучения линейной регрессии, полуим следующее неравенство:"
   ]
  },
  {
   "cell_type": "markdown",
   "id": "3625c424",
   "metadata": {},
   "source": [
    "$X((X^{T}X)^{-1}X^{T}y$) $\\ne$ $(PX((PX)^{T}PX)^{-1}(PX)^{T}y)$"
   ]
  },
  {
   "cell_type": "markdown",
   "id": "ad10a36b",
   "metadata": {},
   "source": [
    "При этом, мы постулируем, что $X$ и $PX$ обратимые матрицы, для которых можно найти обратные. Следовательно, раскрывая скобки:"
   ]
  },
  {
   "cell_type": "markdown",
   "id": "466dad0f",
   "metadata": {},
   "source": [
    "$X(X^{T}X)^{-1}X^{T}y$ $\\ne$ $PX(P^{T}X^{T}PX)^{-1}P^{T}X^{T}y$  $==>$"
   ]
  },
  {
   "cell_type": "markdown",
   "id": "eee8ebfa",
   "metadata": {},
   "source": [
    "$(X^{T}X)^{-1}X^{T}Xy$ $\\ne$ $(P^{T}X^{T}PX)^{-1}P^{T}X^{T}PXy$ "
   ]
  },
  {
   "cell_type": "markdown",
   "id": "c0e285b4",
   "metadata": {},
   "source": [
    "Отсюда, по свойству обратных матриц: $X*X^{-1}$ = $X^{-1}*X$ = $E$, где $X^{-1}$ - обратная матрица (матрица с верхним индексом -1), а $E$ - единичная матрица. Следовательно:\n",
    "- $(X^{T}X)^{-1} * X^{T}Xy = Ey$\n",
    "- $(P^{T}X^{T}PX)^{-1}P^{T}X^{T}PXy = Ey$"
   ]
  },
  {
   "cell_type": "markdown",
   "id": "aafc16b0",
   "metadata": {},
   "source": [
    "$Ey \\ne Ey$"
   ]
  },
  {
   "cell_type": "markdown",
   "id": "acf16545",
   "metadata": {},
   "source": [
    "$y \\ne y$"
   ]
  },
  {
   "cell_type": "markdown",
   "id": "04523218",
   "metadata": {},
   "source": [
    "Что противоречит здравому смыслу. А значит вектор целевых признаков перемноженных матриц равен"
   ]
  },
  {
   "cell_type": "markdown",
   "id": "dae6e737",
   "metadata": {},
   "source": [
    "$y \\ne y$"
   ]
  },
  {
   "cell_type": "markdown",
   "id": "7be01dd3",
   "metadata": {},
   "source": [
    "Что противоречит здравому смыслу. А значит вектор целевых признаков перемноженных матриц равен"
   ]
  },
  {
   "cell_type": "markdown",
   "id": "d514ea50",
   "metadata": {},
   "source": [
    "### Доказательство равенства предсказаний"
   ]
  },
  {
   "cell_type": "markdown",
   "id": "f21a25af",
   "metadata": {},
   "source": [
    "Докажем, что $a_1 = a_2$, где $a_1$ - предсказание до преобразования, а $a_2$ - предсказание после преобразования."
   ]
  },
  {
   "cell_type": "markdown",
   "id": "0282f64b",
   "metadata": {},
   "source": [
    "При этом: \n",
    "- $a_1 = X_1w_1$, \n",
    "- $a_2=X_2w_2$"
   ]
  },
  {
   "cell_type": "markdown",
   "id": "aeaafdc4",
   "metadata": {},
   "source": [
    "Пусть новая матрица $X_2 = PX_1$"
   ]
  },
  {
   "cell_type": "markdown",
   "id": "afbeb055",
   "metadata": {},
   "source": [
    "Тогда $w_2 = (X_2^{T}X_2)^{-1}X_2^{T}y = ((PX_1)^{T}PX_1)^{-1}(PX_1)^{T}y = (P^{T}X_1^{T}PX_1)^{-1}P^{T}X_1^{T}y$ $==>$"
   ]
  },
  {
   "cell_type": "markdown",
   "id": "07a0b4df",
   "metadata": {},
   "source": [
    "$w_2$ = $(P)^{-1}(X_1^{T}X_1)^{-1}(P^{T})^{-1}P^{T}X_1^{T}y$ $==>$ $(P^{-1})(X_1^{T}X_1)^{-1}EX_1^{T}y$ $==>$ $P^{-1}Ew_1$ $==>$ $P^{-1}w_1E$ $==>$ $P^{-1}w_1$"
   ]
  },
  {
   "cell_type": "markdown",
   "id": "00a6c127",
   "metadata": {},
   "source": [
    "$w_2 = P^{-1}w_1$"
   ]
  },
  {
   "cell_type": "markdown",
   "id": "6d50bb88",
   "metadata": {},
   "source": [
    "Подставим полученное выражение в формулу вектора предсказания:"
   ]
  },
  {
   "cell_type": "markdown",
   "id": "d722dad9",
   "metadata": {},
   "source": [
    "$a_2 = X_2w_2 = X_2P^{-1}w_1$ $==>$, так как $X_2 = PX_1$ $==>$ $a_2 = PX_1P^{-1}w_1$ = $X_1Ew_1$ = $X_1w_1$"
   ]
  },
  {
   "cell_type": "markdown",
   "id": "e912e490",
   "metadata": {},
   "source": [
    "$a_2 = X_1w_1$\n",
    "\n",
    "Следовательно, так как $a_1 = X_1w_1$ $==>$ $a_2 = a_1$"
   ]
  },
  {
   "cell_type": "markdown",
   "id": "cd106ac8",
   "metadata": {},
   "source": [
    "Таким образом, мы доказали равенство предсказаний при преобразовании, в виде умножения матрицы признаков на случайную матрицу."
   ]
  },
  {
   "cell_type": "markdown",
   "id": "225db385",
   "metadata": {},
   "source": [
    "Что противоречит здравому смыслу. А значит вектор целевых признаков перемноженных матриц равен"
   ]
  },
  {
   "cell_type": "markdown",
   "id": "3318be37",
   "metadata": {},
   "source": [
    "### Выводы"
   ]
  },
  {
   "cell_type": "markdown",
   "id": "ed15d19f",
   "metadata": {},
   "source": [
    "При перемножении матрицы признаков на случайную матрицу, векторы признаков и качество предсказаний новой матрицы и старой не отличаются."
   ]
  },
  {
   "cell_type": "markdown",
   "id": "64985bc2",
   "metadata": {},
   "source": [
    "## Модель"
   ]
  },
  {
   "cell_type": "markdown",
   "id": "7419bf89",
   "metadata": {},
   "source": [
    "Так как подбирать лучшую модель не требуется, а только обеспечить равенство предсказаний, подготовим и проверим наши доказательства на линейной регрессии без настроек. После чего проверим ее эффективность на r2_score."
   ]
  },
  {
   "cell_type": "markdown",
   "id": "5b66395b",
   "metadata": {},
   "source": [
    "### Алгоритм шифрования"
   ]
  },
  {
   "cell_type": "markdown",
   "id": "2084c5be",
   "metadata": {},
   "source": [
    "Для того, чтобы обеспечить автоматизацию процесса, а также возможность включения в пайплайны, напишем класс, производящий следующие манипуляции с массивом:\n",
    "1. Алгоритм создает случайную матрицу;\n",
    "2. Алгоритм умножает данные на случайную матрицу;\n",
    "3. Алгоритм возвращает две матрицы: измененную и случайную - в качестве ключа для дешифровки данных."
   ]
  },
  {
   "cell_type": "code",
   "execution_count": 21,
   "id": "29ae9898",
   "metadata": {},
   "outputs": [],
   "source": [
    "class Cryptoslave():\n",
    "    '''\n",
    "    Класс шифрования, используется для визуального искажения данных, \n",
    "    путем перемножения матрицы признаков на случайную квадратную матрицу,\n",
    "    ширина которой задается в методе transform - параметром number.\n",
    "    При этом измененные данные сохраняют свой вектор предсказания.\n",
    "    \n",
    "    Импортирует библиотек numpy для генерации матрицы.\n",
    "    \n",
    "    Содержит следующие методы:\n",
    "    transform - шифрует данные, переданные в параметр Х, с использованием \n",
    "    квадратной матрицы со стороной, равной number (количество признаков в Х);\n",
    "    при Key=True (значение по умолчанию) возвращает случайную матрицу-ключ.\n",
    "    \n",
    "    decrypto - расшифровыает данные, используя зашифрованную матрицу методом\n",
    "    transform и квадратную матрицу-ключ, сгенерированную методом transform.\n",
    "    Метод принимает зашифрованные данные, матрицу-ключ и список колонок, для создания удобного\n",
    "    дата-фрейма на выходе.\n",
    "    \n",
    "    getkey - метод, возвращающий матрицу-ключ, использованную методом transform \n",
    "    для шифровки.\n",
    "    '''\n",
    "    import numpy as np\n",
    "    \n",
    "    def __init__(self):\n",
    "        pass\n",
    "          \n",
    "    def transform(self, X, number, key=True):\n",
    "        self.key_matrix = np.random.rand(number,number)\n",
    "        self.X_crypto = X @ self.key_matrix\n",
    "        if key == False:\n",
    "            return self.X_crypto\n",
    "        else:\n",
    "            return self.X_crypto, self.key_matrix\n",
    "    \n",
    "    def decrypto(self, X_crypto, key, columns):\n",
    "        X_decrypto = round(X_crypto.dot(np.linalg.inv(key))).astype('int')\n",
    "        X_decrypto.columns = columns\n",
    "        return X_decrypto       \n",
    "    \n",
    "    def getkey(self):\n",
    "        return self.key_matrix"
   ]
  },
  {
   "cell_type": "markdown",
   "id": "b0076b93",
   "metadata": {},
   "source": [
    "Проверим работу класса. Зашифруем."
   ]
  },
  {
   "cell_type": "code",
   "execution_count": 22,
   "id": "fd6c901e",
   "metadata": {},
   "outputs": [],
   "source": [
    "crypto = Cryptoslave()"
   ]
  },
  {
   "cell_type": "code",
   "execution_count": 23,
   "id": "c9341dea",
   "metadata": {},
   "outputs": [],
   "source": [
    "# зашифруем данные и получим матрицу-ключ для их дешифровки\n",
    "X_crypto, key_matrix = crypto.transform(X, 4, key=True)"
   ]
  },
  {
   "cell_type": "code",
   "execution_count": 24,
   "id": "39391da2",
   "metadata": {},
   "outputs": [
    {
     "data": {
      "text/html": [
       "<div>\n",
       "<style scoped>\n",
       "    .dataframe tbody tr th:only-of-type {\n",
       "        vertical-align: middle;\n",
       "    }\n",
       "\n",
       "    .dataframe tbody tr th {\n",
       "        vertical-align: top;\n",
       "    }\n",
       "\n",
       "    .dataframe thead th {\n",
       "        text-align: right;\n",
       "    }\n",
       "</style>\n",
       "<table border=\"1\" class=\"dataframe\">\n",
       "  <thead>\n",
       "    <tr style=\"text-align: right;\">\n",
       "      <th></th>\n",
       "      <th>0</th>\n",
       "      <th>1</th>\n",
       "      <th>2</th>\n",
       "      <th>3</th>\n",
       "    </tr>\n",
       "  </thead>\n",
       "  <tbody>\n",
       "    <tr>\n",
       "      <th>3208</th>\n",
       "      <td>8224.679895</td>\n",
       "      <td>24689.768550</td>\n",
       "      <td>48115.677123</td>\n",
       "      <td>12961.590314</td>\n",
       "    </tr>\n",
       "    <tr>\n",
       "      <th>1685</th>\n",
       "      <td>9694.773230</td>\n",
       "      <td>29102.285399</td>\n",
       "      <td>56716.488967</td>\n",
       "      <td>15280.982784</td>\n",
       "    </tr>\n",
       "    <tr>\n",
       "      <th>1045</th>\n",
       "      <td>2174.507066</td>\n",
       "      <td>6525.667034</td>\n",
       "      <td>12721.680782</td>\n",
       "      <td>3434.512603</td>\n",
       "    </tr>\n",
       "    <tr>\n",
       "      <th>4146</th>\n",
       "      <td>5802.411067</td>\n",
       "      <td>17415.307025</td>\n",
       "      <td>33940.395800</td>\n",
       "      <td>9148.167903</td>\n",
       "    </tr>\n",
       "    <tr>\n",
       "      <th>1539</th>\n",
       "      <td>9366.156175</td>\n",
       "      <td>28116.279924</td>\n",
       "      <td>54794.002647</td>\n",
       "      <td>14761.401733</td>\n",
       "    </tr>\n",
       "  </tbody>\n",
       "</table>\n",
       "</div>"
      ],
      "text/plain": [
       "                0             1             2             3\n",
       "3208  8224.679895  24689.768550  48115.677123  12961.590314\n",
       "1685  9694.773230  29102.285399  56716.488967  15280.982784\n",
       "1045  2174.507066   6525.667034  12721.680782   3434.512603\n",
       "4146  5802.411067  17415.307025  33940.395800   9148.167903\n",
       "1539  9366.156175  28116.279924  54794.002647  14761.401733"
      ]
     },
     "execution_count": 24,
     "metadata": {},
     "output_type": "execute_result"
    }
   ],
   "source": [
    "X_crypto.sample(5, random_state=42)"
   ]
  },
  {
   "cell_type": "code",
   "execution_count": 25,
   "id": "6c607770",
   "metadata": {},
   "outputs": [
    {
     "data": {
      "text/plain": [
       "array([[0.44356636, 0.99970282, 0.81442465, 0.45995926],\n",
       "       [0.0964874 , 0.11583347, 0.51692696, 0.71324564],\n",
       "       [0.15630053, 0.46930578, 0.91448505, 0.24606098],\n",
       "       [0.41644969, 0.38889659, 0.025715  , 0.49140728]])"
      ]
     },
     "execution_count": 25,
     "metadata": {},
     "output_type": "execute_result"
    }
   ],
   "source": [
    "key_matrix"
   ]
  },
  {
   "cell_type": "markdown",
   "id": "b2cca21d",
   "metadata": {},
   "source": [
    "Дешифруем."
   ]
  },
  {
   "cell_type": "code",
   "execution_count": 26,
   "id": "b94202d8",
   "metadata": {},
   "outputs": [],
   "source": [
    "X_decrypto = crypto.decrypto(X_crypto, key_matrix, ['gender', 'age', 'income', 'family'])"
   ]
  },
  {
   "cell_type": "code",
   "execution_count": 27,
   "id": "7f121272",
   "metadata": {},
   "outputs": [
    {
     "data": {
      "text/html": [
       "<div>\n",
       "<style scoped>\n",
       "    .dataframe tbody tr th:only-of-type {\n",
       "        vertical-align: middle;\n",
       "    }\n",
       "\n",
       "    .dataframe tbody tr th {\n",
       "        vertical-align: top;\n",
       "    }\n",
       "\n",
       "    .dataframe thead th {\n",
       "        text-align: right;\n",
       "    }\n",
       "</style>\n",
       "<table border=\"1\" class=\"dataframe\">\n",
       "  <thead>\n",
       "    <tr style=\"text-align: right;\">\n",
       "      <th></th>\n",
       "      <th>gender</th>\n",
       "      <th>age</th>\n",
       "      <th>income</th>\n",
       "      <th>family</th>\n",
       "    </tr>\n",
       "  </thead>\n",
       "  <tbody>\n",
       "    <tr>\n",
       "      <th>0</th>\n",
       "      <td>1</td>\n",
       "      <td>41</td>\n",
       "      <td>49600</td>\n",
       "      <td>1</td>\n",
       "    </tr>\n",
       "    <tr>\n",
       "      <th>1</th>\n",
       "      <td>0</td>\n",
       "      <td>46</td>\n",
       "      <td>38000</td>\n",
       "      <td>1</td>\n",
       "    </tr>\n",
       "    <tr>\n",
       "      <th>2</th>\n",
       "      <td>0</td>\n",
       "      <td>29</td>\n",
       "      <td>21000</td>\n",
       "      <td>0</td>\n",
       "    </tr>\n",
       "    <tr>\n",
       "      <th>3</th>\n",
       "      <td>0</td>\n",
       "      <td>21</td>\n",
       "      <td>41700</td>\n",
       "      <td>2</td>\n",
       "    </tr>\n",
       "    <tr>\n",
       "      <th>4</th>\n",
       "      <td>1</td>\n",
       "      <td>28</td>\n",
       "      <td>26100</td>\n",
       "      <td>0</td>\n",
       "    </tr>\n",
       "  </tbody>\n",
       "</table>\n",
       "</div>"
      ],
      "text/plain": [
       "   gender  age  income  family\n",
       "0       1   41   49600       1\n",
       "1       0   46   38000       1\n",
       "2       0   29   21000       0\n",
       "3       0   21   41700       2\n",
       "4       1   28   26100       0"
      ]
     },
     "execution_count": 27,
     "metadata": {},
     "output_type": "execute_result"
    }
   ],
   "source": [
    "X_decrypto.head()"
   ]
  },
  {
   "cell_type": "markdown",
   "id": "4d424920",
   "metadata": {},
   "source": [
    "Сравним с оригинальным набором."
   ]
  },
  {
   "cell_type": "code",
   "execution_count": 28,
   "id": "1b19e9e0",
   "metadata": {},
   "outputs": [
    {
     "data": {
      "text/html": [
       "<div>\n",
       "<style scoped>\n",
       "    .dataframe tbody tr th:only-of-type {\n",
       "        vertical-align: middle;\n",
       "    }\n",
       "\n",
       "    .dataframe tbody tr th {\n",
       "        vertical-align: top;\n",
       "    }\n",
       "\n",
       "    .dataframe thead th {\n",
       "        text-align: right;\n",
       "    }\n",
       "</style>\n",
       "<table border=\"1\" class=\"dataframe\">\n",
       "  <thead>\n",
       "    <tr style=\"text-align: right;\">\n",
       "      <th></th>\n",
       "      <th>gender</th>\n",
       "      <th>age</th>\n",
       "      <th>income</th>\n",
       "      <th>family</th>\n",
       "    </tr>\n",
       "  </thead>\n",
       "  <tbody>\n",
       "    <tr>\n",
       "      <th>0</th>\n",
       "      <td>1</td>\n",
       "      <td>41.0</td>\n",
       "      <td>49600.0</td>\n",
       "      <td>1</td>\n",
       "    </tr>\n",
       "    <tr>\n",
       "      <th>1</th>\n",
       "      <td>0</td>\n",
       "      <td>46.0</td>\n",
       "      <td>38000.0</td>\n",
       "      <td>1</td>\n",
       "    </tr>\n",
       "    <tr>\n",
       "      <th>2</th>\n",
       "      <td>0</td>\n",
       "      <td>29.0</td>\n",
       "      <td>21000.0</td>\n",
       "      <td>0</td>\n",
       "    </tr>\n",
       "    <tr>\n",
       "      <th>3</th>\n",
       "      <td>0</td>\n",
       "      <td>21.0</td>\n",
       "      <td>41700.0</td>\n",
       "      <td>2</td>\n",
       "    </tr>\n",
       "    <tr>\n",
       "      <th>4</th>\n",
       "      <td>1</td>\n",
       "      <td>28.0</td>\n",
       "      <td>26100.0</td>\n",
       "      <td>0</td>\n",
       "    </tr>\n",
       "  </tbody>\n",
       "</table>\n",
       "</div>"
      ],
      "text/plain": [
       "   gender   age   income  family\n",
       "0       1  41.0  49600.0       1\n",
       "1       0  46.0  38000.0       1\n",
       "2       0  29.0  21000.0       0\n",
       "3       0  21.0  41700.0       2\n",
       "4       1  28.0  26100.0       0"
      ]
     },
     "execution_count": 28,
     "metadata": {},
     "output_type": "execute_result"
    }
   ],
   "source": [
    "X.head()"
   ]
  },
  {
   "cell_type": "markdown",
   "id": "8c52bcf3",
   "metadata": {},
   "source": [
    "**Итоги:**\n",
    "\n",
    "Написанный класс функционирует заданным образом и может быть использован для автоматизации процесса."
   ]
  },
  {
   "cell_type": "markdown",
   "id": "8baa43d9",
   "metadata": {},
   "source": [
    "### Первичная проверка"
   ]
  },
  {
   "cell_type": "markdown",
   "id": "79d57d6f",
   "metadata": {},
   "source": [
    "Сперва проверим математическое доказательство, обучив модель на всем датасете."
   ]
  },
  {
   "cell_type": "code",
   "execution_count": 29,
   "id": "d95cae58",
   "metadata": {},
   "outputs": [],
   "source": [
    "def ml_slave_dummy(X, y):\n",
    "    lr_model = LinearRegression()\n",
    "    lr_model.fit(X, y)\n",
    "    pred = lr_model.predict(X)\n",
    "    result = round(r2_score(y, pred), 4)\n",
    "    print(f'Коэффициент детерминации: {result}')"
   ]
  },
  {
   "cell_type": "code",
   "execution_count": 30,
   "id": "c79c0a8e",
   "metadata": {},
   "outputs": [
    {
     "name": "stdout",
     "output_type": "stream",
     "text": [
      "Коэффициент детерминации: 0.4299\n"
     ]
    }
   ],
   "source": [
    "ml_slave_dummy(X, y)"
   ]
  },
  {
   "cell_type": "markdown",
   "id": "b826bea0",
   "metadata": {},
   "source": [
    "Используем алгоритм шифрования для простой проверки."
   ]
  },
  {
   "cell_type": "code",
   "execution_count": 31,
   "id": "0a9e7002",
   "metadata": {},
   "outputs": [],
   "source": [
    "crypto = Cryptoslave()"
   ]
  },
  {
   "cell_type": "code",
   "execution_count": 32,
   "id": "0bef04e5",
   "metadata": {},
   "outputs": [],
   "source": [
    "X_crypto = crypto.transform(X, 4, key=False)"
   ]
  },
  {
   "cell_type": "code",
   "execution_count": 33,
   "id": "a8c16599",
   "metadata": {},
   "outputs": [
    {
     "name": "stdout",
     "output_type": "stream",
     "text": [
      "Коэффициент детерминации: 0.4299\n"
     ]
    }
   ],
   "source": [
    "ml_slave_dummy(X_crypto, y)"
   ]
  },
  {
   "cell_type": "markdown",
   "id": "a91bdf86",
   "metadata": {},
   "source": [
    "**Итоги:**\n",
    "\n",
    "Проверка на модели подтвердила математические доказательства. Коэффициент детерминации не изменился."
   ]
  },
  {
   "cell_type": "markdown",
   "id": "198508d0",
   "metadata": {},
   "source": [
    "### Проверка алгоритма на тесовом наборе"
   ]
  },
  {
   "cell_type": "markdown",
   "id": "606265ee",
   "metadata": {},
   "source": [
    "Обучим алгоритм на учебном наборе, после чего проверим на тестовом. Повторим процедуру для обычных данных и для зашифрованных. И сравним результаты."
   ]
  },
  {
   "cell_type": "code",
   "execution_count": 34,
   "id": "173877f8",
   "metadata": {},
   "outputs": [],
   "source": [
    "def ml_slave(X, y):\n",
    "    X_train, X_test, y_train, y_test = train_test_split(\n",
    "    X, y, test_size=0.25, random_state=42)\n",
    "    \n",
    "    lr_model = LinearRegression()\n",
    "    lr_model.fit(X_train, y_train)\n",
    "    \n",
    "    pred = lr_model.predict(X_test)\n",
    "    result = round(r2_score(y_test, pred), 4)\n",
    "    print(f'Коэффициент детерминации: {result}')"
   ]
  },
  {
   "cell_type": "code",
   "execution_count": 35,
   "id": "b54deaff",
   "metadata": {},
   "outputs": [
    {
     "name": "stdout",
     "output_type": "stream",
     "text": [
      "Коэффициент детерминации: 0.4234\n"
     ]
    }
   ],
   "source": [
    " ml_slave(X, y)"
   ]
  },
  {
   "cell_type": "code",
   "execution_count": 36,
   "id": "77093c7f",
   "metadata": {},
   "outputs": [],
   "source": [
    "crypto = Cryptoslave()"
   ]
  },
  {
   "cell_type": "code",
   "execution_count": 37,
   "id": "3eec91f0",
   "metadata": {},
   "outputs": [],
   "source": [
    "X_c = crypto.transform(X, 4, key=False)"
   ]
  },
  {
   "cell_type": "code",
   "execution_count": 38,
   "id": "ab20f119",
   "metadata": {},
   "outputs": [
    {
     "name": "stdout",
     "output_type": "stream",
     "text": [
      "Коэффициент детерминации: 0.4234\n"
     ]
    }
   ],
   "source": [
    "ml_slave(X_c, y)"
   ]
  },
  {
   "cell_type": "markdown",
   "id": "fe1adc59",
   "metadata": {},
   "source": [
    "## Итоги"
   ]
  },
  {
   "cell_type": "markdown",
   "id": "398100a7",
   "metadata": {},
   "source": [
    "Мы математически доказали неизменность результатов предсказаний для линейной регрессии, при перемножении матрицы признаков на случайную квадратную матрицу.\n",
    "\n",
    "\n",
    "На основании чего нами был подготовлен алгоритм шифрования, для удобного использования в пайплайнах заказчика. Он позволяет визуально исказить данные, сохранив анонимность. Но при этом удобен в использовании, возвращает необходимые значения, при наличии ключа, который генерирует по запросу."
   ]
  }
 ],
 "metadata": {
  "ExecuteTimeLog": [
   {
    "duration": 1671,
    "start_time": "2022-01-19T16:10:32.971Z"
   },
   {
    "duration": 3633,
    "start_time": "2022-01-19T16:10:37.643Z"
   },
   {
    "duration": -239,
    "start_time": "2022-01-19T16:10:41.517Z"
   },
   {
    "duration": -245,
    "start_time": "2022-01-19T16:10:41.524Z"
   },
   {
    "duration": 235,
    "start_time": "2022-01-19T16:11:18.758Z"
   },
   {
    "duration": 234,
    "start_time": "2022-01-19T16:11:42.976Z"
   },
   {
    "duration": 2,
    "start_time": "2022-01-19T16:11:50.411Z"
   },
   {
    "duration": 221,
    "start_time": "2022-01-19T16:11:59.219Z"
   },
   {
    "duration": 13,
    "start_time": "2022-01-19T16:11:59.441Z"
   },
   {
    "duration": 7,
    "start_time": "2022-01-19T16:12:03.053Z"
   },
   {
    "duration": 4,
    "start_time": "2022-01-19T16:12:43.046Z"
   },
   {
    "duration": 6,
    "start_time": "2022-01-19T16:12:43.614Z"
   },
   {
    "duration": 7,
    "start_time": "2022-01-19T16:12:53.606Z"
   },
   {
    "duration": 6,
    "start_time": "2022-01-19T16:12:53.772Z"
   },
   {
    "duration": 7,
    "start_time": "2022-01-19T16:12:54.160Z"
   },
   {
    "duration": 7,
    "start_time": "2022-01-19T16:12:54.438Z"
   },
   {
    "duration": 5,
    "start_time": "2022-01-19T16:13:41.863Z"
   },
   {
    "duration": 3,
    "start_time": "2022-01-19T16:13:42.543Z"
   },
   {
    "duration": 10,
    "start_time": "2022-01-19T16:13:43.212Z"
   },
   {
    "duration": 5,
    "start_time": "2022-01-19T16:13:44.508Z"
   },
   {
    "duration": 3,
    "start_time": "2022-01-19T16:13:45.151Z"
   },
   {
    "duration": 5,
    "start_time": "2022-01-19T16:13:46.733Z"
   },
   {
    "duration": 23,
    "start_time": "2022-01-19T16:14:03.855Z"
   },
   {
    "duration": 5,
    "start_time": "2022-01-19T16:14:11.833Z"
   },
   {
    "duration": 2259,
    "start_time": "2022-01-19T16:14:12.815Z"
   },
   {
    "duration": 5,
    "start_time": "2022-01-19T16:45:57.268Z"
   },
   {
    "duration": 3,
    "start_time": "2022-01-19T16:45:58.437Z"
   },
   {
    "duration": 4,
    "start_time": "2022-01-19T16:45:59.798Z"
   },
   {
    "duration": 12,
    "start_time": "2022-01-19T16:46:00.295Z"
   },
   {
    "duration": 5,
    "start_time": "2022-01-19T16:46:00.480Z"
   },
   {
    "duration": 8,
    "start_time": "2022-01-19T16:46:01.429Z"
   },
   {
    "duration": 9,
    "start_time": "2022-01-19T16:46:01.614Z"
   },
   {
    "duration": 9,
    "start_time": "2022-01-19T16:46:01.961Z"
   },
   {
    "duration": 3,
    "start_time": "2022-01-19T16:46:03.300Z"
   },
   {
    "duration": 8,
    "start_time": "2022-01-19T16:46:03.478Z"
   },
   {
    "duration": 4,
    "start_time": "2022-01-19T16:46:03.808Z"
   },
   {
    "duration": 5,
    "start_time": "2022-01-19T16:46:03.969Z"
   },
   {
    "duration": 8,
    "start_time": "2022-01-19T16:46:04.127Z"
   },
   {
    "duration": 4,
    "start_time": "2022-01-19T16:46:04.812Z"
   },
   {
    "duration": 8,
    "start_time": "2022-01-19T16:46:04.986Z"
   },
   {
    "duration": 3,
    "start_time": "2022-01-19T16:46:05.160Z"
   },
   {
    "duration": 4,
    "start_time": "2022-01-19T16:46:05.484Z"
   },
   {
    "duration": 9,
    "start_time": "2022-01-19T16:46:05.689Z"
   }
  ],
  "kernelspec": {
   "display_name": "Python 3 (ipykernel)",
   "language": "python",
   "name": "python3"
  },
  "language_info": {
   "codemirror_mode": {
    "name": "ipython",
    "version": 3
   },
   "file_extension": ".py",
   "mimetype": "text/x-python",
   "name": "python",
   "nbconvert_exporter": "python",
   "pygments_lexer": "ipython3",
   "version": "3.7.11"
  },
  "toc": {
   "base_numbering": 1,
   "nav_menu": {},
   "number_sections": true,
   "sideBar": true,
   "skip_h1_title": true,
   "title_cell": "Table of Contents",
   "title_sidebar": "Contents",
   "toc_cell": true,
   "toc_position": {},
   "toc_section_display": true,
   "toc_window_display": true
  }
 },
 "nbformat": 4,
 "nbformat_minor": 5
}
