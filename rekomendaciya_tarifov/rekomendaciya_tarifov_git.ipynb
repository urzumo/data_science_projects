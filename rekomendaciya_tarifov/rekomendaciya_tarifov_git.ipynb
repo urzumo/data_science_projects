{
 "cells": [
  {
   "cell_type": "markdown",
   "metadata": {},
   "source": [
    "# РЕКОМЕНДАЦИЯ ТАРИФОВ"
   ]
  },
  {
   "cell_type": "markdown",
   "metadata": {},
   "source": [
    "## Описание задачи"
   ]
  },
  {
   "cell_type": "markdown",
   "metadata": {},
   "source": [
    "### Постановка задачи"
   ]
  },
  {
   "cell_type": "markdown",
   "metadata": {},
   "source": [
    "Заказчиком выступает Оператор мобильной связи «Мегалайн». Многие клиенты пользуются архивными тарифами. Заказчик предоставил данные о поведении клиентов, которые уже перешли на эти тарифы. \n",
    "\n",
    "**Описание модели:**\n",
    "1. Модель должна проанализировать поведение клиентов и предложить пользователям новый тариф: «Смарт» или «Ультра».\n",
    "2. Значение *accuracy* необходимо довести хотя бы до 0.75. "
   ]
  },
  {
   "cell_type": "markdown",
   "metadata": {},
   "source": [
    "### Ход исполнения"
   ]
  },
  {
   "cell_type": "markdown",
   "metadata": {},
   "source": [
    "1. Разделим исходные данные на обучающую, валидационную и тестовую выборки.\n",
    "2. Исследуем качество разных моделей, меняя гиперпараметры. Кратко опишем выводы исследования.\n",
    "3. Проверим качество модели на тестовой выборке.\n",
    "4. Проверим модели на вменяемость."
   ]
  },
  {
   "cell_type": "markdown",
   "metadata": {},
   "source": [
    "## Обзор данных"
   ]
  },
  {
   "cell_type": "markdown",
   "metadata": {},
   "source": [
    "### Загрузка данных"
   ]
  },
  {
   "cell_type": "code",
   "execution_count": 1,
   "metadata": {},
   "outputs": [
    {
     "name": "stderr",
     "output_type": "stream",
     "text": [
      "In C:\\Users\\1\\anaconda3\\envs\\praktikum\\lib\\site-packages\\matplotlib\\mpl-data\\stylelib\\_classic_test.mplstyle: \n",
      "The text.latex.preview rcparam was deprecated in Matplotlib 3.3 and will be removed two minor releases later.\n",
      "In C:\\Users\\1\\anaconda3\\envs\\praktikum\\lib\\site-packages\\matplotlib\\mpl-data\\stylelib\\_classic_test.mplstyle: \n",
      "The mathtext.fallback_to_cm rcparam was deprecated in Matplotlib 3.3 and will be removed two minor releases later.\n",
      "In C:\\Users\\1\\anaconda3\\envs\\praktikum\\lib\\site-packages\\matplotlib\\mpl-data\\stylelib\\_classic_test.mplstyle: Support for setting the 'mathtext.fallback_to_cm' rcParam is deprecated since 3.3 and will be removed two minor releases later; use 'mathtext.fallback : 'cm' instead.\n",
      "In C:\\Users\\1\\anaconda3\\envs\\praktikum\\lib\\site-packages\\matplotlib\\mpl-data\\stylelib\\_classic_test.mplstyle: \n",
      "The validate_bool_maybe_none function was deprecated in Matplotlib 3.3 and will be removed two minor releases later.\n",
      "In C:\\Users\\1\\anaconda3\\envs\\praktikum\\lib\\site-packages\\matplotlib\\mpl-data\\stylelib\\_classic_test.mplstyle: \n",
      "The savefig.jpeg_quality rcparam was deprecated in Matplotlib 3.3 and will be removed two minor releases later.\n",
      "In C:\\Users\\1\\anaconda3\\envs\\praktikum\\lib\\site-packages\\matplotlib\\mpl-data\\stylelib\\_classic_test.mplstyle: \n",
      "The keymap.all_axes rcparam was deprecated in Matplotlib 3.3 and will be removed two minor releases later.\n",
      "In C:\\Users\\1\\anaconda3\\envs\\praktikum\\lib\\site-packages\\matplotlib\\mpl-data\\stylelib\\_classic_test.mplstyle: \n",
      "The animation.avconv_path rcparam was deprecated in Matplotlib 3.3 and will be removed two minor releases later.\n",
      "In C:\\Users\\1\\anaconda3\\envs\\praktikum\\lib\\site-packages\\matplotlib\\mpl-data\\stylelib\\_classic_test.mplstyle: \n",
      "The animation.avconv_args rcparam was deprecated in Matplotlib 3.3 and will be removed two minor releases later.\n"
     ]
    }
   ],
   "source": [
    "# импортируем необходимые нам библиотеки для работы с данными\n",
    "import pandas as pd\n",
    "import numpy as np\n",
    "import matplotlib.pyplot as plt\n",
    "\n",
    "# импорт моделей\n",
    "from sklearn.linear_model import LogisticRegression\n",
    "from sklearn.tree import DecisionTreeClassifier\n",
    "from sklearn.ensemble import RandomForestClassifier\n",
    "from sklearn.dummy import DummyClassifier\n",
    "\n",
    "# импорт вспомогательных функций\n",
    "from sklearn.model_selection import train_test_split\n",
    "from sklearn.metrics import mean_squared_error\n",
    "from sklearn.metrics import accuracy_score\n",
    "from sklearn.model_selection import GridSearchCV"
   ]
  },
  {
   "cell_type": "code",
   "execution_count": 2,
   "metadata": {},
   "outputs": [],
   "source": [
    "# читаем файл и сохраняем в переменные дальнейшей работы, в том числе изменений\n",
    "# используем оператор обработки исключений, чтобы избежать ошибки, при открытии данных,\n",
    "# расположенных по другому адресу \n",
    "try: \n",
    "    df = pd.read_csv('/datasets/users_behavior.csv')\n",
    "except:\n",
    "    df = pd.read_csv('datasets/users_behavior.csv')\n",
    "    \n",
    "try: \n",
    "    df_control = pd.read_csv('/datasets/users_behavior.csv')\n",
    "except:\n",
    "    df_control = pd.read_csv('datasets/users_behavior.csv')"
   ]
  },
  {
   "cell_type": "code",
   "execution_count": 3,
   "metadata": {},
   "outputs": [
    {
     "data": {
      "text/html": [
       "<div>\n",
       "<style scoped>\n",
       "    .dataframe tbody tr th:only-of-type {\n",
       "        vertical-align: middle;\n",
       "    }\n",
       "\n",
       "    .dataframe tbody tr th {\n",
       "        vertical-align: top;\n",
       "    }\n",
       "\n",
       "    .dataframe thead th {\n",
       "        text-align: right;\n",
       "    }\n",
       "</style>\n",
       "<table border=\"1\" class=\"dataframe\">\n",
       "  <thead>\n",
       "    <tr style=\"text-align: right;\">\n",
       "      <th></th>\n",
       "      <th>calls</th>\n",
       "      <th>minutes</th>\n",
       "      <th>messages</th>\n",
       "      <th>mb_used</th>\n",
       "      <th>is_ultra</th>\n",
       "    </tr>\n",
       "  </thead>\n",
       "  <tbody>\n",
       "    <tr>\n",
       "      <th>1719</th>\n",
       "      <td>62.0</td>\n",
       "      <td>545.53</td>\n",
       "      <td>3.0</td>\n",
       "      <td>4942.50</td>\n",
       "      <td>0</td>\n",
       "    </tr>\n",
       "    <tr>\n",
       "      <th>2922</th>\n",
       "      <td>74.0</td>\n",
       "      <td>498.09</td>\n",
       "      <td>97.0</td>\n",
       "      <td>16471.48</td>\n",
       "      <td>0</td>\n",
       "    </tr>\n",
       "    <tr>\n",
       "      <th>1895</th>\n",
       "      <td>93.0</td>\n",
       "      <td>630.74</td>\n",
       "      <td>54.0</td>\n",
       "      <td>13246.51</td>\n",
       "      <td>0</td>\n",
       "    </tr>\n",
       "    <tr>\n",
       "      <th>161</th>\n",
       "      <td>58.0</td>\n",
       "      <td>394.15</td>\n",
       "      <td>48.0</td>\n",
       "      <td>15605.44</td>\n",
       "      <td>0</td>\n",
       "    </tr>\n",
       "    <tr>\n",
       "      <th>255</th>\n",
       "      <td>40.0</td>\n",
       "      <td>225.89</td>\n",
       "      <td>12.0</td>\n",
       "      <td>13581.94</td>\n",
       "      <td>0</td>\n",
       "    </tr>\n",
       "  </tbody>\n",
       "</table>\n",
       "</div>"
      ],
      "text/plain": [
       "      calls  minutes  messages   mb_used  is_ultra\n",
       "1719   62.0   545.53       3.0   4942.50         0\n",
       "2922   74.0   498.09      97.0  16471.48         0\n",
       "1895   93.0   630.74      54.0  13246.51         0\n",
       "161    58.0   394.15      48.0  15605.44         0\n",
       "255    40.0   225.89      12.0  13581.94         0"
      ]
     },
     "metadata": {},
     "output_type": "display_data"
    },
    {
     "name": "stdout",
     "output_type": "stream",
     "text": [
      "=============================================\n"
     ]
    },
    {
     "data": {
      "text/html": [
       "<div>\n",
       "<style scoped>\n",
       "    .dataframe tbody tr th:only-of-type {\n",
       "        vertical-align: middle;\n",
       "    }\n",
       "\n",
       "    .dataframe tbody tr th {\n",
       "        vertical-align: top;\n",
       "    }\n",
       "\n",
       "    .dataframe thead th {\n",
       "        text-align: right;\n",
       "    }\n",
       "</style>\n",
       "<table border=\"1\" class=\"dataframe\">\n",
       "  <thead>\n",
       "    <tr style=\"text-align: right;\">\n",
       "      <th></th>\n",
       "      <th>calls</th>\n",
       "      <th>minutes</th>\n",
       "      <th>messages</th>\n",
       "      <th>mb_used</th>\n",
       "      <th>is_ultra</th>\n",
       "    </tr>\n",
       "  </thead>\n",
       "  <tbody>\n",
       "    <tr>\n",
       "      <th>1719</th>\n",
       "      <td>62.0</td>\n",
       "      <td>545.53</td>\n",
       "      <td>3.0</td>\n",
       "      <td>4942.50</td>\n",
       "      <td>0</td>\n",
       "    </tr>\n",
       "    <tr>\n",
       "      <th>2922</th>\n",
       "      <td>74.0</td>\n",
       "      <td>498.09</td>\n",
       "      <td>97.0</td>\n",
       "      <td>16471.48</td>\n",
       "      <td>0</td>\n",
       "    </tr>\n",
       "    <tr>\n",
       "      <th>1895</th>\n",
       "      <td>93.0</td>\n",
       "      <td>630.74</td>\n",
       "      <td>54.0</td>\n",
       "      <td>13246.51</td>\n",
       "      <td>0</td>\n",
       "    </tr>\n",
       "    <tr>\n",
       "      <th>161</th>\n",
       "      <td>58.0</td>\n",
       "      <td>394.15</td>\n",
       "      <td>48.0</td>\n",
       "      <td>15605.44</td>\n",
       "      <td>0</td>\n",
       "    </tr>\n",
       "    <tr>\n",
       "      <th>255</th>\n",
       "      <td>40.0</td>\n",
       "      <td>225.89</td>\n",
       "      <td>12.0</td>\n",
       "      <td>13581.94</td>\n",
       "      <td>0</td>\n",
       "    </tr>\n",
       "  </tbody>\n",
       "</table>\n",
       "</div>"
      ],
      "text/plain": [
       "      calls  minutes  messages   mb_used  is_ultra\n",
       "1719   62.0   545.53       3.0   4942.50         0\n",
       "2922   74.0   498.09      97.0  16471.48         0\n",
       "1895   93.0   630.74      54.0  13246.51         0\n",
       "161    58.0   394.15      48.0  15605.44         0\n",
       "255    40.0   225.89      12.0  13581.94         0"
      ]
     },
     "metadata": {},
     "output_type": "display_data"
    },
    {
     "name": "stdout",
     "output_type": "stream",
     "text": [
      "=============================================\n"
     ]
    }
   ],
   "source": [
    "# проверим результат, а также ознакомимся с данными\n",
    "# используем метод sample() для случайной выборки\n",
    "# с параметром random_state=1, для сохранения результата \n",
    "# при повторных запусках алгоритма\n",
    "\n",
    "data_list = [df, df_control]\n",
    "\n",
    "for data in data_list:\n",
    "    display(data.sample(5, random_state=1))\n",
    "    print('=' * 45)"
   ]
  },
  {
   "cell_type": "markdown",
   "metadata": {},
   "source": [
    "**Итоги:**\n",
    "\n",
    "Данные подготовлены надлежащим образом."
   ]
  },
  {
   "cell_type": "markdown",
   "metadata": {},
   "source": [
    "### Описание данных"
   ]
  },
  {
   "cell_type": "markdown",
   "metadata": {},
   "source": [
    "Описание данных предоставлено заказчиком.\n",
    "\n",
    "Каждый объект в наборе данных — это информация о поведении одного пользователя за месяц. Известно:\n",
    "- сalls — количество звонков,\n",
    "- minutes — суммарная длительность звонков в минутах,\n",
    "- messages — количество sms-сообщений,\n",
    "- mb_used — израсходованный интернет-трафик в Мб,\n",
    "- is_ultra — каким тарифом пользовался в течение месяца («Ультра» — 1, «Смарт» — 0)."
   ]
  },
  {
   "cell_type": "code",
   "execution_count": 4,
   "metadata": {},
   "outputs": [
    {
     "name": "stdout",
     "output_type": "stream",
     "text": [
      "<class 'pandas.core.frame.DataFrame'>\n",
      "RangeIndex: 3214 entries, 0 to 3213\n",
      "Data columns (total 5 columns):\n",
      " #   Column    Non-Null Count  Dtype  \n",
      "---  ------    --------------  -----  \n",
      " 0   calls     3214 non-null   float64\n",
      " 1   minutes   3214 non-null   float64\n",
      " 2   messages  3214 non-null   float64\n",
      " 3   mb_used   3214 non-null   float64\n",
      " 4   is_ultra  3214 non-null   int64  \n",
      "dtypes: float64(4), int64(1)\n",
      "memory usage: 125.7 KB\n"
     ]
    }
   ],
   "source": [
    "# изучим данные более внимательно\n",
    "df.info()"
   ]
  },
  {
   "cell_type": "markdown",
   "metadata": {},
   "source": [
    "**Итоги:**\n",
    "\n",
    "1. В данных отсутствуют пропуски.\n",
    "2. Данные приведены к подходящему типу."
   ]
  },
  {
   "cell_type": "markdown",
   "metadata": {},
   "source": [
    "## Предобработка данных"
   ]
  },
  {
   "cell_type": "markdown",
   "metadata": {},
   "source": [
    "### Проблемы в данных"
   ]
  },
  {
   "cell_type": "code",
   "execution_count": 5,
   "metadata": {},
   "outputs": [
    {
     "name": "stdout",
     "output_type": "stream",
     "text": [
      "\u001b[1mКоличество явных дубликатов: \u001b[0m 0\n",
      "=============================================\n",
      "\u001b[1mКоличество пропусков в столбце calls:\u001b[0m 0\n",
      "=============================================\n",
      "\n",
      "\u001b[1mКоличество пропусков в столбце minutes:\u001b[0m 0\n",
      "=============================================\n",
      "\n",
      "\u001b[1mКоличество пропусков в столбце messages:\u001b[0m 0\n",
      "=============================================\n",
      "\n",
      "\u001b[1mКоличество пропусков в столбце mb_used:\u001b[0m 0\n",
      "=============================================\n",
      "\n",
      "\u001b[1mКоличество пропусков в столбце is_ultra:\u001b[0m 0\n",
      "=============================================\n",
      "\n"
     ]
    }
   ],
   "source": [
    "# изучим содержание датасета на предмет явных проблем\n",
    "print('\\033[1m' + 'Количество явных дубликатов: ' + '\\033[0m', df.duplicated().sum())\n",
    "print('=' * 45)\n",
    "\n",
    "n=0\n",
    "for column in data:\n",
    "    print('\\033[1m' + f'Количество пропусков в столбце {df.columns[n]}:' + '\\033[0m', \n",
    "              df[column].isna().sum())\n",
    "    print('=' * 45)\n",
    "    print()        \n",
    "    n += 1"
   ]
  },
  {
   "cell_type": "markdown",
   "metadata": {},
   "source": [
    "### Распределение признаков"
   ]
  },
  {
   "cell_type": "markdown",
   "metadata": {},
   "source": [
    "Изучим распределения признаков."
   ]
  },
  {
   "cell_type": "code",
   "execution_count": 6,
   "metadata": {},
   "outputs": [
    {
     "data": {
      "text/html": [
       "<div>\n",
       "<style scoped>\n",
       "    .dataframe tbody tr th:only-of-type {\n",
       "        vertical-align: middle;\n",
       "    }\n",
       "\n",
       "    .dataframe tbody tr th {\n",
       "        vertical-align: top;\n",
       "    }\n",
       "\n",
       "    .dataframe thead th {\n",
       "        text-align: right;\n",
       "    }\n",
       "</style>\n",
       "<table border=\"1\" class=\"dataframe\">\n",
       "  <thead>\n",
       "    <tr style=\"text-align: right;\">\n",
       "      <th></th>\n",
       "      <th>calls</th>\n",
       "      <th>minutes</th>\n",
       "      <th>messages</th>\n",
       "      <th>mb_used</th>\n",
       "      <th>is_ultra</th>\n",
       "    </tr>\n",
       "  </thead>\n",
       "  <tbody>\n",
       "    <tr>\n",
       "      <th>count</th>\n",
       "      <td>3214.000000</td>\n",
       "      <td>3214.000000</td>\n",
       "      <td>3214.000000</td>\n",
       "      <td>3214.000000</td>\n",
       "      <td>3214.000000</td>\n",
       "    </tr>\n",
       "    <tr>\n",
       "      <th>mean</th>\n",
       "      <td>63.038892</td>\n",
       "      <td>438.208787</td>\n",
       "      <td>38.281269</td>\n",
       "      <td>17207.673836</td>\n",
       "      <td>0.306472</td>\n",
       "    </tr>\n",
       "    <tr>\n",
       "      <th>std</th>\n",
       "      <td>33.236368</td>\n",
       "      <td>234.569872</td>\n",
       "      <td>36.148326</td>\n",
       "      <td>7570.968246</td>\n",
       "      <td>0.461100</td>\n",
       "    </tr>\n",
       "    <tr>\n",
       "      <th>min</th>\n",
       "      <td>0.000000</td>\n",
       "      <td>0.000000</td>\n",
       "      <td>0.000000</td>\n",
       "      <td>0.000000</td>\n",
       "      <td>0.000000</td>\n",
       "    </tr>\n",
       "    <tr>\n",
       "      <th>25%</th>\n",
       "      <td>40.000000</td>\n",
       "      <td>274.575000</td>\n",
       "      <td>9.000000</td>\n",
       "      <td>12491.902500</td>\n",
       "      <td>0.000000</td>\n",
       "    </tr>\n",
       "    <tr>\n",
       "      <th>50%</th>\n",
       "      <td>62.000000</td>\n",
       "      <td>430.600000</td>\n",
       "      <td>30.000000</td>\n",
       "      <td>16943.235000</td>\n",
       "      <td>0.000000</td>\n",
       "    </tr>\n",
       "    <tr>\n",
       "      <th>75%</th>\n",
       "      <td>82.000000</td>\n",
       "      <td>571.927500</td>\n",
       "      <td>57.000000</td>\n",
       "      <td>21424.700000</td>\n",
       "      <td>1.000000</td>\n",
       "    </tr>\n",
       "    <tr>\n",
       "      <th>max</th>\n",
       "      <td>244.000000</td>\n",
       "      <td>1632.060000</td>\n",
       "      <td>224.000000</td>\n",
       "      <td>49745.730000</td>\n",
       "      <td>1.000000</td>\n",
       "    </tr>\n",
       "  </tbody>\n",
       "</table>\n",
       "</div>"
      ],
      "text/plain": [
       "             calls      minutes     messages       mb_used     is_ultra\n",
       "count  3214.000000  3214.000000  3214.000000   3214.000000  3214.000000\n",
       "mean     63.038892   438.208787    38.281269  17207.673836     0.306472\n",
       "std      33.236368   234.569872    36.148326   7570.968246     0.461100\n",
       "min       0.000000     0.000000     0.000000      0.000000     0.000000\n",
       "25%      40.000000   274.575000     9.000000  12491.902500     0.000000\n",
       "50%      62.000000   430.600000    30.000000  16943.235000     0.000000\n",
       "75%      82.000000   571.927500    57.000000  21424.700000     1.000000\n",
       "max     244.000000  1632.060000   224.000000  49745.730000     1.000000"
      ]
     },
     "execution_count": 6,
     "metadata": {},
     "output_type": "execute_result"
    }
   ],
   "source": [
    "df.describe()"
   ]
  },
  {
   "cell_type": "code",
   "execution_count": 7,
   "metadata": {},
   "outputs": [
    {
     "data": {
      "image/png": "[encoded data removed]",
      "text/plain": [
       "<Figure size 1440x1080 with 6 Axes>"
      ]
     },
     "metadata": {
      "needs_background": "light"
     },
     "output_type": "display_data"
    }
   ],
   "source": [
    "df.hist(bins=50, figsize=(20,15), edgecolor='black', linewidth=2)\n",
    "plt.show()"
   ]
  },
  {
   "cell_type": "markdown",
   "metadata": {},
   "source": [
    "### Доля целевого признака"
   ]
  },
  {
   "cell_type": "markdown",
   "metadata": {},
   "source": [
    "Для того, чтобы избежать скошенности при обучении, проверим долю целевого признака в общей выборке. Сохраним эти данные для использования позднее, при формировании выборок."
   ]
  },
  {
   "cell_type": "code",
   "execution_count": 8,
   "metadata": {},
   "outputs": [],
   "source": [
    "# напишем функцию, для использования позднее\n",
    "def target_part (data):\n",
    "    '''\n",
    "    Функция высчитывает долю абонентов Ультра в переданном датасете.\n",
    "    data - переданный датасет;\n",
    "    column - столбец датасета data, содержащий данные по тарифу.\n",
    "    '''\n",
    "    result = round((data.sum() / len(data)) * 100, 2)\n",
    "    return result"
   ]
  },
  {
   "cell_type": "code",
   "execution_count": 9,
   "metadata": {},
   "outputs": [
    {
     "name": "stdout",
     "output_type": "stream",
     "text": [
      "Доля абонентов тарифа Ультра в общем датасете составляет: 30.65%.\n"
     ]
    }
   ],
   "source": [
    "# расчитаем доли целевого признака в основном датасете\n",
    "result = target_part (df['is_ultra'])\n",
    "print(f'Доля абонентов тарифа Ультра в общем датасете составляет: {result}%.')"
   ]
  },
  {
   "cell_type": "markdown",
   "metadata": {},
   "source": [
    "**Итоги:**\n",
    "\n",
    "Пропуски и дубликаты отсутствуют. Данные имеют распределение, близкое к колоколообразному для целей МО.\n",
    "Данные предоставлены чистыми и обработанными, дополнительной предобработки не требуется."
   ]
  },
  {
   "cell_type": "markdown",
   "metadata": {},
   "source": [
    "## Формирование выборок"
   ]
  },
  {
   "cell_type": "markdown",
   "metadata": {},
   "source": [
    "### Формирование"
   ]
  },
  {
   "cell_type": "markdown",
   "metadata": {},
   "source": [
    "Извлечем признаки и целевой признак."
   ]
  },
  {
   "cell_type": "code",
   "execution_count": 10,
   "metadata": {},
   "outputs": [],
   "source": [
    "# сформируем фильтры\n",
    "features = ['calls', 'minutes', 'messages', 'mb_used']\n",
    "target = ['is_ultra']"
   ]
  },
  {
   "cell_type": "code",
   "execution_count": 11,
   "metadata": {},
   "outputs": [],
   "source": [
    "# подготовим массивы\n",
    "X = df[features]\n",
    "y = np.ravel(df[target])"
   ]
  },
  {
   "cell_type": "markdown",
   "metadata": {},
   "source": [
    "Подготовим выборки. "
   ]
  },
  {
   "cell_type": "code",
   "execution_count": 12,
   "metadata": {},
   "outputs": [],
   "source": [
    "# подготовим тестовую выборку\n",
    "X_train, X_test, y_train, y_test = train_test_split(X, y, test_size=0.2, random_state=42)"
   ]
  },
  {
   "cell_type": "markdown",
   "metadata": {},
   "source": [
    "Из выделенного сета подготовим обучающую и валидационную выборки. Итоговый размер выборок составит:\n",
    "- Тестовая: 20%;\n",
    "- Валидационная: 20% (0.25 х 0.8 = 0.2);\n",
    "- Обучающая: 60%."
   ]
  },
  {
   "cell_type": "code",
   "execution_count": 13,
   "metadata": {},
   "outputs": [],
   "source": [
    "# подготовим обучающую и валидационную выборки\n",
    "X_train, X_val, y_train, y_val = train_test_split(X_train, y_train, test_size=0.25, random_state=42)"
   ]
  },
  {
   "cell_type": "markdown",
   "metadata": {},
   "source": [
    "Проверим результаты, сравнив длину выборок."
   ]
  },
  {
   "cell_type": "code",
   "execution_count": 14,
   "metadata": {
    "scrolled": true
   },
   "outputs": [
    {
     "name": "stdout",
     "output_type": "stream",
     "text": [
      "0.5998755444928439\n",
      "0.2000622277535781\n",
      "0.2000622277535781\n",
      "Выборки разбиты надлежащим образом\n"
     ]
    }
   ],
   "source": [
    "# выведем длину выборок на экран\n",
    "X_sample_list = [X_train, X_test, X_val]\n",
    "counter = 0\n",
    "for sample in X_sample_list:\n",
    "    print(len(sample)/len(X))\n",
    "    counter += len(sample)/len(X)\n",
    "\n",
    "# проверим их сумму\n",
    "if counter == 1.:\n",
    "    print('Выборки разбиты надлежащим образом')\n",
    "else:\n",
    "    print('Выборки разбиты неправильно!')"
   ]
  },
  {
   "cell_type": "markdown",
   "metadata": {},
   "source": [
    "### Проверка долей целевого признака"
   ]
  },
  {
   "cell_type": "markdown",
   "metadata": {},
   "source": [
    "Проверим выборки на репрезентативность."
   ]
  },
  {
   "cell_type": "code",
   "execution_count": 15,
   "metadata": {},
   "outputs": [
    {
     "name": "stdout",
     "output_type": "stream",
     "text": [
      "Обучающий набор содержит 31.38% абонентов тарифа Ультра.\n",
      "Тестовый набор содержит 29.24% абонентов тарифа Ультра.\n",
      "Валидационный набор содержит 29.86% абонентов тарифа Ультра.\n"
     ]
    }
   ],
   "source": [
    "y_sample_list = [y_train, y_test, y_val]\n",
    "y_name_list = ['Обучающий набор', 'Тестовый набор', 'Валидационный набор']\n",
    "for index, sample in enumerate(y_sample_list):\n",
    "    print(f'{y_name_list[index]} содержит {target_part(sample)}% абонентов тарифа Ультра.')"
   ]
  },
  {
   "cell_type": "markdown",
   "metadata": {},
   "source": [
    "**Итоги:**\n",
    "\n",
    "Подготовлены надлежащие выборки.\n",
    "Распределение целевого признака сохранено."
   ]
  },
  {
   "cell_type": "markdown",
   "metadata": {},
   "source": [
    "## Исследование моделей"
   ]
  },
  {
   "cell_type": "markdown",
   "metadata": {},
   "source": [
    "Зададим целевую accuracy для сравнения моделей."
   ]
  },
  {
   "cell_type": "code",
   "execution_count": 16,
   "metadata": {},
   "outputs": [],
   "source": [
    "target_acc = 0.75"
   ]
  },
  {
   "cell_type": "code",
   "execution_count": 17,
   "metadata": {},
   "outputs": [],
   "source": [
    "def comparator(model_acc, target_acc=target_acc):\n",
    "    '''\n",
    "    Функция сравнивает целевую оценку с оценкой, полученной моделью. \n",
    "    target_acc - целевая accuracy, равная по умолчанию 0.75\n",
    "    model_acc - accuracy обученной модели.\n",
    "    '''\n",
    "    if model_acc >= target_acc:\n",
    "        print('Результат допустимый!')\n",
    "    else:\n",
    "        print('Результат провальный, модель НУЖНО настроить!')"
   ]
  },
  {
   "cell_type": "code",
   "execution_count": 18,
   "metadata": {},
   "outputs": [],
   "source": [
    "# сохраним оценки чистых моделей\n",
    "pure_acc = []"
   ]
  },
  {
   "cell_type": "markdown",
   "metadata": {},
   "source": [
    "### Логистическая регрессия"
   ]
  },
  {
   "cell_type": "markdown",
   "metadata": {},
   "source": [
    "#### Чистая модель"
   ]
  },
  {
   "cell_type": "code",
   "execution_count": 19,
   "metadata": {},
   "outputs": [],
   "source": [
    "# определим модель\n",
    "model = LogisticRegression(random_state=42) \n",
    "\n",
    "# обучим модель\n",
    "model.fit(X_train, y_train) \n",
    "\n",
    "# предскажем\n",
    "predict = model.predict(X_val) "
   ]
  },
  {
   "cell_type": "code",
   "execution_count": 20,
   "metadata": {},
   "outputs": [
    {
     "name": "stdout",
     "output_type": "stream",
     "text": [
      "Точность чистой модели: 0.7200622083981337\n",
      "Результат провальный, модель НУЖНО настроить!\n"
     ]
    }
   ],
   "source": [
    "# проверим accuracy чистой модели\n",
    "print(f'Точность чистой модели: {accuracy_score(y_val, predict)}')\n",
    "comparator(accuracy_score(y_val, predict))\n",
    "pure_acc.append(accuracy_score(y_val, predict))"
   ]
  },
  {
   "cell_type": "markdown",
   "metadata": {},
   "source": [
    "#### Настройка модели"
   ]
  },
  {
   "cell_type": "markdown",
   "metadata": {},
   "source": [
    "Модель показала недостаточно хороший результат. Настроим следующие гиперпараметры:\n",
    "- class_weight;\n",
    "- C - для дополнительного регулирования."
   ]
  },
  {
   "cell_type": "code",
   "execution_count": 21,
   "metadata": {},
   "outputs": [],
   "source": [
    "# определим solver подходящий для небольших датасетов\n",
    "model = LogisticRegression(random_state=42, solver='liblinear') "
   ]
  },
  {
   "cell_type": "code",
   "execution_count": 22,
   "metadata": {},
   "outputs": [],
   "source": [
    "# определим грид для настройки\n",
    "param_grid = [\n",
    "    {'class_weight': [None, 'balanced'], 'C': [0.5, 1.0, 1.5, 2.0]} \n",
    "]"
   ]
  },
  {
   "cell_type": "code",
   "execution_count": 23,
   "metadata": {},
   "outputs": [],
   "source": [
    "grid_search = GridSearchCV(\n",
    "    model, param_grid, cv=5, \n",
    "    scoring='accuracy', \n",
    "    return_train_score=True\n",
    ")"
   ]
  },
  {
   "cell_type": "code",
   "execution_count": 24,
   "metadata": {},
   "outputs": [
    {
     "data": {
      "text/plain": [
       "GridSearchCV(cv=5,\n",
       "             estimator=LogisticRegression(random_state=42, solver='liblinear'),\n",
       "             param_grid=[{'C': [0.5, 1.0, 1.5, 2.0],\n",
       "                          'class_weight': [None, 'balanced']}],\n",
       "             return_train_score=True, scoring='accuracy')"
      ]
     },
     "execution_count": 24,
     "metadata": {},
     "output_type": "execute_result"
    }
   ],
   "source": [
    "grid_search.fit(X_train, y_train)"
   ]
  },
  {
   "cell_type": "markdown",
   "metadata": {},
   "source": [
    "Проверим *accuracy* настроенной модели."
   ]
  },
  {
   "cell_type": "code",
   "execution_count": 25,
   "metadata": {},
   "outputs": [],
   "source": [
    "# определим модель\n",
    "model = grid_search.best_estimator_\n",
    "\n",
    "# обучим модель\n",
    "model.fit(X_train, y_train) \n",
    "\n",
    "# предскажем\n",
    "predict = model.predict(X_val) "
   ]
  },
  {
   "cell_type": "code",
   "execution_count": 26,
   "metadata": {
    "scrolled": true
   },
   "outputs": [
    {
     "name": "stdout",
     "output_type": "stream",
     "text": [
      "Точность настроенной модели: 0.7231726283048211\n",
      "Результат провальный, модель НУЖНО настроить!\n"
     ]
    }
   ],
   "source": [
    "# проверим accuracy настроенной модели\n",
    "print(f'Точность настроенной модели: {accuracy_score(y_val, predict)}')\n",
    "comparator(accuracy_score(y_val, predict))"
   ]
  },
  {
   "cell_type": "code",
   "execution_count": 27,
   "metadata": {},
   "outputs": [],
   "source": [
    "# сохраним модель для дальнейшего использования\n",
    "LR_model = grid_search.best_estimator_ "
   ]
  },
  {
   "cell_type": "markdown",
   "metadata": {},
   "source": [
    "**Итоги:**\n",
    "\n",
    "Модель демонстрирует невысокие результаты независимо от настроек гиперпараметров."
   ]
  },
  {
   "cell_type": "markdown",
   "metadata": {},
   "source": [
    "### Дерево решений"
   ]
  },
  {
   "cell_type": "markdown",
   "metadata": {},
   "source": [
    "#### Чистая модель"
   ]
  },
  {
   "cell_type": "code",
   "execution_count": 28,
   "metadata": {},
   "outputs": [],
   "source": [
    "# обучим модель\n",
    "model = DecisionTreeClassifier(random_state=42) \n",
    "model.fit(X_train, y_train) \n",
    "\n",
    "# предскажем \n",
    "predictions = model.predict(X_val) "
   ]
  },
  {
   "cell_type": "code",
   "execution_count": 29,
   "metadata": {},
   "outputs": [
    {
     "name": "stdout",
     "output_type": "stream",
     "text": [
      "Точность чистой модели: 0.7309486780715396\n",
      "Результат провальный, модель НУЖНО настроить!\n"
     ]
    }
   ],
   "source": [
    "# проверим accuracy чистой модели\n",
    "print(f'Точность чистой модели: {accuracy_score(y_val, predictions)}')\n",
    "comparator(accuracy_score(y_val, predictions))\n",
    "pure_acc.append(accuracy_score(y_val, predictions))"
   ]
  },
  {
   "cell_type": "markdown",
   "metadata": {},
   "source": [
    "#### Настройка модели"
   ]
  },
  {
   "cell_type": "code",
   "execution_count": 30,
   "metadata": {},
   "outputs": [],
   "source": [
    "model = DecisionTreeClassifier(random_state=42) "
   ]
  },
  {
   "cell_type": "code",
   "execution_count": 31,
   "metadata": {},
   "outputs": [],
   "source": [
    "# определим грид для настройки\n",
    "param_grid = [\n",
    "    {'max_depth': range(1, 10), \n",
    "     'criterion': ['gini', 'entropy'], \n",
    "     'splitter': ['random', 'best'], \n",
    "     'min_samples_leaf': range(1, 10)} \n",
    "]"
   ]
  },
  {
   "cell_type": "code",
   "execution_count": 32,
   "metadata": {},
   "outputs": [],
   "source": [
    "grid_search = GridSearchCV(\n",
    "    model, param_grid, cv=5, \n",
    "    scoring='accuracy', \n",
    "    return_train_score=True\n",
    ")"
   ]
  },
  {
   "cell_type": "code",
   "execution_count": 33,
   "metadata": {},
   "outputs": [
    {
     "data": {
      "text/plain": [
       "GridSearchCV(cv=5, estimator=DecisionTreeClassifier(random_state=42),\n",
       "             param_grid=[{'criterion': ['gini', 'entropy'],\n",
       "                          'max_depth': range(1, 10),\n",
       "                          'min_samples_leaf': range(1, 10),\n",
       "                          'splitter': ['random', 'best']}],\n",
       "             return_train_score=True, scoring='accuracy')"
      ]
     },
     "execution_count": 33,
     "metadata": {},
     "output_type": "execute_result"
    }
   ],
   "source": [
    "grid_search.fit(X_train, y_train)"
   ]
  },
  {
   "cell_type": "markdown",
   "metadata": {},
   "source": [
    "Проверим *accuracy* настроенной модели."
   ]
  },
  {
   "cell_type": "code",
   "execution_count": 34,
   "metadata": {},
   "outputs": [],
   "source": [
    "# определим модель\n",
    "model = grid_search.best_estimator_\n",
    "\n",
    "# обучим модель\n",
    "model.fit(X_train, y_train) \n",
    "\n",
    "# предскажем\n",
    "predict = model.predict(X_val) "
   ]
  },
  {
   "cell_type": "code",
   "execution_count": 35,
   "metadata": {
    "scrolled": false
   },
   "outputs": [
    {
     "name": "stdout",
     "output_type": "stream",
     "text": [
      "Точность настроенной модели: 0.7978227060653188\n",
      "Результат допустимый!\n"
     ]
    }
   ],
   "source": [
    "# проверим accuracy настроенной модели\n",
    "print(f'Точность настроенной модели: {accuracy_score(y_val, predict)}')\n",
    "comparator(accuracy_score(y_val, predict))"
   ]
  },
  {
   "cell_type": "code",
   "execution_count": 36,
   "metadata": {},
   "outputs": [],
   "source": [
    "# сохраним модель для дальнейшего использования\n",
    "DTC_model = grid_search.best_estimator_ "
   ]
  },
  {
   "cell_type": "markdown",
   "metadata": {},
   "source": [
    "**Итоги:**\n",
    "\n",
    "Настроенная модель показала лучший результат почти на 8%."
   ]
  },
  {
   "cell_type": "markdown",
   "metadata": {},
   "source": [
    "### Рандомный лес"
   ]
  },
  {
   "cell_type": "markdown",
   "metadata": {},
   "source": [
    "#### Чистая модель"
   ]
  },
  {
   "cell_type": "code",
   "execution_count": 37,
   "metadata": {},
   "outputs": [],
   "source": [
    "# обучим модель\n",
    "model = RandomForestClassifier(random_state=42)\n",
    "model.fit(X_train, y_train) \n",
    "    \n",
    "# предскажем\n",
    "predictions = model.predict(X_val)"
   ]
  },
  {
   "cell_type": "code",
   "execution_count": 38,
   "metadata": {},
   "outputs": [
    {
     "name": "stdout",
     "output_type": "stream",
     "text": [
      "Точность чистой модели: 0.7947122861586314\n",
      "Результат допустимый!\n"
     ]
    }
   ],
   "source": [
    "# проверим accuracy чистой модели\n",
    "print(f'Точность чистой модели: {accuracy_score(y_val, predictions)}')\n",
    "comparator(accuracy_score(y_val, predictions))\n",
    "pure_acc.append(accuracy_score(y_val, predictions))"
   ]
  },
  {
   "cell_type": "markdown",
   "metadata": {},
   "source": [
    "#### Настройка модели"
   ]
  },
  {
   "cell_type": "code",
   "execution_count": 39,
   "metadata": {},
   "outputs": [],
   "source": [
    "model = RandomForestClassifier(random_state=42)"
   ]
  },
  {
   "cell_type": "code",
   "execution_count": 40,
   "metadata": {},
   "outputs": [],
   "source": [
    "# определим грид для настройки\n",
    "param_grid = [\n",
    "    {'n_estimators': range(50, 200, 50), \n",
    "     'criterion': ['gini', 'entropy'], \n",
    "     'min_samples_split': range(2, 10), \n",
    "     'min_samples_leaf': range(1, 10)} \n",
    "]"
   ]
  },
  {
   "cell_type": "code",
   "execution_count": 41,
   "metadata": {},
   "outputs": [],
   "source": [
    "grid_search = GridSearchCV(\n",
    "    model, param_grid, cv=5, \n",
    "    scoring='accuracy', \n",
    "    return_train_score=True\n",
    ")"
   ]
  },
  {
   "cell_type": "code",
   "execution_count": 42,
   "metadata": {},
   "outputs": [
    {
     "data": {
      "text/plain": [
       "GridSearchCV(cv=5, estimator=RandomForestClassifier(random_state=42),\n",
       "             param_grid=[{'criterion': ['gini', 'entropy'],\n",
       "                          'min_samples_leaf': range(1, 10),\n",
       "                          'min_samples_split': range(2, 10),\n",
       "                          'n_estimators': range(50, 200, 50)}],\n",
       "             return_train_score=True, scoring='accuracy')"
      ]
     },
     "execution_count": 42,
     "metadata": {},
     "output_type": "execute_result"
    }
   ],
   "source": [
    "grid_search.fit(X_train, y_train)"
   ]
  },
  {
   "cell_type": "markdown",
   "metadata": {},
   "source": [
    "Проверим *accuracy* настроенной модели."
   ]
  },
  {
   "cell_type": "code",
   "execution_count": 43,
   "metadata": {},
   "outputs": [],
   "source": [
    "# определим модель\n",
    "model = grid_search.best_estimator_ \n",
    "\n",
    "# обучим модель\n",
    "model.fit(X_train, y_train) \n",
    "\n",
    "# предскажем\n",
    "predict = model.predict(X_val) "
   ]
  },
  {
   "cell_type": "code",
   "execution_count": 44,
   "metadata": {
    "scrolled": false
   },
   "outputs": [
    {
     "name": "stdout",
     "output_type": "stream",
     "text": [
      "Точность настроенной модели: 0.7916018662519441\n",
      "Результат допустимый!\n"
     ]
    }
   ],
   "source": [
    "# проверим accuracy настроенной модели\n",
    "print(f'Точность настроенной модели: {accuracy_score(y_val, predict)}')\n",
    "comparator(accuracy_score(y_val, predict))"
   ]
  },
  {
   "cell_type": "code",
   "execution_count": 45,
   "metadata": {},
   "outputs": [],
   "source": [
    "# сохраним модель для дальнейшего использования\n",
    "RFC_model = grid_search.best_estimator_ "
   ]
  },
  {
   "cell_type": "markdown",
   "metadata": {},
   "source": [
    "**Итоги:**\n",
    "\n",
    "1. Чистая модель RandomForest показывает лучший результат из всех (79%!)\n",
    "2. Улучшен"
   ]
  },
  {
   "cell_type": "markdown",
   "metadata": {},
   "source": [
    "## Проверка на тестовой выборке"
   ]
  },
  {
   "cell_type": "code",
   "execution_count": 48,
   "metadata": {},
   "outputs": [],
   "source": [
    "# сформируем список моделей\n",
    "model_list = [LR_model, DTC_model, RFC_model]\n",
    "\n",
    "# соберем в таблицу их показатели\n",
    "model_name = ['LogisticRegression', 'DecisionTreeClassifier', 'RandomForestClassifier']\n",
    "table_model_accuracy = []\n",
    "\n",
    "# объединим обучающую и валидационную выборки для финального обучения\n",
    "X_train_max = pd.concat([X_train, X_val], ignore_index = True)\n",
    "y_train_max = np.concatenate((y_train, y_val))"
   ]
  },
  {
   "cell_type": "code",
   "execution_count": 49,
   "metadata": {},
   "outputs": [],
   "source": [
    "# определим функцию проверки\n",
    "def tariff_oracle(mod):\n",
    "    '''\n",
    "    Функция принимает разные модели в параметры, чтобы вывести их accuracy и сравнить с целевым.\n",
    "    mod - вид модели.\n",
    "    '''\n",
    "    mod.fit(X_train_max, y_train_max) \n",
    "    predictions = mod.predict(X_test)\n",
    "    result = accuracy_score(y_test, predictions)\n",
    "    print(f'Accuracy модели на тестовой выборке: {result:.2}')\n",
    "    comparator(result)    \n",
    "    table_model_accuracy.append(result)"
   ]
  },
  {
   "cell_type": "code",
   "execution_count": 50,
   "metadata": {
    "scrolled": true
   },
   "outputs": [
    {
     "name": "stdout",
     "output_type": "stream",
     "text": [
      "Тестируется модель: LogisticRegression(random_state=42, solver='liblinear')\n",
      "Accuracy модели на тестовой выборке: 0.72\n",
      "Результат провальный, модель НУЖНО настроить!\n",
      "=============================================\n",
      "\n",
      "Тестируется модель: DecisionTreeClassifier(criterion='entropy', max_depth=9, min_samples_leaf=9,\n",
      "                       random_state=42, splitter='random')\n",
      "Accuracy модели на тестовой выборке: 0.79\n",
      "Результат допустимый!\n",
      "=============================================\n",
      "\n",
      "Тестируется модель: RandomForestClassifier(min_samples_leaf=3, min_samples_split=8, n_estimators=50,\n",
      "                       random_state=42)\n",
      "Accuracy модели на тестовой выборке: 0.82\n",
      "Результат допустимый!\n",
      "=============================================\n",
      "\n"
     ]
    }
   ],
   "source": [
    "# проверим все модели на тестовой выборке\n",
    "for mod in model_list:\n",
    "    print(f'Тестируется модель: {mod}')\n",
    "    tariff_oracle(mod)\n",
    "    print('=' * 45)\n",
    "    print()"
   ]
  },
  {
   "cell_type": "code",
   "execution_count": 52,
   "metadata": {},
   "outputs": [
    {
     "data": {
      "text/html": [
       "<div>\n",
       "<style scoped>\n",
       "    .dataframe tbody tr th:only-of-type {\n",
       "        vertical-align: middle;\n",
       "    }\n",
       "\n",
       "    .dataframe tbody tr th {\n",
       "        vertical-align: top;\n",
       "    }\n",
       "\n",
       "    .dataframe thead th {\n",
       "        text-align: right;\n",
       "    }\n",
       "</style>\n",
       "<table border=\"1\" class=\"dataframe\">\n",
       "  <thead>\n",
       "    <tr style=\"text-align: right;\">\n",
       "      <th></th>\n",
       "      <th>Model</th>\n",
       "      <th>Accuracy</th>\n",
       "      <th>Pure_acc</th>\n",
       "    </tr>\n",
       "  </thead>\n",
       "  <tbody>\n",
       "    <tr>\n",
       "      <th>0</th>\n",
       "      <td>LogisticRegression</td>\n",
       "      <td>0.720062</td>\n",
       "      <td>0.720062</td>\n",
       "    </tr>\n",
       "    <tr>\n",
       "      <th>1</th>\n",
       "      <td>DecisionTreeClassifier</td>\n",
       "      <td>0.793157</td>\n",
       "      <td>0.730949</td>\n",
       "    </tr>\n",
       "    <tr>\n",
       "      <th>2</th>\n",
       "      <td>RandomForestClassifier</td>\n",
       "      <td>0.816485</td>\n",
       "      <td>0.794712</td>\n",
       "    </tr>\n",
       "  </tbody>\n",
       "</table>\n",
       "</div>"
      ],
      "text/plain": [
       "                    Model  Accuracy  Pure_acc\n",
       "0      LogisticRegression  0.720062  0.720062\n",
       "1  DecisionTreeClassifier  0.793157  0.730949\n",
       "2  RandomForestClassifier  0.816485  0.794712"
      ]
     },
     "execution_count": 52,
     "metadata": {},
     "output_type": "execute_result"
    }
   ],
   "source": [
    "# сформируем сводную таблицу \n",
    "table_of_models = pd.DataFrame(\n",
    "    {'Model': model_name, 'Accuracy': table_model_accuracy, \n",
    "    'Pure_acc': pure_acc}\n",
    ")               \n",
    "pd.set_option('max_colwidth', 400)\n",
    "table_of_models"
   ]
  },
  {
   "cell_type": "markdown",
   "metadata": {},
   "source": [
    "**Итоги:**\n",
    "\n",
    "1. RandomForest показал лучший результат. Но является самым долгообучаемым и сложно настраиваемым. Кроме того, лес склонен к переобучению.\n",
    "2. Логистическая регрессия показала худший результат - из-за большого количества параметров с разнообразной корреляцией. Более того, настроенная модель показала чуть худшие результаты на тестовой выборке.\n",
    "3. Дерево решений - показало результат на 2.3% хуже леса. Если для заказчика быстрота и произодительность моделей в приоритете, то стоит выбрать эту модель."
   ]
  },
  {
   "cell_type": "markdown",
   "metadata": {},
   "source": [
    "## Проверка модели на вменяемость"
   ]
  },
  {
   "cell_type": "markdown",
   "metadata": {},
   "source": [
    "Для проверки на вменяемость, используем случайную модель."
   ]
  },
  {
   "cell_type": "code",
   "execution_count": 53,
   "metadata": {
    "scrolled": true
   },
   "outputs": [
    {
     "name": "stdout",
     "output_type": "stream",
     "text": [
      "Испытываемая стратегия:  {'most_frequent': 0.71}\n",
      "Результат провальный, модель НУЖНО настроить!\n",
      "Испытываемая стратегия:  {'stratified': 0.56}\n",
      "Результат провальный, модель НУЖНО настроить!\n",
      "Испытываемая стратегия:  {'uniform': 0.49}\n",
      "Результат провальный, модель НУЖНО настроить!\n"
     ]
    }
   ],
   "source": [
    "# создадим список стратегий\n",
    "strategies = ['most_frequent', 'stratified', 'uniform']\n",
    "\n",
    "# проверим accuracy по всем стратегиям\n",
    "for strat in strategies:\n",
    "    dc = DummyClassifier(strategy=strat, random_state=42)\n",
    "    dc.fit(X_train, y_train)\n",
    "    predictions = dc.predict(X_test)\n",
    "    res = round(dc.score(predictions, y_test), 2)\n",
    "    print('Испытываемая стратегия: ', {strat:res})\n",
    "    comparator(res)"
   ]
  },
  {
   "cell_type": "markdown",
   "metadata": {},
   "source": [
    "**Итоги:**\n",
    "\n",
    "1. Все стратегии показали худший результат, чем финалист - RandomForest.\n",
    "2. При этом даже настроенная Логистическая регрессия показывает худший результат.\n",
    "3. Дерево решений и Рандомный лес, построенные с помощью МО, демонстрируют большую эффективность и полноту, чем случайные обощения. Поэтому считаем использование МО уместным и подходящим."
   ]
  },
  {
   "cell_type": "markdown",
   "metadata": {},
   "source": [
    "## Итоги"
   ]
  },
  {
   "cell_type": "code",
   "execution_count": 54,
   "metadata": {},
   "outputs": [
    {
     "data": {
      "text/html": [
       "<style type=\"text/css\">\n",
       "</style>\n",
       "<table id=\"T_d299c_\">\n",
       "  <caption>Таблица accuracy настроеных моделей</caption>\n",
       "  <thead>\n",
       "    <tr>\n",
       "      <th class=\"blank level0\" >&nbsp;</th>\n",
       "      <th class=\"col_heading level0 col0\" >Model</th>\n",
       "      <th class=\"col_heading level0 col1\" >Accuracy</th>\n",
       "      <th class=\"col_heading level0 col2\" >Pure_acc</th>\n",
       "    </tr>\n",
       "  </thead>\n",
       "  <tbody>\n",
       "    <tr>\n",
       "      <th id=\"T_d299c_level0_row0\" class=\"row_heading level0 row0\" >0</th>\n",
       "      <td id=\"T_d299c_row0_col0\" class=\"data row0 col0\" >LogisticRegression</td>\n",
       "      <td id=\"T_d299c_row0_col1\" class=\"data row0 col1\" >0.720062</td>\n",
       "      <td id=\"T_d299c_row0_col2\" class=\"data row0 col2\" >0.720062</td>\n",
       "    </tr>\n",
       "    <tr>\n",
       "      <th id=\"T_d299c_level0_row1\" class=\"row_heading level0 row1\" >1</th>\n",
       "      <td id=\"T_d299c_row1_col0\" class=\"data row1 col0\" >DecisionTreeClassifier</td>\n",
       "      <td id=\"T_d299c_row1_col1\" class=\"data row1 col1\" >0.793157</td>\n",
       "      <td id=\"T_d299c_row1_col2\" class=\"data row1 col2\" >0.730949</td>\n",
       "    </tr>\n",
       "    <tr>\n",
       "      <th id=\"T_d299c_level0_row2\" class=\"row_heading level0 row2\" >2</th>\n",
       "      <td id=\"T_d299c_row2_col0\" class=\"data row2 col0\" >RandomForestClassifier</td>\n",
       "      <td id=\"T_d299c_row2_col1\" class=\"data row2 col1\" >0.816485</td>\n",
       "      <td id=\"T_d299c_row2_col2\" class=\"data row2 col2\" >0.794712</td>\n",
       "    </tr>\n",
       "  </tbody>\n",
       "</table>\n"
      ],
      "text/plain": [
       "<pandas.io.formats.style.Styler at 0x222e5c80208>"
      ]
     },
     "metadata": {},
     "output_type": "display_data"
    },
    {
     "name": "stdout",
     "output_type": "stream",
     "text": [
      "Гиперпараметры лучшей модели: RandomForestClassifier(min_samples_leaf=3, min_samples_split=8, n_estimators=50,\n",
      "                       random_state=42)\n"
     ]
    }
   ],
   "source": [
    "display(table_of_models.style.set_caption('Таблица accuracy настроеных моделей'))\n",
    "print(f'Гиперпараметры лучшей модели: {RFC_model}')"
   ]
  },
  {
   "cell_type": "markdown",
   "metadata": {},
   "source": [
    "При решении задачи классификации пользователей, по предпочитаемым ими тарифам, лучший показатель принадлежит модели RandomForestClassifier. При этом Рандомный лес является самым долгообучаемым и сложно настраиваемым (хотя настроенный Рандомный лес показывает результат всего на 2,3% лучше, чем ненастроенный и, фактически, равен Дереву решений). Кроме того, нужно учитывать, что Рандомный лес склонен к переобучению (при наличии данных такого небольшого объема и сложности).\n",
    "\n",
    "Логистическая регрессия показала худший результат - из-за большого количества параметров с разнообразной корреляцией. Ее найстройки практически не меняют итоговой оценки правильности.\n",
    "\n",
    "Дерево решений показало результат на 2,3% хуже Рандомного леса. Если для заказчика быстрота и произодительность моделей в приоритете, то стоит выбрать эту модель."
   ]
  }
 ],
 "metadata": {
  "kernelspec": {
   "display_name": "Python 3 (ipykernel)",
   "language": "python",
   "name": "python3"
  },
  "language_info": {
   "codemirror_mode": {
    "name": "ipython",
    "version": 3
   },
   "file_extension": ".py",
   "mimetype": "text/x-python",
   "name": "python",
   "nbconvert_exporter": "python",
   "pygments_lexer": "ipython3",
   "version": "3.7.11"
  },
  "toc": {
   "base_numbering": 1,
   "nav_menu": {},
   "number_sections": true,
   "sideBar": true,
   "skip_h1_title": true,
   "title_cell": "Table of Contents",
   "title_sidebar": "Contents",
   "toc_cell": false,
   "toc_position": {},
   "toc_section_display": true,
   "toc_window_display": true
  }
 },
 "nbformat": 4,
 "nbformat_minor": 2
}
